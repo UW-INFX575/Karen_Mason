{
 "metadata": {
  "name": "",
  "signature": "sha256:3aeb5e13e4b6996f420e03cfb38e3fc040b1d568f151d313241c0fb174e7d4a7"
 },
 "nbformat": 3,
 "nbformat_minor": 0,
 "worksheets": [
  {
   "cells": [
    {
     "cell_type": "code",
     "collapsed": false,
     "input": [
      "import numpy as np\n",
      "import lda\n",
      "import os\n",
      "import textmining  #for creatindg term document matrix\n",
      "from numpy  import array  #for term matrix\n",
      "import nltk\n",
      "from nltk.corpus import stopwords\n",
      "from nltk.stem.snowball import SnowballStemmer\n",
      "from nltk.collocations import *\n",
      "from nltk.probability import *\n",
      "import matplotlib.pyplot as plt\n",
      "import math\n",
      "import time\n",
      "import cProfile\n",
      "import re\n",
      "import numpy as np\n",
      "from scipy.cluster.hierarchy import linkage\n",
      "from scipy.cluster.hierarchy import dendrogram\n",
      "import matplotlib.pyplot as plt\n",
      "#http://chrisstrelioff.ws/sandbox/2014/11/13/getting_started_with_latent_dirichlet_allocation_in_python.html\n",
      "#Source for how to use LDA"
     ],
     "language": "python",
     "metadata": {},
     "outputs": [],
     "prompt_number": 7
    },
    {
     "cell_type": "code",
     "collapsed": false,
     "input": [
      "print os.getcwd()\n",
      "# set the working directory on Karen's computer\n",
      "#os.chdir('\\Users\\Karen\\Documents')\n",
      "#os.chdir('\\Users\\Karen\\Documents\\575')  # doesn't work"
     ],
     "language": "python",
     "metadata": {},
     "outputs": [
      {
       "output_type": "stream",
       "stream": "stdout",
       "text": [
        "C:\\Users\\Karen\\Documents\\575\\Assignment3\n"
       ]
      }
     ],
     "prompt_number": 2
    },
    {
     "cell_type": "code",
     "collapsed": false,
     "input": [
      "def stem_function(filename):\n",
      "    \"\"\"Function to stem the words in the given files using the Snowball Stemmer \n",
      "    \"\"\"\n",
      "    \n",
      "    stemmer = SnowballStemmer(\"english\",ignore_stopwords = False)\n",
      "    stemmed_words = []\n",
      "\n",
      "    for word in filename:\n",
      "        a = stemmer.stem(word)\n",
      "        stemmed_words.append(a)\n",
      "    return stemmed_words"
     ],
     "language": "python",
     "metadata": {},
     "outputs": [],
     "prompt_number": 43
    },
    {
     "cell_type": "code",
     "collapsed": false,
     "input": [
      "def stop_word(filename):\n",
      "    \"\"\"Remove stop words from the files based on the NLTK stop word list. \n",
      "    \"\"\"\n",
      "    stop = stopwords.words('english')\n",
      "    lstfile_stem_stop = []\n",
      "\n",
      "    for i in filename:\n",
      "        if i not in stop:\n",
      "            a = i\n",
      "            lstfile_stem_stop.append(a)\n",
      "\n",
      "    return lstfile_stem_stop"
     ],
     "language": "python",
     "metadata": {},
     "outputs": [],
     "prompt_number": 44
    },
    {
     "cell_type": "code",
     "collapsed": false,
     "input": [
      "#Open the 10 patent files, read, split stem and remove stop words.\n",
      "#Need to switch to loop for opening and processing the 10 patent files.  Having probelems with my variable name logic. So doing this\n",
      "#the long way until I can figure out how to fix it.\n",
      "\n",
      "all_files = []\n",
      "filename_root = str(633422)\n",
      "\n",
      "for x in range (0,10):     # starting out with 2 files only need to update**********************\n",
      "    filename = filename_root+str(x)+'.txt'\n",
      "    all_files.append(filename)\n",
      "     \n",
      "work_variable0 = open('6334220.txt','r')    \n",
      "work_variable0 = work_variable0.read()   \n",
      "work_variable0 = work_variable0.split()\n",
      "work_variable0 = stem_function(work_variable0)\n",
      "work_variable0 = stop_word(work_variable0)\n",
      "\n",
      "work_variable1 = open('6334221.txt','r')    \n",
      "work_variable1 = work_variable1.read()   \n",
      "work_variable1 = work_variable1.split()\n",
      "work_variable1 = stem_function(work_variable1)\n",
      "work_variable1 = stop_word(work_variable1)\n",
      "\n",
      "work_variable2 = open('6334222.txt','r')    \n",
      "work_variable2 = work_variable2.read()   \n",
      "work_variable2 = work_variable2.split()\n",
      "work_variable2 = stem_function(work_variable2)\n",
      "work_variable2 = stop_word(work_variable2)\n",
      "\n",
      "work_variable3 = open('6334223.txt','r')    \n",
      "work_variable3 = work_variable3.read()   \n",
      "work_variable3 = work_variable3.split()\n",
      "work_variable3 = stem_function(work_variable3)\n",
      "work_variable3 = stop_word(work_variable3)\n",
      "\n",
      "work_variable4 = open('6334224.txt','r')    \n",
      "work_variable4 = work_variable4.read()   \n",
      "work_variable4 = work_variable4.split()\n",
      "work_variable4 = stem_function(work_variable4)\n",
      "work_variable4 = stop_word(work_variable4)\n",
      "\n",
      "work_variable5 = open('6334225.txt','r')    \n",
      "work_variable5 = work_variable5.read()   \n",
      "work_variable5 = work_variable5.split()\n",
      "work_variable5 = stem_function(work_variable5)\n",
      "work_variable5 = stop_word(work_variable5)\n",
      "\n",
      "work_variable6 = open('6334226.txt','r')    \n",
      "work_variable6 = work_variable6.read()   \n",
      "work_variable6 = work_variable6.split()\n",
      "work_variable6 = stem_function(work_variable6)\n",
      "work_variable6 = stop_word(work_variable6)\n",
      "\n",
      "work_variable7 = open('6334227.txt','r')    \n",
      "work_variable7 = work_variable7.read()   \n",
      "work_variable7 = work_variable7.split()\n",
      "work_variable7 = stem_function(work_variable7)\n",
      "work_variable7 = stop_word(work_variable7)\n",
      "\n",
      "work_variable8 = open('6334228.txt','r')    \n",
      "work_variable8 = work_variable8.read()   \n",
      "work_variable8 = work_variable8.split()\n",
      "work_variable8 = stem_function(work_variable8)\n",
      "work_variable8 = stop_word(work_variable8)\n",
      "\n",
      "work_variable9 = open('6334229.txt','r')    \n",
      "work_variable9 = work_variable9.read()   \n",
      "work_variable9 = work_variable9.split()\n",
      "work_variable9 = stem_function(work_variable9)\n",
      "work_variable9 = stop_word(work_variable9)"
     ],
     "language": "python",
     "metadata": {},
     "outputs": [],
     "prompt_number": 236
    },
    {
     "cell_type": "code",
     "collapsed": false,
     "input": [
      "\n",
      "#Used below website for assistance on text miningand topic modeling:\n",
      "#http://www.christianpeccei.com/textmining/ \n",
      "def termdocumentmatrix_patent():\n",
      "    \"\"\" create term doc matrix for the 10 patent files\n",
      "    \"\"\"\n",
      "    # Initialize class to create term-document matrix\n",
      "    tdm = textmining.TermDocumentMatrix()\n",
      "    \n",
      "    # Add the documents.  Need to convert to a loop.  Having trouble with the variable name so will switch when have that resolved.   \n",
      "    tdm.add_doc(str(work_variable0))\n",
      "    tdm.add_doc(str(work_variable1)) \n",
      "    tdm.add_doc(str(work_variable2))\n",
      "    tdm.add_doc(str(work_variable3))\n",
      "    tdm.add_doc(str(work_variable4)) \n",
      "    tdm.add_doc(str(work_variable5))\n",
      "    tdm.add_doc(str(work_variable6))\n",
      "    tdm.add_doc(str(work_variable7)) \n",
      "    tdm.add_doc(str(work_variable8))\n",
      "    tdm.add_doc(str(work_variable9))\n",
      "   \n",
      "    #create separate lists for the tdm vocabulary and the word counts(patent_list) of the tdm.  Add rows to appropriate list.\n",
      "    patent_vocab = []\n",
      "    patent_list = []\n",
      "    \n",
      "    counter = 0\n",
      "    for row in tdm.rows(cutoff=1):\n",
      "        if counter == 0:\n",
      "            patent_vocab.append(row)\n",
      "            counter += 1\n",
      "        elif counter != 0:\n",
      "            patent_list.append(row)\n",
      "            \n",
      "    a = array( patent_list )   \n",
      "    return a , patent_vocab\n",
      "    \n",
      "#termdocumentmatrix_patent()\n",
      "\n",
      "#Used below website for assistance on text miningand topic modeling:\n",
      "#http://www.christianpeccei.com/textmining/ "
     ],
     "language": "python",
     "metadata": {},
     "outputs": [],
     "prompt_number": 237
    },
    {
     "cell_type": "code",
     "collapsed": false,
     "input": [
      "#Details of the patent documents term doc matrix\n",
      "X, vocab = termdocumentmatrix_patent()\n",
      "print(\"type(X): {}\".format(type(X)))\n",
      "print(\"shape: {}\\n\".format(X.shape))\n",
      " \n",
      "print X\n",
      "\n",
      "#to test vocab list\n",
      "print vocab[0][2]\n",
      "print(\"type(vocab): {}\".format(type(vocab)))\n",
      "\n",
      "titles = (\"document 0\", \"document 1\", \"document 2\",\n",
      "          \"document 3\", \"document 4\", \"document 5\",\n",
      "          \"document 6\", \"document 7\", \"document 8\",\n",
      "          \"document 9\")\n",
      "\n",
      "doc_id = 0\n",
      "word_id = 2\n",
      "\n",
      "print(\"doc id: {} word id: {}\".format(doc_id, word_id))\n",
      "print(\"-- count: {}\".format(X[doc_id, word_id]))\n",
      "print(\"-- word : {}\".format(vocab[0][word_id]))\n",
      "\n",
      "\n",
      "X.sum()\n",
      "\n",
      "model = lda.LDA(n_topics=20, n_iter=500, random_state=1)\n",
      "model.fit(X)\n"
     ],
     "language": "python",
     "metadata": {},
     "outputs": [
      {
       "output_type": "stream",
       "stream": "stdout",
       "text": [
        "type(X): <type 'numpy.ndarray'>\n",
        "shape: (10L, 471L)\n",
        "\n",
        "[[  0   0   4 ..., 576   0   0]\n",
        " [  1   0   0 ..., 385   0   2]\n",
        " [  0   0   0 ...,  97   0   0]\n",
        " ..., \n",
        " [  0   0   0 ..., 212   0   0]\n",
        " [  0   0   0 ..., 277   0   0]\n",
        " [  0  13   0 ..., 473   2   0]]\n",
        "joinabl\n",
        "type(vocab): <type 'list'>\n",
        "doc id: 0 word id: 2\n",
        "-- count: 4\n",
        "-- word : joinabl\n"
       ]
      },
      {
       "metadata": {},
       "output_type": "pyout",
       "prompt_number": 238,
       "text": [
        "<lda.lda.LDA instance at 0x0000000016DFFE08>"
       ]
      }
     ],
     "prompt_number": 238
    },
    {
     "cell_type": "code",
     "collapsed": false,
     "input": [
      "#stats on the topic words\n",
      "topic_word = model.topic_word_\n",
      "print(\"type(topic_word): {}\".format(type(topic_word)))\n",
      "print(\"shape: {}\".format(topic_word.shape))\n",
      "\n"
     ],
     "language": "python",
     "metadata": {},
     "outputs": [
      {
       "output_type": "stream",
       "stream": "stdout",
       "text": [
        "type(topic_word): <type 'numpy.ndarray'>\n",
        "shape: (20L, 471L)\n"
       ]
      }
     ],
     "prompt_number": 239
    },
    {
     "cell_type": "code",
     "collapsed": false,
     "input": [
      "#verify for first 5 topics the sum of the probability of distribution is 1. \n",
      "#Just gives us comfort calculating correctly.\n",
      "for n in range(5):\n",
      "    sum_pr = sum(topic_word[n,:])\n",
      "    print(\"topic: {} sum: {}\".format(n, sum_pr))\n"
     ],
     "language": "python",
     "metadata": {},
     "outputs": [
      {
       "output_type": "stream",
       "stream": "stdout",
       "text": [
        "topic: 0 sum: 1.0\n",
        "topic: 1 sum: 1.0\n",
        "topic: 2 sum: 1.0\n",
        "topic: 3 sum: 1.0\n",
        "topic: 4 sum: 1.0\n"
       ]
      }
     ],
     "prompt_number": 240
    },
    {
     "cell_type": "code",
     "collapsed": false,
     "input": [
      "#print the first 5 words of each topic\n",
      "n = 5\n",
      "for i, topic_dist in enumerate(topic_word):\n",
      "    topic_words = np.array(vocab)[0][np.argsort(topic_dist)][:-(n+1):-1]\n",
      "    print('*Topic {}\\n- {}'.format(i, ' '.join(topic_words)))\n"
     ],
     "language": "python",
     "metadata": {},
     "outputs": [
      {
       "output_type": "stream",
       "stream": "stdout",
       "text": [
        "*Topic 0\n",
        "- u said assembl rotari nozzl\n",
        "*Topic 1\n",
        "- set forth bottom upper material\n",
        "*Topic 2\n",
        "- u said general edge perineum\n",
        "*Topic 3\n",
        "- u s wherein accord measur\n",
        "*Topic 4\n",
        "- u said support seat surfac\n",
        "*Topic 5\n",
        "- jet water divid flow inlet\n",
        "*Topic 6\n",
        "- cm claim rate method surfac\n",
        "*Topic 7\n",
        "- first protector second strap section\n",
        "*Topic 8\n",
        "- u wherein one least includ\n",
        "*Topic 9\n",
        "- wherein comprising said one inward\n",
        "*Topic 10\n",
        "- plural tighten defin hole connector\n",
        "*Topic 11\n",
        "- u end posit cover front\n",
        "*Topic 12\n",
        "- u portion sleep bag said\n",
        "*Topic 13\n",
        "- u defin roller semiconductor abras\n",
        "*Topic 14\n",
        "- first second panel devic compris\n",
        "*Topic 15\n",
        "- u member faucet base claim\n",
        "*Topic 16\n",
        "- u wall side seat claim\n",
        "*Topic 17\n",
        "- claim provid main attach two\n",
        "*Topic 18\n",
        "- u bathtub rail inner assembl\n",
        "*Topic 19\n",
        "- claim compris first rotat second\n"
       ]
      }
     ],
     "prompt_number": 241
    },
    {
     "cell_type": "code",
     "collapsed": false,
     "input": [
      "#stats about each of the topics\n",
      "doc_topic = model.doc_topic_\n",
      "print(\"type(doc_topic): {}\".format(type(doc_topic)))\n",
      "print(\"shape: {}\".format(doc_topic.shape))\n"
     ],
     "language": "python",
     "metadata": {},
     "outputs": [
      {
       "output_type": "stream",
       "stream": "stdout",
       "text": [
        "type(doc_topic): <type 'numpy.ndarray'>\n",
        "shape: (10L, 20L)\n"
       ]
      }
     ],
     "prompt_number": 242
    },
    {
     "cell_type": "code",
     "collapsed": false,
     "input": [
      "#for each document the main topic of each one.  Documents were titled by the last number in their name.\n",
      "for n in range(10):\n",
      "    topic_most_pr = doc_topic[n].argmax()\n",
      "    print(\"doc: {} topic: {}\\n{}...\".format(n,topic_most_pr,titles[n][:50]))\n",
      "\n",
      "print(\"type(titles): {}\".format(type(titles)))\n",
      "print(\"len(titles): {}\".format(len(titles)))\n",
      "print(\"titles:\\n\\n\", titles , \"\\n\")\n"
     ],
     "language": "python",
     "metadata": {},
     "outputs": [
      {
       "output_type": "stream",
       "stream": "stdout",
       "text": [
        "doc: 0 topic: 11\n",
        "document 0...\n",
        "doc: 1 topic: 12\n",
        "document 1...\n",
        "doc: 2 topic: 12\n",
        "document 2...\n",
        "doc: 3 topic: 2\n",
        "document 3...\n",
        "doc: 4 topic: 0\n",
        "document 4...\n",
        "doc: 5 topic: 18\n",
        "document 5...\n",
        "doc: 6 topic: 4\n",
        "document 6...\n",
        "doc: 7 topic: 16\n",
        "document 7...\n",
        "doc: 8 topic: 3\n",
        "document 8...\n",
        "doc: 9 topic: 13\n",
        "document 9...\n",
        "type(titles): <type 'tuple'>\n",
        "len(titles): 10\n",
        "('titles:\\n\\n', ('document 0', 'document 1', 'document 2', 'document 3', 'document 4', 'document 5', 'document 6', 'document 7', 'document 8', 'document 9'), '\\n')\n"
       ]
      }
     ],
     "prompt_number": 243
    },
    {
     "cell_type": "code",
     "collapsed": false,
     "input": [
      "#plot for each word in the document, the probability for each topic.  Only 5 topics represented in the graph - selected topics\n",
      "#that were the calculated topics by the topic model above.\n",
      "\n",
      "# use matplotlib style sheet\n",
      "try:\n",
      "    plt.style.use('ggplot')\n",
      "except:\n",
      "    # version of matplotlib might not be recent\n",
      "    pass\n",
      "\n",
      "f, ax= plt.subplots(5, 1, figsize=(8, 6), sharex=True)\n",
      "for i, k in enumerate([11, 12, 13, 16, 18]):\n",
      "    ax[i].stem(topic_word[k,:], linefmt='b-',\n",
      "               markerfmt='bo', basefmt='w-')\n",
      "    ax[i].set_xlim(-50,490)\n",
      "    ax[i].set_ylim(0, 0.08)\n",
      "    ax[i].set_ylabel(\"Prob\")\n",
      "    ax[i].set_title(\"topic {}\".format(k))\n",
      "\n",
      "ax[4].set_xlabel(\"word\")\n",
      "\n",
      "plt.tight_layout()\n",
      "plt.show()\n"
     ],
     "language": "python",
     "metadata": {},
     "outputs": [
      {
       "metadata": {},
       "output_type": "display_data",
       "png": "[encoded data removed]",
       "text": [
        "<matplotlib.figure.Figure at 0x106bf208>"
       ]
      }
     ],
     "prompt_number": 244
    },
    {
     "cell_type": "code",
     "collapsed": false,
     "input": [
      "#by document a plot of each topic probability - only 5 presented for simplicity\n",
      "f, ax= plt.subplots(5, 1, figsize=(8, 6), sharex=True)\n",
      "for i, k in enumerate([0, 1, 2, 3, 4]):\n",
      "    ax[i].stem(doc_topic[k,:], linefmt='r-',\n",
      "               markerfmt='ro', basefmt='w-')\n",
      "    ax[i].set_xlim(-1, 21)\n",
      "    ax[i].set_ylim(0, 1)\n",
      "    ax[i].set_ylabel(\"Prob\")\n",
      "    ax[i].set_title(\"Document {}\".format(k))\n",
      "\n",
      "ax[4].set_xlabel(\"Topic\")\n",
      "\n",
      "plt.tight_layout()\n",
      "plt.show()\n"
     ],
     "language": "python",
     "metadata": {},
     "outputs": [
      {
       "metadata": {},
       "output_type": "display_data",
       "png": "[encoded data removed]",
       "text": [
        "<matplotlib.figure.Figure at 0x106bf128>"
       ]
      }
     ],
     "prompt_number": 245
    },
    {
     "cell_type": "code",
     "collapsed": false,
     "input": [
      "\"\"\" start of jargon distance calculation and then LDA on the toy set\n",
      "\"\"\"\n",
      "# Open toy documents, remove stop words and stem.\n",
      " \n",
      "#Need to fix this so have loop to open files and create variable.  My loop with the variable \n",
      "#name was not working properly.\n",
      "#This will work until I can fix it.  Same problem as above in the LDA section for the patent files\n",
      "toy_variable1 = open('toy_set1.txt','r')    \n",
      "toy_variable1 = toy_variable1.read()   \n",
      "toy_variable1 = toy_variable1.split()\n",
      "toy_variable1 = stem_function(toy_variable1)\n",
      "toy_variable1 = stop_word(toy_variable1)\n",
      "\n",
      "\n",
      "toy_variable2 = open('toy_set2.txt','r')    \n",
      "toy_variable2 = toy_variable2.read()   \n",
      "toy_variable2 = toy_variable2.split()\n",
      "toy_variable2 = stem_function(toy_variable2)\n",
      "toy_variable2 = stop_word(toy_variable2)\n",
      "\n",
      "toy_variable3 = open('toy_set3.txt','r')    \n",
      "toy_variable3 = toy_variable3.read()   \n",
      "toy_variable3 = toy_variable3.split()\n",
      "toy_variable3 = stem_function(toy_variable3)\n",
      "toy_variable3 = stop_word(toy_variable3)\n",
      "\n",
      "toy_variable4 = open('toy_set4.txt','r')    \n",
      "toy_variable4 = toy_variable4.read()   \n",
      "toy_variable4 = toy_variable4.split()\n",
      "toy_variable4 = stem_function(toy_variable4)\n",
      "toy_variable4 = stop_word(toy_variable4)\n",
      "\n",
      "toy_variable5 = open('toy_set5.txt','r')    \n",
      "toy_variable5 = toy_variable5.read()   \n",
      "toy_variable5 = toy_variable5.split()\n",
      "toy_variable5 = stem_function(toy_variable5)\n",
      "toy_variable5 = stop_word(toy_variable5)\n"
     ],
     "language": "python",
     "metadata": {},
     "outputs": [],
     "prompt_number": 246
    },
    {
     "cell_type": "code",
     "collapsed": false,
     "input": [
      "#output of the toy files for reference\n",
      "print toy_variable1\n",
      "print toy_variable2\n",
      "print toy_variable3\n",
      "print toy_variable4\n",
      "print toy_variable5"
     ],
     "language": "python",
     "metadata": {},
     "outputs": [
      {
       "output_type": "stream",
       "stream": "stdout",
       "text": [
        "[u'visit', u'zoo', u'melbourn', u'australia', u'see', u'nativ', u'anim', u'kangaroo', u'koala', u'koala', u'kangaroo', u'marsupi', u'well-known', u'marsupi', u'includ', u'wallabi', u'wombat', u'tasmanian', u'devil']\n",
        "[u'australia', u'learn', u'hunt', u'boomerang', u'aborigin', u'cultur', u'center', u'throw', u'repeat', u'miss', u'fake', u'koala', u'teacher', u'told', u'would', u'vegetarian']\n",
        "[u'honor', u'mother', u'day', u'think', u'mom', u'voraci', u'reader', u'retir', u'elementari', u'school', u'librarian', u'winni', u'pooh', u'book', u'favorit']\n",
        "[u'kid', u'one', u'favorit', u'book', u'housekeep', u'amelia', u'bedelia', u'one', u'book', u'employ', u'ask', u'draw', u'curtain', u'noon', u'prompt', u'noon', u'sat', u'sketch', u'pad', u'drew', u'curtain', u'hillari', u'first', u'grader']\n",
        "[u'children', u'librarian', u'often', u'recommend', u'amelia', u'bedilia', u'winni', u'pooh', 'dr', u'seuss', u'book', u'young', u'reader']\n"
       ]
      }
     ],
     "prompt_number": 247
    },
    {
     "cell_type": "code",
     "collapsed": false,
     "input": [
      "def entropy_dict(words):     \n",
      "    \"\"\"from a list of words, creates a dictionary of the word and its probability(percentage of \n",
      "    times used in document)\n",
      "    \"\"\"\n",
      "    freqdist = nltk.FreqDist(words)\n",
      "    probs_dict = {}\n",
      "    for word in nltk.FreqDist(words):\n",
      "        probs = freqdist.freq(word)\n",
      "        probs_dict[word] = probs\n",
      "    return probs_dict\n",
      "    "
     ],
     "language": "python",
     "metadata": {},
     "outputs": [],
     "prompt_number": 1
    },
    {
     "cell_type": "code",
     "collapsed": false,
     "input": [
      "def shannon_entropy_calc(writer_dict):  \n",
      "    \n",
      "    \"\"\"Calculate the shannon entropy for a dictionary of a writer word list that includes the \n",
      "    probabilities\n",
      "    \"\"\"\n",
      "    \n",
      "    shannon_entropy = 0\n",
      "    for word in writer_dict:\n",
      "        p_of_i_x = writer_dict[word]\n",
      "        shannon_entropy += p_of_i_x * math.log(p_of_i_x,2)    \n",
      "    return shannon_entropy"
     ],
     "language": "python",
     "metadata": {},
     "outputs": [],
     "prompt_number": 2
    },
    {
     "cell_type": "code",
     "collapsed": false,
     "input": [
      "def cross_entropy_calc(writer_dict, reader_dict, corpus_dict): \n",
      "    \"\"\"Calculate the cross entopy  of the jargon distance between a writer and reader.  All inputs are dictionaries\n",
      "    dictionary of word and its probability.\n",
      "    \"\"\"\n",
      "    #Is the writer word in reader codebook? If so, use True if statement logic, otherwise use False \n",
      "    alpha = .01\n",
      "    cross_entropy_diff_dict = 0\n",
      "    cross_entropy1 = 0\n",
      "    cross_entropy_same_dict = 0\n",
      "    cross_entry_sum = 0\n",
      "    for word in writer_dict:        \n",
      "        test_in_dict = word in reader_dict\n",
      "        if test_in_dict == False:\n",
      "            p_of_i = writer_dict[word]            \n",
      "            s = corpus_dict[word]\n",
      "            p_of_iS = (1 - alpha) * p_of_i + (alpha * s)\n",
      "            p_of_jS = s #(1 - alpha) * p_of_j + (alpha * s)            \n",
      "            cross_entropy = p_of_iS * math.log(p_of_jS,2)\n",
      "            cross_entropy_diff_dict += cross_entropy\n",
      "        if test_in_dict == True:             \n",
      "            p_of_i = writer_dict[word]\n",
      "            p_of_j = reader_dict[word]             \n",
      "            cross_entropy1 = p_of_i * math.log(p_of_j,2)\n",
      "            cross_entropy_same_dict += cross_entropy1\n",
      "        cross_entropy_sum = cross_entropy_diff_dict + cross_entropy_same_dict\n",
      "        \n",
      "    return cross_entropy_sum"
     ],
     "language": "python",
     "metadata": {},
     "outputs": [],
     "prompt_number": 3
    },
    {
     "cell_type": "code",
     "collapsed": false,
     "input": [
      "def stop_word_abstract(filename):\n",
      "    \"\"\"Remove stop words from the files based on the abstract stop word list. Takes in a list.\n",
      "    \"\"\"\n",
      "    stop = [\"all\",\"just\",\"being\",\"over\",\"both\",\"through\",\"yourselves\",\"its\",\"before\",\"herself\",\"had\",\"should\",\"to\",\"only\",\"under\",\"ours\",\"has\",\"do\",\"them\",\"his\",\"very\",\"they\",\"not\",\"during\",\"now\",\"him\",\"nor\",\"did\",\"this\",\"she\",\"each\",\"further\",\"where\",\"few\",\"because\",\"doing\",\"some\",\"are\",\"our\",\"ourselves\",\"out\",\"what\",\"for\",\"while\",\"does\",\"above\",\"between\",\"t\",\"be\",\"we\",\"who\",\"were\",\"here\",\"hers\",\"by\",\"on\",\"about\",\"of\",\"against\",\"s\",\"or\",\"own\",\"into\",\"yourself\",\"down\",\"your\",\"from\",\"her\",\"their\",\"there\",\"been\",\"whom\",\"too\",\"themselves\",\"was\",\"until\",\"more\",\"himself\",\"that\",\"but\",\"don\",\"with\",\"than\",\"those\",\"he\",\"me\",\"myself\",\"these\",\"up\",\"will\",\"below\",\"can\",\"theirs\",\"my\",\"and\",\"then\",\"is\",\"am\",\"it\",\"an\",\"as\",\"itself\",\"at\",\"have\",\"in\",\"any\",\"if\",\"again\",\"no\",\"when\",\"same\",\"how\",\"other\",\"which\",\"you\",\"after\",\"most\",\"such\",\"why\",\"a\",\"off\",\"i\",\"yours\",\"so\",\"the\",\"having\",\"once\"]\n",
      "    lstfile_stem_stop = []\n",
      "\n",
      "    for i in filename: \n",
      "        #print i\n",
      "        if i not in stop:\n",
      "            a = i\n",
      "            lstfile_stem_stop.append(a)\n",
      "    \n",
      "    return lstfile_stem_stop\n",
      "\n"
     ],
     "language": "python",
     "metadata": {},
     "outputs": [],
     "prompt_number": 4
    },
    {
     "cell_type": "code",
     "collapsed": false,
     "input": [
      "def create_abstract_dict():\n",
      "    \"\"\"open the file with the abstracts, split it between paper_id and text, remove stop words and create\n",
      "    dictionary with paper_id as key and text(as a string value) as value\n",
      "    \"\"\"\n",
      "    abstract_dict = {}    \n",
      "    with open('abstracts2.txt', \"r\" ) as abstracts:\n",
      "        next(abstracts)  #first row is header\n",
      "        for aRow in abstracts:              \n",
      "            row =  aRow.split('\\t') \n",
      "            text_row = row[1].split()\n",
      "            row_stop = stop_word_abstract(text_row)     \n",
      "            key = row[0] \n",
      "            value = row_stop     \n",
      "            abstract_dict[key] = value\n",
      "    return abstract_dict\n",
      "\n"
     ],
     "language": "python",
     "metadata": {},
     "outputs": [],
     "prompt_number": 5
    },
    {
     "cell_type": "code",
     "collapsed": false,
     "input": [
      "\n",
      "#Changes based on documents provided in class for stop words, group_id, text and paper_id\n",
      "\n",
      "#Convert the groups file to a dictionary with paper_id as key and paper_group as value\n",
      "def create_group_dict():\n",
      "    \"\"\"opens the group file and creates a dictionary with paper_id as key and paper_group as value\n",
      "    \"\"\"\n",
      "    group_dict = {}\n",
      "    with open('groups2.txt', \"r\") as groups:\n",
      "        next(groups)  #first row is header\n",
      "        for aRow in groups:    \n",
      "            row = aRow.split('\\t')\n",
      "            key = row[0]\n",
      "            value = row[-1].strip()\n",
      "            group_dict[key] = value\n",
      "    return group_dict\n",
      "\n",
      "def create_group_set():\n",
      "    \"\"\"create set of group numbers.  Used for iterating through groups to add text.\n",
      "    \"\"\"\n",
      "    group_set = set([])  \n",
      "    for k,v in group_dict.items():\n",
      "        group_set.add(int(v))\n",
      "    return group_set\n"
     ],
     "language": "python",
     "metadata": {},
     "outputs": [],
     "prompt_number": 8
    },
    {
     "cell_type": "code",
     "collapsed": false,
     "input": [
      "#cProfile wrapped around the main part of the cultual holes calculation code\n",
      "import cProfile, pstats, StringIO\n",
      "pr = cProfile.Profile()\n",
      "pr.enable()\n",
      "\n",
      "start_time = time.time()\n",
      "\n",
      "abstract_dict = create_abstract_dict() #create dictionary of abstract paper_id and text\n",
      "group_dict = create_group_dict()  #create dictionary of paper_id and group\n",
      "group_set = create_group_set()  #create set of the group numbers\n",
      "#text_by_group()  #add the text for each paper_id to the appropriate group_list\n",
      "\n",
      "\"\"\"\n",
      "#create a list for each group number.  Will be used to store text for calculation of entropy\n",
      "\"\"\"\n",
      "number_of_groups = len(group_set) + 1\n",
      "for i in range(1,number_of_groups):\n",
      "    group_name = \"group\"+str(i)+\"_list\"  \n",
      "    #print group_name\n",
      "    group_name = []\n",
      "\n",
      "#added manually because of error received.  above code doesnt appear to add this list\n",
      "group1_list = [] \n",
      "group2_list = []\n",
      "group3_list = []\n",
      "group4_list = []\n",
      "group5_list = []\n",
      "group6_list = []\n",
      "group7_list = []\n",
      "group8_list = []\n",
      "group9_list = []\n",
      "group10_list = []\n",
      "\n",
      "\"\"\" add the text for each paper_id to the group#_list\n",
      "    \"\"\"\n",
      "for i in group_set:  #select the group number from the groups.txt    \n",
      "    for k,v in abstract_dict.items():  #select the dict items from abstracts.txt        \n",
      "        #print k, v\n",
      "        if group_dict[k] == str(i):    #if paper_id in groups matches the paper id from abstracts, add to list        \n",
      "            text = abstract_dict[k] \n",
      "            for item in text:             #for loop needed because stop dict has a list as the value, BAD, BAD Design!  \n",
      "                if text != 'null':                  \n",
      "                    if i == 1:\n",
      "                        group1_list.append(item)\n",
      "                    elif i == 2:\n",
      "                        group2_list.append(item)\n",
      "                    elif i == 3:\n",
      "                        group3_list.append(item)\n",
      "                    elif i == 4:\n",
      "                        group4_list.append(item)\n",
      "                    elif i == 5:\n",
      "                        group5_list.append(item)\n",
      "                    elif i == 6:\n",
      "                        group6_list.append(item)\n",
      "                    elif i == 7:\n",
      "                        group7_list.append(item)\n",
      "                    elif i == 8:\n",
      "                        group8_list.append(item)\n",
      "                    elif i == 9:\n",
      "                        group9_list.append(item)\n",
      "                    elif i == 10:\n",
      "                        group10_list.append(item)\n",
      "                        #with open (str(i)+'.txt', \"a\")as output_file: \n",
      "                    #    output_file.write(text)              \n",
      "                    #print k, i ,\"matches\"\n",
      "                else:\n",
      "                    #print k, i +\"NONONO\"\n",
      "                    pass\n",
      "\n",
      "#create corpus_list.  A list of all words in the corpus\n",
      "\n",
      "corpus_list = group1_list + group2_list + group3_list + group4_list + group5_list + group6_list + group7_list + group8_list + group9_list + group10_list #the s corpus\n",
      "       \n",
      "    \n",
      "#Create dictionay of word and its probability.  Probability will be used in entropy calculations\n",
      "group1_dict =  entropy_dict(group1_list) \n",
      "group2_dict =  entropy_dict(group2_list)\n",
      "group3_dict =  entropy_dict(group3_list)\n",
      "group4_dict =  entropy_dict(group4_list) \n",
      "group5_dict =  entropy_dict(group5_list)\n",
      "group6_dict =  entropy_dict(group6_list)\n",
      "group7_dict =  entropy_dict(group7_list)\n",
      "group8_dict =  entropy_dict(group8_list) \n",
      "group9_dict =  entropy_dict(group9_list)\n",
      "group10_dict =  entropy_dict(group10_list)\n",
      "corpus_dict =  entropy_dict(corpus_list)\n",
      "\n",
      "\n",
      "#create list of group dictionaries so can iterate through each group dictionary in jargon computation\n",
      "groups_list = [group1_dict, group2_dict, group3_dict, group4_dict, group5_dict, group6_dict, group7_dict, group8_dict, group9_dict, group10_dict]\n",
      "\n",
      "\n",
      "#Calculate jargon distance and create matrix for dendrogram\n",
      "linkage_matrix = []\n",
      "count_i = 0\n",
      "for i in groups_list:\n",
      "    count_i += 1\n",
      "    count_j = 0\n",
      "    row_list = []\n",
      "    for j in groups_list:\n",
      "        count_j += 1\n",
      "        E_i_j = shannon_entropy_calc(i) / cross_entropy_calc (i, j, corpus_dict)\n",
      "        c_i_j = 1 - E_i_j\n",
      "        print 'Cultural hole between',  count_i, \"and\", count_j, c_i_j\n",
      "        row_list.append(c_i_j)\n",
      "    linkage_matrix.append(row_list)\n",
      "    \n",
      "print \"Time taken: \" + str(round(time.time() - start_time,2)) + \" seconds\"\n",
      "\n",
      "pr.disable()\n",
      "s = StringIO.StringIO()\n",
      "sortby = 'cumulative'\n",
      "ps = pstats.Stats(pr, stream=s).sort_stats(sortby)\n",
      "ps.print_stats()\n",
      "print s.getvalue()\n",
      "\n"
     ],
     "language": "python",
     "metadata": {},
     "outputs": [
      {
       "output_type": "stream",
       "stream": "stdout",
       "text": [
        "Cultural hole between 1 and 1 0.0\n",
        "Cultural hole between"
       ]
      },
      {
       "output_type": "stream",
       "stream": "stdout",
       "text": [
        " 1 and 2 0.070962959589\n",
        "Cultural hole between"
       ]
      },
      {
       "output_type": "stream",
       "stream": "stdout",
       "text": [
        " 1 and 3 0.0544847036406\n",
        "Cultural hole between"
       ]
      },
      {
       "output_type": "stream",
       "stream": "stdout",
       "text": [
        " 1 and 4 0.0444288881442\n",
        "Cultural hole between"
       ]
      },
      {
       "output_type": "stream",
       "stream": "stdout",
       "text": [
        " 1 and 5 0.0524292313361\n",
        "Cultural hole between"
       ]
      },
      {
       "output_type": "stream",
       "stream": "stdout",
       "text": [
        " 1 and 6 0.0368882689019\n",
        "Cultural hole between"
       ]
      },
      {
       "output_type": "stream",
       "stream": "stdout",
       "text": [
        " 1 and 7 0.0344135064902\n",
        "Cultural hole between"
       ]
      },
      {
       "output_type": "stream",
       "stream": "stdout",
       "text": [
        " 1 and 8 0.0575748094855\n",
        "Cultural hole between"
       ]
      },
      {
       "output_type": "stream",
       "stream": "stdout",
       "text": [
        " 1 and 9 0.0339260016689\n",
        "Cultural hole between"
       ]
      },
      {
       "output_type": "stream",
       "stream": "stdout",
       "text": [
        " 1 and 10 0.0410230652751\n",
        "Cultural hole between"
       ]
      },
      {
       "output_type": "stream",
       "stream": "stdout",
       "text": [
        " 2 and 1 0.105738764821\n",
        "Cultural hole between"
       ]
      },
      {
       "output_type": "stream",
       "stream": "stdout",
       "text": [
        " 2 and 2 0.0\n",
        "Cultural hole between"
       ]
      },
      {
       "output_type": "stream",
       "stream": "stdout",
       "text": [
        " 2 and 3 0.0901391968959\n",
        "Cultural hole between"
       ]
      },
      {
       "output_type": "stream",
       "stream": "stdout",
       "text": [
        " 2 and 4 0.0866493300923\n",
        "Cultural hole between"
       ]
      },
      {
       "output_type": "stream",
       "stream": "stdout",
       "text": [
        " 2 and 5 0.0889781897279\n",
        "Cultural hole between"
       ]
      },
      {
       "output_type": "stream",
       "stream": "stdout",
       "text": [
        " 2 and 6 0.0758653025386\n",
        "Cultural hole between"
       ]
      },
      {
       "output_type": "stream",
       "stream": "stdout",
       "text": [
        " 2 and 7 0.0719820823489\n",
        "Cultural hole between"
       ]
      },
      {
       "output_type": "stream",
       "stream": "stdout",
       "text": [
        " 2 and 8 0.0941370081097\n",
        "Cultural hole between"
       ]
      },
      {
       "output_type": "stream",
       "stream": "stdout",
       "text": [
        " 2 and 9 0.0712316524221\n",
        "Cultural hole between"
       ]
      },
      {
       "output_type": "stream",
       "stream": "stdout",
       "text": [
        " 2 and 10 0.0821822992448\n",
        "Cultural hole between"
       ]
      },
      {
       "output_type": "stream",
       "stream": "stdout",
       "text": [
        " 3 and 1 0.128864254112\n",
        "Cultural hole between"
       ]
      },
      {
       "output_type": "stream",
       "stream": "stdout",
       "text": [
        " 3 and 2 0.148873885229\n",
        "Cultural hole between"
       ]
      },
      {
       "output_type": "stream",
       "stream": "stdout",
       "text": [
        " 3 and 3 0.0\n",
        "Cultural hole between"
       ]
      },
      {
       "output_type": "stream",
       "stream": "stdout",
       "text": [
        " 3 and 4 0.084391278136\n",
        "Cultural hole between"
       ]
      },
      {
       "output_type": "stream",
       "stream": "stdout",
       "text": [
        " 3 and 5 0.0889787662497\n",
        "Cultural hole between"
       ]
      },
      {
       "output_type": "stream",
       "stream": "stdout",
       "text": [
        " 3 and 6 0.0709762982212\n",
        "Cultural hole between"
       ]
      },
      {
       "output_type": "stream",
       "stream": "stdout",
       "text": [
        " 3 and 7 0.0757908388491\n",
        "Cultural hole between"
       ]
      },
      {
       "output_type": "stream",
       "stream": "stdout",
       "text": [
        " 3 and 8 0.0923656109186\n",
        "Cultural hole between"
       ]
      },
      {
       "output_type": "stream",
       "stream": "stdout",
       "text": [
        " 3 and 9 0.0726629134749\n",
        "Cultural hole between"
       ]
      },
      {
       "output_type": "stream",
       "stream": "stdout",
       "text": [
        " 3 and 10 0.0872105772863\n",
        "Cultural hole between 4 and 1 0.13255204469\n",
        "Cultural hole between"
       ]
      },
      {
       "output_type": "stream",
       "stream": "stdout",
       "text": [
        " 4 and 2 0.151444019768\n",
        "Cultural hole between 4 and 3 0.0963812818898\n",
        "Cultural hole between"
       ]
      },
      {
       "output_type": "stream",
       "stream": "stdout",
       "text": [
        " 4 and 4 0.0\n",
        "Cultural hole between 4 and 5 0.107348121423\n",
        "Cultural hole between"
       ]
      },
      {
       "output_type": "stream",
       "stream": "stdout",
       "text": [
        " 4 and 6 0.0763227019553\n",
        "Cultural hole between 4 and 7 0.0817493436111\n",
        "Cultural hole between"
       ]
      },
      {
       "output_type": "stream",
       "stream": "stdout",
       "text": [
        " 4 and 8 0.0959770693622\n",
        "Cultural hole between 4 and 9 0.0743546591788\n",
        "Cultural hole between"
       ]
      },
      {
       "output_type": "stream",
       "stream": "stdout",
       "text": [
        " 4 and 10 0.0827552699843\n",
        "Cultural hole between 5 and 1 0.142541268221\n",
        "Cultural hole between"
       ]
      },
      {
       "output_type": "stream",
       "stream": "stdout",
       "text": [
        " 5 and 2 0.158322845255\n",
        "Cultural hole between 5 and 3 0.104381645087\n",
        "Cultural hole between"
       ]
      },
      {
       "output_type": "stream",
       "stream": "stdout",
       "text": [
        " 5 and 4 0.117080636585\n",
        "Cultural hole between 5 and 5 0.0\n",
        "Cultural hole between"
       ]
      },
      {
       "output_type": "stream",
       "stream": "stdout",
       "text": [
        " 5 and 6 0.108913621905\n",
        "Cultural hole between 5 and 7 0.109536057035\n",
        "Cultural hole between"
       ]
      },
      {
       "output_type": "stream",
       "stream": "stdout",
       "text": [
        " 5 and 8 0.129515295413\n",
        "Cultural hole between"
       ]
      },
      {
       "output_type": "stream",
       "stream": "stdout",
       "text": [
        " 5 and 9 0.107346770506\n",
        "Cultural hole between 5 and 10 0.115738044843\n",
        "Cultural hole between"
       ]
      },
      {
       "output_type": "stream",
       "stream": "stdout",
       "text": [
        " 6 and 1 0.164259066413\n",
        "Cultural hole between 6 and 2 0.176473368438\n",
        "Cultural hole between"
       ]
      },
      {
       "output_type": "stream",
       "stream": "stdout",
       "text": [
        " 6 and 3 0.106021684057\n",
        "Cultural hole between 6 and 4 0.10238461262\n",
        "Cultural hole between"
       ]
      },
      {
       "output_type": "stream",
       "stream": "stdout",
       "text": [
        " 6 and 5 0.129140825011\n",
        "Cultural hole between 6 and 6 0.0\n",
        "Cultural hole between 6 and 7 0.103282464088\n",
        "Cultural hole between"
       ]
      },
      {
       "output_type": "stream",
       "stream": "stdout",
       "text": [
        " 6 and 8 0.126733784892\n",
        "Cultural hole between 6 and 9 0.0977544384921\n",
        "Cultural hole between"
       ]
      },
      {
       "output_type": "stream",
       "stream": "stdout",
       "text": [
        " 6 and 10 0.109712514217\n",
        "Cultural hole between 7 and 1 0.218168230615\n",
        "Cultural hole between 7 and 2 0.22442599688\n",
        "Cultural hole between 7 and 3 0.165111247828\n",
        "Cultural hole between"
       ]
      },
      {
       "output_type": "stream",
       "stream": "stdout",
       "text": [
        " 7 and 4 0.161236680891\n",
        "Cultural hole between 7 and 5 0.183322268305\n",
        "Cultural hole between 7 and 6 0.158492739978\n",
        "Cultural hole between 7 and 7 0.0\n",
        "Cultural hole between"
       ]
      },
      {
       "output_type": "stream",
       "stream": "stdout",
       "text": [
        " 7 and 8 0.165603635776\n",
        "Cultural hole between 7 and 9 0.148294710421\n",
        "Cultural hole between 7 and 10 0.170702520191\n",
        "Cultural hole between"
       ]
      },
      {
       "output_type": "stream",
       "stream": "stdout",
       "text": [
        " 8 and 1 0.167604767641\n",
        "Cultural hole between 8 and 2 0.190754725574\n",
        "Cultural hole between"
       ]
      },
      {
       "output_type": "stream",
       "stream": "stdout",
       "text": [
        " 8 and 3 0.123973695448\n",
        "Cultural hole between 8 and 4 0.119855723858\n",
        "Cultural hole between"
       ]
      },
      {
       "output_type": "stream",
       "stream": "stdout",
       "text": [
        " 8 and 5 0.139939545612\n",
        "Cultural hole between 8 and 6 0.123071011552\n",
        "Cultural hole between"
       ]
      },
      {
       "output_type": "stream",
       "stream": "stdout",
       "text": [
        " 8 and 7 0.114977471625\n",
        "Cultural hole between 8 and 8 0.0\n",
        "Cultural hole between"
       ]
      },
      {
       "output_type": "stream",
       "stream": "stdout",
       "text": [
        " 8 and 9 0.11844889889\n",
        "Cultural hole between 8 and 10 0.116949345717\n",
        "Cultural hole between"
       ]
      },
      {
       "output_type": "stream",
       "stream": "stdout",
       "text": [
        " 9 and 1 0.193976757849\n",
        "Cultural hole between 9 and 2 0.204165828894\n",
        "Cultural hole between 9 and 3 0.139105869081\n",
        "Cultural hole between 9 and 4 0.128255438535\n",
        "Cultural hole between"
       ]
      },
      {
       "output_type": "stream",
       "stream": "stdout",
       "text": [
        " 9 and 5 0.160763559362\n",
        "Cultural hole between 9 and 6 0.128407863943\n",
        "Cultural hole between 9 and 7 0.12352418271\n",
        "Cultural hole between"
       ]
      },
      {
       "output_type": "stream",
       "stream": "stdout",
       "text": [
        " 9 and 8 0.146665096179\n",
        "Cultural hole between 9 and 9 0.0\n",
        "Cultural hole between 9 and 10 0.144251800955\n",
        "Cultural hole between"
       ]
      },
      {
       "output_type": "stream",
       "stream": "stdout",
       "text": [
        " 10 and 1 0.168773624592\n",
        "Cultural hole between 10 and 2 0.192495247684\n",
        "Cultural hole between"
       ]
      },
      {
       "output_type": "stream",
       "stream": "stdout",
       "text": [
        " 10 and 3 0.13058559381\n",
        "Cultural hole between 10 and 4 0.112425047693\n",
        "Cultural hole between"
       ]
      },
      {
       "output_type": "stream",
       "stream": "stdout",
       "text": [
        " 10 and 5 0.139290397705\n",
        "Cultural hole between 10 and 6 0.116408046892\n",
        "Cultural hole between"
       ]
      },
      {
       "output_type": "stream",
       "stream": "stdout",
       "text": [
        " 10 and 7 0.122141361629\n",
        "Cultural hole between 10 and 8 0.127170941561\n",
        "Cultural hole between"
       ]
      },
      {
       "output_type": "stream",
       "stream": "stdout",
       "text": [
        " 10 and 9 0.122112118612\n",
        "Cultural hole between 10 and 10 0.0\n",
        "Time taken: 1857.31 seconds\n",
        "         14444183 function calls (14444177 primitive calls) in 1857.279 seconds\n",
        "\n",
        "   Ordered by: cumulative time\n",
        "\n",
        "   ncalls  tottime  percall  cumtime  percall filename:lineno(function)\n",
        "       37    0.001    0.000 1857.275   50.197 C:\\Users\\Karen\\AppData\\Local\\Enthought\\Canopy\\App\\appdata\\canopy-1.5.2.2785.win-x86_64\\lib\\site-packages\\IPython\\core\\interactiveshell.py:2854(run_code)\n",
        "       11    2.092    0.190 1845.350  167.759 <ipython-input-1-e609674d1c18>:1(entropy_dict)\n",
        "   393383    4.951    0.000 1840.223    0.005 C:\\Users\\Karen\\AppData\\Local\\Enthought\\Canopy\\User\\lib\\site-packages\\nltk\\probability.py:180(freq)\n",
        "   786766  315.342    0.000 1835.271    0.002 C:\\Users\\Karen\\AppData\\Local\\Enthought\\Canopy\\User\\lib\\site-packages\\nltk\\probability.py:108(N)\n",
        "        1    0.005    0.005 1311.522 1311.522 <ipython-input-15-27e30ebebddb>:86(<module>)\n",
        "   786766  885.416    0.001  885.416    0.001 {method 'values' of 'dict' objects}\n",
        "   786766  634.514    0.001  634.514    0.001 {sum}\n",
        "        1    0.002    0.002  308.768  308.768 <ipython-input-15-27e30ebebddb>:76(<module>)\n",
        "        1    0.002    0.002  129.972  129.972 <ipython-input-15-27e30ebebddb>:77(<module>)\n",
        "        1    0.001    0.001   36.547   36.547 <ipython-input-15-27e30ebebddb>:78(<module>)\n",
        "        1    0.000    0.000   14.540   14.540 <ipython-input-15-27e30ebebddb>:79(<module>)\n",
        "        1    0.000    0.000   12.763   12.763 <ipython-input-15-27e30ebebddb>:80(<module>)\n",
        "        1    0.000    0.000   11.698   11.698 <ipython-input-15-27e30ebebddb>:83(<module>)\n",
        "        1    0.000    0.000    8.156    8.156 <ipython-input-15-27e30ebebddb>:85(<module>)\n",
        "        1    0.000    0.000    6.293    6.293 <ipython-input-15-27e30ebebddb>:81(<module>)\n",
        "        1    0.005    0.005    6.047    6.047 <ipython-input-15-27e30ebebddb>:96(<module>)\n",
        "        1    0.000    0.000    4.642    4.642 <ipython-input-15-27e30ebebddb>:8(<module>)\n",
        "        1    0.100    0.100    4.642    4.642 <ipython-input-5-d2944adbbed5>:1(create_abstract_dict)\n",
        "    10000    4.282    0.000    4.369    0.000 <ipython-input-4-faaf14cc0b28>:1(stop_word_abstract)\n",
        "      100    3.388    0.034    4.032    0.040 <ipython-input-3-d3e23d6d910e>:1(cross_entropy_calc)\n",
        "       22    0.000    0.000    3.035    0.138 C:\\Users\\Karen\\AppData\\Local\\Enthought\\Canopy\\User\\lib\\site-packages\\nltk\\probability.py:90(__init__)\n",
        "       22    0.000    0.000    3.035    0.138 C:\\Users\\Karen\\AppData\\Local\\Enthought\\Canopy\\App\\appdata\\canopy-1.5.2.2785.win-x86_64\\lib\\collections.py:438(__init__)\n",
        "       22    2.219    0.101    3.035    0.138 C:\\Users\\Karen\\AppData\\Local\\Enthought\\Canopy\\App\\appdata\\canopy-1.5.2.2785.win-x86_64\\lib\\collections.py:501(update)\n",
        "        1    0.000    0.000    2.895    2.895 <ipython-input-15-27e30ebebddb>:84(<module>)\n",
        "        1    0.000    0.000    2.208    2.208 <ipython-input-15-27e30ebebddb>:82(<module>)\n",
        "      100    1.301    0.013    1.969    0.020 <ipython-input-2-e5cbeb4a4055>:1(shannon_entropy_calc)\n",
        "  4740360    1.312    0.000    1.312    0.000 {math.log}\n",
        "        1    0.760    0.760    0.963    0.963 <ipython-input-15-27e30ebebddb>:36(<module>)\n",
        "  4580603    0.816    0.000    0.816    0.000 {method 'get' of 'dict' objects}\n",
        "        1    0.231    0.231    0.231    0.231 <ipython-input-15-27e30ebebddb>:72(<module>)\n",
        "    30000    0.178    0.000    0.178    0.000 {method 'split' of 'str' objects}\n",
        "  2290559    0.174    0.000    0.174    0.000 {method 'append' of 'list' objects}\n",
        "       11    0.120    0.011    0.120    0.011 {method 'items' of 'dict' objects}\n",
        "     1002    0.004    0.000    0.042    0.000 C:\\Users\\Karen\\AppData\\Local\\Enthought\\Canopy\\App\\appdata\\canopy-1.5.2.2785.win-x86_64\\lib\\site-packages\\IPython\\kernel\\zmq\\iostream.py:196(write)\n",
        "       59    0.001    0.000    0.028    0.000 C:\\Users\\Karen\\AppData\\Local\\Enthought\\Canopy\\App\\appdata\\canopy-1.5.2.2785.win-x86_64\\lib\\site-packages\\IPython\\kernel\\zmq\\iostream.py:140(flush)\n",
        "       59    0.001    0.000    0.022    0.000 C:\\Users\\Karen\\AppData\\Local\\Enthought\\Canopy\\App\\appdata\\canopy-1.5.2.2785.win-x86_64\\lib\\site-packages\\IPython\\kernel\\zmq\\session.py:583(send)\n",
        "        1    0.000    0.000    0.017    0.017 <ipython-input-15-27e30ebebddb>:9(<module>)\n",
        "        1    0.009    0.009    0.017    0.017 <ipython-input-8-907442cf54f8>:5(create_group_dict)\n",
        "        1    0.000    0.000    0.014    0.014 <ipython-input-15-27e30ebebddb>:10(<module>)\n",
        "        1    0.010    0.010    0.014    0.014 <ipython-input-8-907442cf54f8>:18(create_group_set)\n",
        "       59    0.001    0.000    0.009    0.000 C:\\Users\\Karen\\AppData\\Local\\Enthought\\Canopy\\App\\appdata\\canopy-1.5.2.2785.win-x86_64\\lib\\site-packages\\IPython\\kernel\\zmq\\session.py:524(serialize)\n",
        "       59    0.001    0.000    0.007    0.000 C:\\Users\\Karen\\AppData\\Local\\Enthought\\Canopy\\App\\appdata\\canopy-1.5.2.2785.win-x86_64\\lib\\site-packages\\IPython\\kernel\\zmq\\session.py:490(msg)\n",
        "      236    0.000    0.000    0.006    0.000 C:\\Users\\Karen\\AppData\\Local\\Enthought\\Canopy\\App\\appdata\\canopy-1.5.2.2785.win-x86_64\\lib\\site-packages\\IPython\\kernel\\zmq\\session.py:92(<lambda>)\n",
        "       59    0.000    0.000    0.006    0.000 C:\\Users\\Karen\\AppData\\Local\\Enthought\\Canopy\\App\\appdata\\canopy-1.5.2.2785.win-x86_64\\lib\\site-packages\\IPython\\kernel\\zmq\\session.py:487(msg_header)\n",
        "     1002    0.002    0.000    0.005    0.000 {method 'decode' of 'str' objects}\n",
        "      236    0.001    0.000    0.005    0.000 C:\\Users\\Karen\\AppData\\Local\\Enthought\\Canopy\\App\\appdata\\canopy-1.5.2.2785.win-x86_64\\lib\\site-packages\\zmq\\utils\\jsonapi.py:31(dumps)\n",
        "      236    0.001    0.000    0.005    0.000 C:\\Users\\Karen\\AppData\\Local\\Enthought\\Canopy\\App\\appdata\\canopy-1.5.2.2785.win-x86_64\\lib\\json\\__init__.py:193(dumps)\n",
        "       59    0.001    0.000    0.005    0.000 C:\\Users\\Karen\\AppData\\Local\\Enthought\\Canopy\\App\\appdata\\canopy-1.5.2.2785.win-x86_64\\lib\\site-packages\\zmq\\sugar\\socket.py:250(send_multipart)\n",
        "       59    0.000    0.000    0.004    0.000 C:\\Users\\Karen\\AppData\\Local\\Enthought\\Canopy\\App\\appdata\\canopy-1.5.2.2785.win-x86_64\\lib\\site-packages\\IPython\\kernel\\zmq\\session.py:435(msg_id)\n",
        "      413    0.004    0.000    0.004    0.000 {method 'send' of 'zmq.backend.cython.socket.Socket' objects}\n",
        "       37    0.001    0.000    0.004    0.000 C:\\Users\\Karen\\AppData\\Local\\Enthought\\Canopy\\App\\appdata\\canopy-1.5.2.2785.win-x86_64\\lib\\codeop.py:132(__call__)\n",
        "       59    0.001    0.000    0.004    0.000 C:\\Users\\Karen\\AppData\\Local\\Enthought\\Canopy\\App\\appdata\\canopy-1.5.2.2785.win-x86_64\\lib\\uuid.py:533(uuid4)\n",
        "     1002    0.001    0.000    0.003    0.000 C:\\Users\\Karen\\AppData\\Local\\Enthought\\Canopy\\App\\appdata\\canopy-1.5.2.2785.win-x86_64\\lib\\encodings\\utf_8.py:15(decode)\n",
        "      236    0.001    0.000    0.003    0.000 C:\\Users\\Karen\\AppData\\Local\\Enthought\\Canopy\\App\\appdata\\canopy-1.5.2.2785.win-x86_64\\lib\\json\\encoder.py:186(encode)\n",
        "       37    0.003    0.000    0.003    0.000 {compile}\n",
        "       59    0.000    0.000    0.003    0.000 C:\\Users\\Karen\\AppData\\Local\\Enthought\\Canopy\\App\\appdata\\canopy-1.5.2.2785.win-x86_64\\lib\\site-packages\\IPython\\kernel\\zmq\\iostream.py:112(_flush_from_subprocesses)\n",
        "       59    0.001    0.000    0.003    0.000 C:\\Users\\Karen\\AppData\\Local\\Enthought\\Canopy\\App\\appdata\\canopy-1.5.2.2785.win-x86_64\\lib\\site-packages\\IPython\\kernel\\zmq\\session.py:509(sign)\n",
        "       59    0.002    0.000    0.002    0.000 C:\\Users\\Karen\\AppData\\Local\\Enthought\\Canopy\\App\\appdata\\canopy-1.5.2.2785.win-x86_64\\lib\\uuid.py:101(__init__)\n",
        "     1002    0.002    0.000    0.002    0.000 {_codecs.utf_8_decode}\n",
        "      236    0.002    0.000    0.002    0.000 C:\\Users\\Karen\\AppData\\Local\\Enthought\\Canopy\\App\\appdata\\canopy-1.5.2.2785.win-x86_64\\lib\\json\\encoder.py:212(iterencode)\n",
        "       59    0.000    0.000    0.002    0.000 C:\\Users\\Karen\\AppData\\Local\\Enthought\\Canopy\\App\\appdata\\canopy-1.5.2.2785.win-x86_64\\lib\\site-packages\\zmq\\sugar\\poll.py:77(poll)\n",
        "     2145    0.002    0.000    0.002    0.000 {isinstance}\n",
        "     1061    0.001    0.000    0.002    0.000 C:\\Users\\Karen\\AppData\\Local\\Enthought\\Canopy\\App\\appdata\\canopy-1.5.2.2785.win-x86_64\\lib\\site-packages\\IPython\\kernel\\zmq\\iostream.py:95(_check_mp_mode)\n",
        "       59    0.002    0.000    0.002    0.000 {zmq.backend.cython._poll.zmq_poll}\n",
        "       59    0.000    0.000    0.001    0.000 {hasattr}\n",
        "     1120    0.001    0.000    0.001    0.000 C:\\Users\\Karen\\AppData\\Local\\Enthought\\Canopy\\App\\appdata\\canopy-1.5.2.2785.win-x86_64\\lib\\site-packages\\IPython\\kernel\\zmq\\iostream.py:86(_is_master_process)\n",
        "    10000    0.001    0.000    0.001    0.000 {method 'strip' of 'str' objects}\n",
        "     1002    0.001    0.000    0.001    0.000 {method 'write' of '_io.StringIO' objects}\n",
        "       59    0.000    0.000    0.001    0.000 C:\\Users\\Karen\\AppData\\Local\\Enthought\\Canopy\\App\\appdata\\canopy-1.5.2.2785.win-x86_64\\lib\\site-packages\\IPython\\kernel\\zmq\\session.py:201(msg_header)\n",
        "      236    0.000    0.000    0.001    0.000 C:\\Users\\Karen\\AppData\\Local\\Enthought\\Canopy\\App\\appdata\\canopy-1.5.2.2785.win-x86_64\\lib\\hmac.py:80(update)\n",
        "       59    0.001    0.000    0.001    0.000 C:\\Users\\Karen\\AppData\\Local\\Enthought\\Canopy\\App\\appdata\\canopy-1.5.2.2785.win-x86_64\\lib\\site-packages\\zmq\\sugar\\attrsettr.py:35(__getattr__)\n",
        "    10006    0.001    0.000    0.001    0.000 {method 'add' of 'set' objects}\n",
        "      295    0.001    0.000    0.001    0.000 {method 'update' of '_hashlib.HASH' objects}\n",
        "       59    0.001    0.000    0.001    0.000 C:\\Users\\Karen\\AppData\\Local\\Enthought\\Canopy\\App\\appdata\\canopy-1.5.2.2785.win-x86_64\\lib\\site-packages\\IPython\\kernel\\zmq\\session.py:205(extract_header)\n",
        "       59    0.000    0.000    0.001    0.000 C:\\Users\\Karen\\AppData\\Local\\Enthought\\Canopy\\App\\appdata\\canopy-1.5.2.2785.win-x86_64\\lib\\site-packages\\IPython\\kernel\\zmq\\iostream.py:227(_flush_buffer)\n",
        "       59    0.000    0.000    0.001    0.000 C:\\Users\\Karen\\AppData\\Local\\Enthought\\Canopy\\App\\appdata\\canopy-1.5.2.2785.win-x86_64\\lib\\hmac.py:85(copy)\n",
        "       59    0.000    0.000    0.001    0.000 C:\\Users\\Karen\\AppData\\Local\\Enthought\\Canopy\\App\\appdata\\canopy-1.5.2.2785.win-x86_64\\lib\\hmac.py:116(hexdigest)\n",
        "      708    0.001    0.000    0.001    0.000 C:\\Users\\Karen\\AppData\\Local\\Enthought\\Canopy\\App\\appdata\\canopy-1.5.2.2785.win-x86_64\\lib\\site-packages\\IPython\\utils\\traitlets.py:325(__get__)\n",
        "       59    0.000    0.000    0.000    0.000 {built-in method now}\n",
        "       59    0.000    0.000    0.000    0.000 C:\\Users\\Karen\\AppData\\Local\\Enthought\\Canopy\\App\\appdata\\canopy-1.5.2.2785.win-x86_64\\lib\\site-packages\\IPython\\kernel\\zmq\\iostream.py:89(_is_master_thread)\n",
        "       59    0.000    0.000    0.000    0.000 {nt.urandom}\n",
        "      236    0.000    0.000    0.000    0.000 C:\\Users\\Karen\\AppData\\Local\\Enthought\\Canopy\\App\\appdata\\canopy-1.5.2.2785.win-x86_64\\lib\\json\\encoder.py:101(__init__)\n",
        "       59    0.000    0.000    0.000    0.000 {map}\n",
        "     1004    0.000    0.000    0.000    0.000 {time.time}\n",
        "       22    0.000    0.000    0.000    0.000 C:\\Users\\Karen\\AppData\\Local\\Enthought\\Canopy\\App\\appdata\\canopy-1.5.2.2785.win-x86_64\\lib\\abc.py:128(__instancecheck__)\n",
        "       59    0.000    0.000    0.000    0.000 C:\\Users\\Karen\\AppData\\Local\\Enthought\\Canopy\\App\\appdata\\canopy-1.5.2.2785.win-x86_64\\lib\\hmac.py:97(_current)\n",
        "       59    0.000    0.000    0.000    0.000 C:\\Users\\Karen\\AppData\\Local\\Enthought\\Canopy\\App\\appdata\\canopy-1.5.2.2785.win-x86_64\\lib\\uuid.py:197(__str__)\n",
        "     1179    0.000    0.000    0.000    0.000 {nt.getpid}\n",
        "       59    0.000    0.000    0.000    0.000 C:\\Users\\Karen\\AppData\\Local\\Enthought\\Canopy\\App\\appdata\\canopy-1.5.2.2785.win-x86_64\\lib\\site-packages\\IPython\\utils\\jsonutil.py:102(date_default)\n",
        "       60    0.000    0.000    0.000    0.000 {range}\n",
        "       59    0.000    0.000    0.000    0.000 C:\\Users\\Karen\\AppData\\Local\\Enthought\\Canopy\\App\\appdata\\canopy-1.5.2.2785.win-x86_64\\lib\\site-packages\\IPython\\kernel\\zmq\\iostream.py:236(_new_buffer)\n",
        "        2    0.000    0.000    0.000    0.000 {open}\n",
        "      236    0.000    0.000    0.000    0.000 {method 'join' of 'str' objects}\n",
        "      177    0.000    0.000    0.000    0.000 {method 'copy' of '_hashlib.HASH' objects}\n",
        "       59    0.000    0.000    0.000    0.000 {method 'isoformat' of 'datetime.datetime' objects}\n",
        "       59    0.000    0.000    0.000    0.000 {method 'digest' of '_hashlib.HASH' objects}\n",
        "       84    0.000    0.000    0.000    0.000 {getattr}\n",
        "       59    0.000    0.000    0.000    0.000 C:\\Users\\Karen\\AppData\\Local\\Enthought\\Canopy\\App\\appdata\\canopy-1.5.2.2785.win-x86_64\\lib\\threading.py:1152(currentThread)\n",
        "       37    0.000    0.000    0.000    0.000 C:\\Users\\Karen\\AppData\\Local\\Enthought\\Canopy\\App\\appdata\\canopy-1.5.2.2785.win-x86_64\\lib\\site-packages\\IPython\\core\\hooks.py:127(__call__)\n",
        "       59    0.000    0.000    0.000    0.000 {method 'hexdigest' of '_hashlib.HASH' objects}\n",
        "      3/1    0.000    0.000    0.000    0.000 C:\\Users\\Karen\\AppData\\Local\\Enthought\\Canopy\\App\\appdata\\canopy-1.5.2.2785.win-x86_64\\lib\\abc.py:148(__subclasscheck__)\n",
        "       46    0.000    0.000    0.000    0.000 C:\\Users\\Karen\\AppData\\Local\\Enthought\\Canopy\\App\\appdata\\canopy-1.5.2.2785.win-x86_64\\lib\\_weakrefset.py:68(__contains__)\n",
        "        2    0.000    0.000    0.000    0.000 {next}\n",
        "       59    0.000    0.000    0.000    0.000 {locals}\n",
        "       37    0.000    0.000    0.000    0.000 C:\\Users\\Karen\\AppData\\Local\\Enthought\\Canopy\\App\\appdata\\canopy-1.5.2.2785.win-x86_64\\lib\\site-packages\\IPython\\utils\\ipstruct.py:125(__getattr__)\n",
        "       59    0.000    0.000    0.000    0.000 {max}\n",
        "      473    0.000    0.000    0.000    0.000 {len}\n",
        "      118    0.000    0.000    0.000    0.000 {method 'extend' of 'list' objects}\n",
        "       59    0.000    0.000    0.000    0.000 {method 'count' of 'list' objects}\n",
        "       59    0.000    0.000    0.000    0.000 {method 'close' of '_io.StringIO' objects}\n",
        "      5/1    0.000    0.000    0.000    0.000 {issubclass}\n",
        "       59    0.000    0.000    0.000    0.000 {method 'getvalue' of '_io.StringIO' objects}\n",
        "       59    0.000    0.000    0.000    0.000 C:\\Users\\Karen\\AppData\\Local\\Enthought\\Canopy\\App\\appdata\\canopy-1.5.2.2785.win-x86_64\\lib\\threading.py:983(ident)\n",
        "        1    0.000    0.000    0.000    0.000 <ipython-input-15-27e30ebebddb>:108(<module>)\n",
        "       59    0.000    0.000    0.000    0.000 {method 'copy' of 'dict' objects}\n",
        "       37    0.000    0.000    0.000    0.000 C:\\Users\\Karen\\AppData\\Local\\Enthought\\Canopy\\App\\appdata\\canopy-1.5.2.2785.win-x86_64\\lib\\site-packages\\IPython\\core\\interactiveshell.py:1055(user_global_ns)\n",
        "       59    0.000    0.000    0.000    0.000 C:\\Users\\Karen\\AppData\\Local\\Enthought\\Canopy\\App\\appdata\\canopy-1.5.2.2785.win-x86_64\\lib\\hmac.py:27(__init__)\n",
        "       59    0.000    0.000    0.000    0.000 {method 'upper' of 'str' objects}\n",
        "        6    0.000    0.000    0.000    0.000 C:\\Users\\Karen\\AppData\\Local\\Enthought\\Canopy\\App\\appdata\\canopy-1.5.2.2785.win-x86_64\\lib\\_weakrefset.py:58(__iter__)\n",
        "       59    0.000    0.000    0.000    0.000 {thread.get_ident}\n",
        "       59    0.000    0.000    0.000    0.000 C:\\Users\\Karen\\AppData\\Local\\Enthought\\Canopy\\App\\appdata\\canopy-1.5.2.2785.win-x86_64\\lib\\site-packages\\IPython\\utils\\py3compat.py:13(no_code)\n",
        "        1    0.000    0.000    0.000    0.000 <ipython-input-15-27e30ebebddb>:17(<module>)\n",
        "        1    0.000    0.000    0.000    0.000 <ipython-input-15-27e30ebebddb>:6(<module>)\n",
        "        3    0.000    0.000    0.000    0.000 C:\\Users\\Karen\\AppData\\Local\\Enthought\\Canopy\\App\\appdata\\canopy-1.5.2.2785.win-x86_64\\lib\\_weakrefset.py:26(__exit__)\n",
        "       37    0.000    0.000    0.000    0.000 C:\\Users\\Karen\\AppData\\Local\\Enthought\\Canopy\\App\\appdata\\canopy-1.5.2.2785.win-x86_64\\lib\\site-packages\\IPython\\core\\hooks.py:192(pre_run_code_hook)\n",
        "        3    0.000    0.000    0.000    0.000 C:\\Users\\Karen\\AppData\\Local\\Enthought\\Canopy\\App\\appdata\\canopy-1.5.2.2785.win-x86_64\\lib\\_weakrefset.py:36(__init__)\n",
        "        1    0.000    0.000    0.000    0.000 {round}\n",
        "        1    0.000    0.000    0.000    0.000 <ipython-input-15-27e30ebebddb>:110(<module>)\n",
        "        3    0.000    0.000    0.000    0.000 C:\\Users\\Karen\\AppData\\Local\\Enthought\\Canopy\\App\\appdata\\canopy-1.5.2.2785.win-x86_64\\lib\\_weakrefset.py:20(__enter__)\n",
        "        1    0.000    0.000    0.000    0.000 <ipython-input-15-27e30ebebddb>:90(<module>)\n",
        "        3    0.000    0.000    0.000    0.000 C:\\Users\\Karen\\AppData\\Local\\Enthought\\Canopy\\App\\appdata\\canopy-1.5.2.2785.win-x86_64\\lib\\_weakrefset.py:81(add)\n",
        "        1    0.000    0.000    0.000    0.000 <ipython-input-15-27e30ebebddb>:16(<module>)\n",
        "        3    0.000    0.000    0.000    0.000 C:\\Users\\Karen\\AppData\\Local\\Enthought\\Canopy\\App\\appdata\\canopy-1.5.2.2785.win-x86_64\\lib\\_weakrefset.py:16(__init__)\n",
        "        3    0.000    0.000    0.000    0.000 C:\\Users\\Karen\\AppData\\Local\\Enthought\\Canopy\\App\\appdata\\canopy-1.5.2.2785.win-x86_64\\lib\\_weakrefset.py:52(_commit_removals)\n",
        "        3    0.000    0.000    0.000    0.000 C:\\Users\\Karen\\AppData\\Local\\Enthought\\Canopy\\App\\appdata\\canopy-1.5.2.2785.win-x86_64\\lib\\_abcoll.py:98(__subclasshook__)\n",
        "        3    0.000    0.000    0.000    0.000 {method '__subclasses__' of 'type' objects}\n",
        "        1    0.000    0.000    0.000    0.000 <ipython-input-15-27e30ebebddb>:95(<module>)\n",
        "        1    0.000    0.000    0.000    0.000 <ipython-input-15-27e30ebebddb>:28(<module>)\n",
        "        1    0.000    0.000    0.000    0.000 <ipython-input-15-27e30ebebddb>:15(<module>)\n",
        "        1    0.000    0.000    0.000    0.000 <ipython-input-15-27e30ebebddb>:94(<module>)\n",
        "        3    0.000    0.000    0.000    0.000 {method 'remove' of 'set' objects}\n",
        "        1    0.000    0.000    0.000    0.000 <ipython-input-15-27e30ebebddb>:26(<module>)\n",
        "        1    0.000    0.000    0.000    0.000 <ipython-input-15-27e30ebebddb>:32(<module>)\n",
        "        1    0.000    0.000    0.000    0.000 <ipython-input-15-27e30ebebddb>:27(<module>)\n",
        "        1    0.000    0.000    0.000    0.000 <ipython-input-15-27e30ebebddb>:24(<module>)\n",
        "        1    0.000    0.000    0.000    0.000 <ipython-input-15-27e30ebebddb>:29(<module>)\n",
        "        1    0.000    0.000    0.000    0.000 <ipython-input-15-27e30ebebddb>:23(<module>)\n",
        "        1    0.000    0.000    0.000    0.000 <ipython-input-15-27e30ebebddb>:25(<module>)\n",
        "        1    0.000    0.000    0.000    0.000 <ipython-input-15-27e30ebebddb>:30(<module>)\n",
        "        1    0.000    0.000    0.000    0.000 <ipython-input-15-27e30ebebddb>:31(<module>)\n",
        "        1    0.000    0.000    0.000    0.000 {method 'disable' of '_lsprof.Profiler' objects}\n",
        "        1    0.000    0.000    0.000    0.000 <ipython-input-15-27e30ebebddb>:35(<module>)\n",
        "\n",
        "\n"
       ]
      },
      {
       "output_type": "stream",
       "stream": "stdout",
       "text": [
        "\n"
       ]
      }
     ],
     "prompt_number": 15
    },
    {
     "cell_type": "code",
     "collapsed": false,
     "input": [
      "\"\"\" The profile report is that this code takes about 30 minutes to run.  The main uses\n",
      "of this time are 885 seconds for 'values' of 'dict' objects, 634 seconds for {sum} and 315 seconds\n",
      "for nltk\\probability.  Due to the mess of my code - both from being relatively new at programming\n",
      "and because I didn't document well my data types, the best approach would be to rewrite this \n",
      "program in a efficient processing way.\n",
      "\n"
     ],
     "language": "python",
     "metadata": {},
     "outputs": []
    },
    {
     "cell_type": "code",
     "collapsed": false,
     "input": [
      "print linkage_matrix"
     ],
     "language": "python",
     "metadata": {},
     "outputs": [
      {
       "output_type": "stream",
       "stream": "stdout",
       "text": [
        "[[0.0, 0.07096295958903709, 0.0544847036406253, 0.044428888144192324, 0.052429231336142856, 0.0368882689018607, 0.03441350649019592, 0.05757480948553051, 0.0339260016688856, 0.04102306527506938], [0.10573876482108913, 0.0, 0.09013919689585714, 0.08664933009225084, 0.08897818972787375, 0.07586530253857748, 0.07198208234889625, 0.09413700810968195, 0.07123165242210816, 0.08218229924477893], [0.12886425411164815, 0.14887388522912148, 0.0, 0.08439127813599323, 0.08897876624965395, 0.07097629822117546, 0.07579083884912152, 0.09236561091859141, 0.0726629134749357, 0.0872105772863041], [0.1325520446897529, 0.15144401976794497, 0.09638128188979156, 0.0, 0.10734812142314398, 0.07632270195528212, 0.08174934361106823, 0.09597706936220951, 0.07435465917883954, 0.08275526998431115], [0.14254126822060753, 0.15832284525474605, 0.10438164508732939, 0.11708063658506673, 0.0, 0.10891362190473808, 0.10953605703460478, 0.12951529541274476, 0.10734677050612118, 0.11573804484251626], [0.16425906641267152, 0.17647336843822647, 0.10602168405687806, 0.10238461261999388, 0.12914082501094082, 0.0, 0.10328246408792374, 0.12673378489151232, 0.09775443849206111, 0.10971251421741701], [0.21816823061529222, 0.22442599688031206, 0.16511124782774267, 0.16123668089140109, 0.18332226830515996, 0.1584927399782019, 0.0, 0.16560363577647397, 0.14829471042111664, 0.1707025201910447], [0.16760476764149213, 0.19075472557377637, 0.12397369544794468, 0.11985572385806265, 0.13993954561174904, 0.12307101155249034, 0.11497747162531002, 0.0, 0.1184488988899518, 0.11694934571748661], [0.19397675784934398, 0.20416582889397772, 0.13910586908090816, 0.1282554385347603, 0.16076355936187958, 0.12840786394297843, 0.12352418271013155, 0.14666509617863643, 0.0, 0.14425180095511425], [0.1687736245915309, 0.19249524768394977, 0.130585593810011, 0.11242504769252204, 0.13929039770537444, 0.11640804689154449, 0.12214136162914213, 0.12717094156095987, 0.12211211861197446, 0.0]]\n"
       ]
      }
     ],
     "prompt_number": 16
    },
    {
     "cell_type": "code",
     "collapsed": false,
     "input": [
      "#Dendrogram of cultural hole results\n",
      "#Code copied and adapted from https://stackoverflow.com/questions/11917779/how-to-plot-and-annotate-hierarchical-clustering-dendrograms-in-scipy-matplotlib\n",
      "mat = array(linkage_matrix)\n",
      "\n",
      "plt.title(\"Cultural Holes Dendrogram\")\n",
      "dist_mat = mat\n",
      "linkage_matrix = linkage(dist_mat,\n",
      "                         \"single\")\n",
      "print \"linkage2:\"\n",
      "print linkage(1-dist_mat, \"single\")\n",
      "dendrogram(linkage_matrix,\n",
      "           color_threshold=1,\n",
      "           labels=['Ecology and Evolution','Molecular and Cell Biology','Economics','Sociology','Probability and Statistics','Organizational and marketing','Law','Anthropology','Political Science','Education'],\n",
      "           show_leaf_counts=True)"
     ],
     "language": "python",
     "metadata": {},
     "outputs": [
      {
       "output_type": "stream",
       "stream": "stdout",
       "text": [
        "linkage2:\n",
        "[[  2.           3.           0.12987964   2.        ]\n",
        " [  5.          10.           0.14557239   3.        ]\n",
        " [  4.          11.           0.16165566   4.        ]\n",
        " [  9.          12.           0.16619599   5.        ]\n",
        " [  0.           1.           0.16721022   2.        ]\n",
        " [  7.          13.           0.17338536   6.        ]\n",
        " [ 14.          15.           0.17577621   8.        ]\n",
        " [  8.          16.           0.18016196   9.        ]\n",
        " [  6.          17.           0.20611063  10.        ]]\n"
       ]
      },
      {
       "metadata": {},
       "output_type": "pyout",
       "prompt_number": 17,
       "text": [
        "{'color_list': ['g', 'g', 'g', 'g', 'g', 'g', 'g', 'g', 'g'],\n",
        " 'dcoord': [[0.0, 0.1672102225257697, 0.1672102225257697, 0.0],\n",
        "  [0.0, 0.12987963710755251, 0.12987963710755251, 0.0],\n",
        "  [0.0, 0.14557238768488326, 0.14557238768488326, 0.12987963710755251],\n",
        "  [0.0, 0.1616556589518757, 0.1616556589518757, 0.14557238768488326],\n",
        "  [0.0, 0.16619598832420396, 0.16619598832420396, 0.1616556589518757],\n",
        "  [0.0, 0.17338535873325217, 0.17338535873325217, 0.16619598832420396],\n",
        "  [0.1672102225257697,\n",
        "   0.17577620572679184,\n",
        "   0.17577620572679184,\n",
        "   0.17338535873325217],\n",
        "  [0.0, 0.18016195560804571, 0.18016195560804571, 0.17577620572679184],\n",
        "  [0.0, 0.20611063201858845, 0.20611063201858845, 0.18016195560804571]],\n",
        " 'icoord': [[25.0, 25.0, 35.0, 35.0],\n",
        "  [85.0, 85.0, 95.0, 95.0],\n",
        "  [75.0, 75.0, 90.0, 90.0],\n",
        "  [65.0, 65.0, 82.5, 82.5],\n",
        "  [55.0, 55.0, 73.75, 73.75],\n",
        "  [45.0, 45.0, 64.375, 64.375],\n",
        "  [30.0, 30.0, 54.6875, 54.6875],\n",
        "  [15.0, 15.0, 42.34375, 42.34375],\n",
        "  [5.0, 5.0, 28.671875, 28.671875]],\n",
        " 'ivl': ['Law',\n",
        "  'Political Science',\n",
        "  'Ecology and Evolution',\n",
        "  'Molecular and Cell Biology',\n",
        "  'Anthropology',\n",
        "  'Education',\n",
        "  'Probability and Statistics',\n",
        "  'Organizational and marketing',\n",
        "  'Economics',\n",
        "  'Sociology'],\n",
        " 'leaves': [6, 8, 0, 1, 7, 9, 4, 5, 2, 3]}"
       ]
      },
      {
       "metadata": {},
       "output_type": "display_data",
       "png": "[encoded data removed]",
       "text": [
        "<matplotlib.figure.Figure at 0xee32e10>"
       ]
      }
     ],
     "prompt_number": 17
    },
    {
     "cell_type": "code",
     "collapsed": false,
     "input": [
      "# Create lists of toy set words grouped by topic and a S corpus list\n",
      "toy_set = ([toy_variable1, toy_variable2, toy_variable3,toy_variable4,toy_variable5])\n",
      "\n",
      "doc12 = []   #combined documents 1 and 2 from toy set\n",
      "for item in range(0,2):\n",
      "    for j in toy_set[item]:\n",
      "        doc12.append(j)\n",
      "\n",
      "doc345 = []      #combined documents 3, 4 and 5\n",
      "for item in range(2,5):\n",
      "    for j in toy_set[item]:\n",
      "        doc345.append(j)\n",
      "\n",
      "#Create the S corpus\n",
      "doc12345 = []  #the s corpus\n",
      "for i in toy_set:\n",
      "    for item in i:\n",
      "        doc12345.append(item)\n",
      "\n",
      "print len(doc12)\n",
      "print len(doc345)\n",
      "print len(doc12345)"
     ],
     "language": "python",
     "metadata": {},
     "outputs": [
      {
       "output_type": "stream",
       "stream": "stdout",
       "text": [
        "35\n",
        "52\n",
        "87\n"
       ]
      }
     ],
     "prompt_number": 223
    },
    {
     "cell_type": "code",
     "collapsed": false,
     "input": [
      "# Create dictionary of words and probabilities by each topic group and for the corpus\n",
      "australia_dict =  entropy_dict(doc12)\n",
      "mums_books_dict = entropy_dict(doc345)\n",
      "corpus_dict = entropy_dict(doc12345)"
     ],
     "language": "python",
     "metadata": {},
     "outputs": [],
     "prompt_number": 251
    },
    {
     "cell_type": "code",
     "collapsed": false,
     "input": [
      "#Calculate jargon distance mums books to australia words\n",
      "i = mums_books_dict\n",
      "j = australia_dict\n",
      "\n",
      "E_i_j = shannon_entropy_calc(i) / cross_entropy_calc (i, j, corpus_dict)\n",
      "E_j_i = shannon_entropy_calc(j) / cross_entropy_calc (j, i, corpus_dict)\n",
      "print \"Cultural distance between mums books and Australia:\"\n",
      "print \"Cij = \",1 - E_i_j\n",
      "print\n",
      "print \"Cultural distance between Australia and mums books:\"\n",
      "print \"Cji = \",1 - E_j_i"
     ],
     "language": "python",
     "metadata": {},
     "outputs": [
      {
       "output_type": "stream",
       "stream": "stdout",
       "text": [
        "Cultural distance between mums books and Australia:\n",
        "Cij =  0.585164961394\n",
        "\n",
        "Cultural distance between Australia and mums books:\n",
        "Cji =  0.620408588279\n"
       ]
      }
     ],
     "prompt_number": 252
    },
    {
     "cell_type": "code",
     "collapsed": false,
     "input": [
      "#Toy documents LDA\n",
      "\n",
      "def termdocumentmatrix_toy():\n",
      "    \"\"\"Create a term doc matrix for the toy documents.\n",
      "    \"\"\"\n",
      "    # Initialize class to create term-document matrix\n",
      "    tdm_toy = textmining.TermDocumentMatrix()\n",
      "    # Add the documents\n",
      "    tdm_toy.add_doc(str(toy_variable1))\n",
      "    tdm_toy.add_doc(str(toy_variable2)) \n",
      "    tdm_toy.add_doc(str(toy_variable3))\n",
      "    tdm_toy.add_doc(str(toy_variable4))\n",
      "    tdm_toy.add_doc(str(toy_variable5)) \n",
      "        \n",
      "    toy_vocab = []\n",
      "    toy_list = []\n",
      "    \n",
      "    counter = 0\n",
      "    for row in tdm_toy.rows(cutoff=1):\n",
      "        if counter == 0:\n",
      "            toy_vocab.append(row)\n",
      "            counter += 1\n",
      "        elif counter != 0:\n",
      "            toy_list.append(row)\n",
      "    \n",
      "    toy_array = array( toy_list )   \n",
      "    return toy_array , toy_vocab"
     ],
     "language": "python",
     "metadata": {},
     "outputs": [],
     "prompt_number": 253
    },
    {
     "cell_type": "code",
     "collapsed": false,
     "input": [
      "toy_X, toy_vocab = termdocumentmatrix_toy()\n",
      "print(\"type(toy_X): {}\".format(type(toy_X)))\n",
      "print(\"shape: {}\\n\".format(toy_X.shape))\n",
      " \n",
      " \n",
      "print toy_vocab[0][12]\n",
      "print(\"type(toy_vocab): {}\".format(type(toy_vocab)))\n",
      "print(\"len(toy_vocab): {}\\n\".format(len(toy_vocab)))\n",
      "\n",
      "toy_titles = (\"Australian animals\", \"Austrial travel experience\", \"mothers day\",\n",
      "          \"amelia bedelia book\", \"winnie quote\")\n",
      "\n",
      "\n",
      "toy_doc_id = 0\n",
      "toy_word_id = 12\n",
      "\n",
      "print(\"doc id: {} word id: {}\".format(toy_doc_id, toy_word_id))\n",
      "print(\"-- count: {}\".format(toy_X[toy_doc_id, toy_word_id]))\n",
      "print(\"-- word : {}\".format(toy_vocab[0][toy_word_id]))\n",
      "\n",
      "\n",
      "toy_X.sum()\n",
      "\n",
      "toy_model = lda.LDA(n_topics=2, n_iter=500, random_state=1)\n",
      "toy_model.fit(toy_X)\n"
     ],
     "language": "python",
     "metadata": {},
     "outputs": [
      {
       "output_type": "stream",
       "stream": "stdout",
       "text": [
        "type(toy_X): <type 'numpy.ndarray'>\n",
        "shape: (5L, 72L)\n",
        "\n",
        "see\n",
        "type(toy_vocab): <type 'list'>\n",
        "len(toy_vocab): 1\n",
        "\n",
        "doc id: 0 word id: 12\n",
        "-- count: 1\n",
        "-- word : see\n"
       ]
      },
      {
       "metadata": {},
       "output_type": "pyout",
       "prompt_number": 255,
       "text": [
        "<lda.lda.LDA instance at 0x00000000115517C8>"
       ]
      }
     ],
     "prompt_number": 255
    },
    {
     "cell_type": "code",
     "collapsed": false,
     "input": [
      "print toy_vocab"
     ],
     "language": "python",
     "metadata": {},
     "outputs": [
      {
       "output_type": "stream",
       "stream": "stdout",
       "text": [
        "[['recommend', 'sketch', 'think', 'voraci', 'often', 'elementari', 'favorit', 'cultur', 'draw', 'housekeep', 'one', 'tasmanian', 'see', 'anim', 'fake', 'prompt', 'winni', 'miss', 'children', 'sat', 'devil', 'would', 'amelia', 'noon', 'visit', 'young', 'zoo', 'marsupi', 'book', 'pad', 'includ', 'reader', 'curtain', 'melbourn', 'day', 'told', 'hillari', 'wombat', 'australia', 'bedilia', 'ask', 'kangaroo', 'mother', 'school', 'drew', 'nativ', 'koala', 'mom', 'aborigin', 'known', 'librarian', 'pooh', 'dr', 'teacher', 'repeat', 'kid', 'throw', 'center', 'seuss', 'wallabi', 'vegetarian', 'hunt', 'well', 'honor', 'employ', 'grader', 'u', 'learn', 'boomerang', 'bedelia', 'retir', 'first']]\n"
       ]
      }
     ],
     "prompt_number": 256
    },
    {
     "cell_type": "code",
     "collapsed": false,
     "input": [
      "toy_topic_word = toy_model.topic_word_\n",
      "print(\"type(topic_word): {}\".format(type(toy_topic_word)))\n",
      "print(\"shape: {}\".format(toy_topic_word.shape))\n",
      "\n",
      "for n in range(2):\n",
      "    sum_pr = sum(toy_topic_word[n,:])\n",
      "    print(\"topic: {} sum: {}\".format(n, sum_pr))\n",
      "    \n",
      "n = 20    # number of topic words to print\n",
      "for i, topic_dist in enumerate(toy_topic_word):\n",
      "    topic_words = np.array(toy_vocab)[0][np.argsort(topic_dist)][:-(n+1):-1]\n",
      "    print('*Topic {}\\n- {}'.format(i, ' '.join(topic_words)))"
     ],
     "language": "python",
     "metadata": {},
     "outputs": [
      {
       "output_type": "stream",
       "stream": "stdout",
       "text": [
        "type(topic_word): <type 'numpy.ndarray'>\n",
        "shape: (2L, 72L)\n",
        "topic: 0 sum: 1.0\n",
        "topic: 1 sum: 1.0\n",
        "*Topic 0\n",
        "- u koala australia marsupi kangaroo told nativ tasmanian see anim fake wombat known miss melbourn devil includ would zoo visit\n",
        "*Topic 1\n",
        "- u book curtain reader amelia pooh winni librarian one noon favorit day retir hillari pad bedilia first sat young mother\n"
       ]
      }
     ],
     "prompt_number": 257
    },
    {
     "cell_type": "code",
     "collapsed": false,
     "input": [
      "toy_doc_topic = toy_model.doc_topic_\n",
      "print(\"type(doc_topic): {}\".format(type(toy_doc_topic)))\n",
      "print(\"shape: {}\".format(toy_doc_topic.shape))"
     ],
     "language": "python",
     "metadata": {},
     "outputs": [
      {
       "output_type": "stream",
       "stream": "stdout",
       "text": [
        "type(doc_topic): <type 'numpy.ndarray'>\n",
        "shape: (5L, 2L)\n"
       ]
      }
     ],
     "prompt_number": 258
    },
    {
     "cell_type": "code",
     "collapsed": false,
     "input": [
      "for n in range(5):\n",
      "    topic_most_pr = toy_doc_topic[n].argmax()\n",
      "    print(\"doc: {} topic: {}\\n{}...\".format(n,topic_most_pr,toy_titles[n][:50]))\n",
      "\n",
      "# titles for each story\n",
      "\n",
      "print(\"type(titles): {}\".format(type(toy_titles)))\n",
      "print(\"len(titles): {}\".format(len(toy_titles)))\n",
      "print(\"titles:\\n\\n\", toy_titles , \"\\n\")"
     ],
     "language": "python",
     "metadata": {},
     "outputs": [
      {
       "output_type": "stream",
       "stream": "stdout",
       "text": [
        "doc: 0 topic: 0\n",
        "Australian animals...\n",
        "doc: 1 topic: 0\n",
        "Austrial travel experience...\n",
        "doc: 2 topic: 1\n",
        "mothers day...\n",
        "doc: 3 topic: 1\n",
        "amelia bedelia book...\n",
        "doc: 4 topic: 1\n",
        "winnie quote...\n",
        "type(titles): <type 'tuple'>\n",
        "len(titles): 5\n",
        "('titles:\\n\\n', ('Australian animals', 'Austrial travel experience', 'mothers day', 'amelia bedelia book', 'winnie quote'), '\\n')\n"
       ]
      }
     ],
     "prompt_number": 259
    },
    {
     "cell_type": "code",
     "collapsed": false,
     "input": [],
     "language": "python",
     "metadata": {},
     "outputs": []
    }
   ],
   "metadata": {}
  }
 ]
}