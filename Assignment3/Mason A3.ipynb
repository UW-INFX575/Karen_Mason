{
 "metadata": {
  "name": "",
  "signature": "sha256:ff40349309277dca98d7a914a67f37ac56896e3e0b92a3c110c9a67b1d6eb121"
 },
 "nbformat": 3,
 "nbformat_minor": 0,
 "worksheets": [
  {
   "cells": [
    {
     "cell_type": "code",
     "collapsed": false,
     "input": [
      "import numpy as np\n",
      "import lda\n",
      "import os\n",
      "import textmining  #for creatindg term document matrix\n",
      "from numpy  import array  #for term matrix\n",
      "import nltk\n",
      "from nltk.corpus import stopwords\n",
      "from nltk.stem.snowball import SnowballStemmer\n",
      "from nltk.collocations import *\n",
      "from nltk.probability import *\n",
      "import matplotlib.pyplot as plt\n",
      "import math\n",
      "#http://chrisstrelioff.ws/sandbox/2014/11/13/getting_started_with_latent_dirichlet_allocation_in_python.html\n",
      "#Source for how to use LDA"
     ],
     "language": "python",
     "metadata": {},
     "outputs": [],
     "prompt_number": 232
    },
    {
     "cell_type": "code",
     "collapsed": false,
     "input": [
      "print os.getcwd()\n",
      "# set the working directory on Karen's computer\n",
      "#os.chdir('\\Users\\Karen\\Documents')\n",
      "#os.chdir('\\Users\\Karen\\Documents\\575')  # doesn't work"
     ],
     "language": "python",
     "metadata": {},
     "outputs": [
      {
       "output_type": "stream",
       "stream": "stdout",
       "text": [
        "C:\\Users\\Karen\\Documents\\575\\Assignment3\n"
       ]
      }
     ],
     "prompt_number": 233
    },
    {
     "cell_type": "code",
     "collapsed": false,
     "input": [
      "def stem_function(filename):\n",
      "    \"\"\"Function to stem the words in the given files using the Snowball Stemmer \n",
      "    \"\"\"\n",
      "    \n",
      "    stemmer = SnowballStemmer(\"english\",ignore_stopwords = False)\n",
      "    stemmed_words = []\n",
      "\n",
      "    for word in filename:\n",
      "        a = stemmer.stem(word)\n",
      "        stemmed_words.append(a)\n",
      "    return stemmed_words"
     ],
     "language": "python",
     "metadata": {},
     "outputs": [],
     "prompt_number": 234
    },
    {
     "cell_type": "code",
     "collapsed": false,
     "input": [
      "def stop_word(filename):\n",
      "    \"\"\"Remove stop words from the files based on the NLTK stop word list. \n",
      "    \"\"\"\n",
      "    stop = stopwords.words('english')\n",
      "    lstfile_stem_stop = []\n",
      "\n",
      "    for i in filename:\n",
      "        if i not in stop:\n",
      "            a = i\n",
      "            lstfile_stem_stop.append(a)\n",
      "\n",
      "    return lstfile_stem_stop"
     ],
     "language": "python",
     "metadata": {},
     "outputs": [],
     "prompt_number": 235
    },
    {
     "cell_type": "code",
     "collapsed": false,
     "input": [
      "#Open the 10 patent files, read, split stem and remove stop words.\n",
      "#Need to switch to loop for opening and processing the 10 patent files.  Having probelems with my variable name logic. So doing this\n",
      "#the long way until I can figure out how to fix it.\n",
      "\n",
      "all_files = []\n",
      "filename_root = str(633422)\n",
      "\n",
      "for x in range (0,10):     # starting out with 2 files only need to update**********************\n",
      "    filename = filename_root+str(x)+'.txt'\n",
      "    all_files.append(filename)\n",
      "     \n",
      "work_variable0 = open('6334220.txt','r')    \n",
      "work_variable0 = work_variable0.read()   \n",
      "work_variable0 = work_variable0.split()\n",
      "work_variable0 = stem_function(work_variable0)\n",
      "work_variable0 = stop_word(work_variable0)\n",
      "\n",
      "work_variable1 = open('6334221.txt','r')    \n",
      "work_variable1 = work_variable1.read()   \n",
      "work_variable1 = work_variable1.split()\n",
      "work_variable1 = stem_function(work_variable1)\n",
      "work_variable1 = stop_word(work_variable1)\n",
      "\n",
      "work_variable2 = open('6334222.txt','r')    \n",
      "work_variable2 = work_variable2.read()   \n",
      "work_variable2 = work_variable2.split()\n",
      "work_variable2 = stem_function(work_variable2)\n",
      "work_variable2 = stop_word(work_variable2)\n",
      "\n",
      "work_variable3 = open('6334223.txt','r')    \n",
      "work_variable3 = work_variable3.read()   \n",
      "work_variable3 = work_variable3.split()\n",
      "work_variable3 = stem_function(work_variable3)\n",
      "work_variable3 = stop_word(work_variable3)\n",
      "\n",
      "work_variable4 = open('6334224.txt','r')    \n",
      "work_variable4 = work_variable4.read()   \n",
      "work_variable4 = work_variable4.split()\n",
      "work_variable4 = stem_function(work_variable4)\n",
      "work_variable4 = stop_word(work_variable4)\n",
      "\n",
      "work_variable5 = open('6334225.txt','r')    \n",
      "work_variable5 = work_variable5.read()   \n",
      "work_variable5 = work_variable5.split()\n",
      "work_variable5 = stem_function(work_variable5)\n",
      "work_variable5 = stop_word(work_variable5)\n",
      "\n",
      "work_variable6 = open('6334226.txt','r')    \n",
      "work_variable6 = work_variable6.read()   \n",
      "work_variable6 = work_variable6.split()\n",
      "work_variable6 = stem_function(work_variable6)\n",
      "work_variable6 = stop_word(work_variable6)\n",
      "\n",
      "work_variable7 = open('6334227.txt','r')    \n",
      "work_variable7 = work_variable7.read()   \n",
      "work_variable7 = work_variable7.split()\n",
      "work_variable7 = stem_function(work_variable7)\n",
      "work_variable7 = stop_word(work_variable7)\n",
      "\n",
      "work_variable8 = open('6334228.txt','r')    \n",
      "work_variable8 = work_variable8.read()   \n",
      "work_variable8 = work_variable8.split()\n",
      "work_variable8 = stem_function(work_variable8)\n",
      "work_variable8 = stop_word(work_variable8)\n",
      "\n",
      "work_variable9 = open('6334229.txt','r')    \n",
      "work_variable9 = work_variable9.read()   \n",
      "work_variable9 = work_variable9.split()\n",
      "work_variable9 = stem_function(work_variable9)\n",
      "work_variable9 = stop_word(work_variable9)"
     ],
     "language": "python",
     "metadata": {},
     "outputs": [],
     "prompt_number": 236
    },
    {
     "cell_type": "code",
     "collapsed": false,
     "input": [
      "print work_variable9"
     ],
     "language": "python",
     "metadata": {},
     "outputs": [
      {
       "output_type": "stream",
       "stream": "stdout",
       "text": [
        "['~~', '1.', u'scrubber', u'scrub', u'semiconductor', u'wafer', u'edge,', u'comprising:', u'first', u'roller', u'clean', u'edg', u'semiconductor', u'wafer,', u'second', u'roller', u'rotat', u'semiconductor', u'wafer,', u'first', u'roller', u'configur', u'rotat', u'direct', u'first', u'speed', u'second', u'roller', u'configur', u'rotat', u'direct', u'second', u'speed', u'facilit', u'edg', u'clean', u'semiconductor', u'wafer', u'first', u'roller,', u'edg', u'semiconductor', u'wafer', u'clean', u'due', u'friction', u'differ', u'tangenti', u'veloc', u'point', u'contact', u'semiconductor', u'wafer', u'first', u'roller.', '2.', u'scrubber', u'defin', u'claim', '1', u'wherein', u'mechan', u'edg', u'clean', u'particl', u'bevel', u'area', u'semiconductor', u'wafer.', '3.', u'scrubber', u'defin', u'claim', '1', u'wherein', u'edg', u'semiconductor', u'wafer', u'clean', u'due', u'friction', u'edg', u'abras', u'material.', '4.', u'scrubber', u'defin', u'claim', '1', u'wherein', u'first', u'roller', u'compris', u'abras', u'material.', '5.', u'scrubber', u'defin', u'claim', '4', u'wherein', u'second', u'speed', u'faster', u'first', u'speed.', '6.', u'scrubber', u'defin', u'claim', '5', u'wherein', u'second', u'speed', u'approxim', u'1.5', u'time', u'first', u'speed.', '7.', u'scrubber', u'defin', u'claim', '4', u'wherein', u'clean', u'mechan', u'compris', u'water', u'jet', u'propel', u'water', u'area', u'contact', u'semiconductor', u'wafer', u'first', u'roller.', '8.', u'scrubber', u'defin', u'claim', '1', u'wherein', u'second', u'roller', u'compris', u'abras', u'material.', '9.', u'scrubber', u'defin', u'claim', '8', u'wherein', u'abras', u'materi', u'compris', u'pad.', u'10.', u'scrubber', u'defin', u'claim', '8', u'wherein', u'abras', u'materi', u'compris', u'poli', u'vinyl', u'alcohol', u'(pva).', u'11.', u'scrubber', u'defin', u'claim', '8', u'wherein', u'abras', u'materi', u'compris', u'nylon.', u'12.', u'scrubber', u'defin', u'claim', '8', u'wherein', u'abras', u'materi', u'compris', u'polyurethane.', u'13.', u'scrubber', u'scrub', u'semiconductor', u'wafer', u'edge,', u'comprising:', u'first', u'roller', u'clear', u'edg', u'semiconductor', u'wafer;', u'second', u'roller', u'rotat', u'semiconductor', u'wafer,', u'first', u'roller', u'configur', u'rotat', u'direct', u'first', u'speed', u'second', u'roller', u'configur', u'rotat', u'direct', u'second', u'speed', u'facilit', u'edg', u'clean', u'semiconductor', u'wafer', u'first', u'roller', u'generat', u'friction', u'edg', u'abras', u'materi', u'first', u'roller.', u'14.', u'scrubber', u'defin', u'claim', '13', u'wherein', u'mechan', u'edg', u'clean', u'particl', u'bevel', u'area', u'semiconductor', u'wafer.', u'15.', u'scrubber', u'defin', u'claim', '13', u'wherein', u'abras', u'materi', u'compris', u'poli', u'vinyl', u'alcohol', u'(pva).', u'16.', u'scrubber', u'defin', u'claim', '13', u'wherein', u'abras', u'materi', u'compris', u'nylon.', u'17.', u'scrubber', u'defin', u'claim', '13', u'wherein', u'abras', u'materi', u'compris', u'polyurethane.', u'18.', u'scrub', u'apparatus', u'clean', u'semiconductor', u'substrat', u'edge,', u'said', u'apparatus', u'comprising:', u'first', u'roller', u'rotat', u'semiconductor', u'substrat', u'first', u'speed;', u'second', u'roller', u'rotat', u'direct', u'first', u'roller', u'second', u'speed', u'differ', u'first', u'speed', u'contact', u'edg', u'semiconductor', u'substrat', u'edg', u'clean', u'due', u'differ', u'tangenti', u'veloc', u'point', u'contact', u'semiconductor', u'substrat', u'second', u'roller.', u'19.', u'apparatus', u'defin', u'claim', '18', u'wherein', u'semiconductor', u'substrat', u'includ', u'least', u'one', u'bevel', u'area,', u'second', u'roller', u'clean', u'said', u'least', u'one', u'bevel', u'area', u'due', u'differ', u'tangenti', u'velocity.', u'20.', u'apparatus', u'defin', u'claim', '18', u'wherein', u'second', u'roller', u'compris', u'abras', u'material.', u'21.', u'apparatus', u'defin', u'claim', '20', u'wherein', u'abras', u'materi', u'compris', u'pad.', u'22.', u'apparatus', u'defin', u'claim', '20', u'wherein', u'abras', u'materi', u'compris', u'poli', u'vinyl', u'alcohol', u'(pva).', u'23.', u'apparatus', u'defin', u'claim', '20', u'wherein', u'abras', u'materi', u'compris', u'nylon.', u'24.', u'apparatus', u'defin', u'claim', '20', u'wherein', u'abras', u'materi', u'compris', u'polyurethane.', u'25.', u'apparatus', u'defin', u'claim', '18', u'wherein', u'roller', u'compris', u'abras', u'material.', u'26.', u'apparatus', u'defin', u'claim', '18', u'wherein', u'first', u'roller', u'rotat', u'speed', u'faster', u'rotat', u'speed', u'second', u'roller.', u'27.', u'apparatus', u'defin', u'claim', '18', u'wherein', u'rotat', u'speed', u'first', u'roller', u'approxim', u'1.5', u'time', u'rotat', u'speed', u'second', u'roller.', u'28.', u'apparatus', u'defin', u'claim', '18', u'compris', u'water', u'jet', u'propel', u'water', u'point', u'contact', u'dure', u'side', u'scrub', u'semiconductor', u'substrate.', u'29.', u'apparatus', u'defin', u'claim', '18', u'compris', u'jet', u'propel', u'least', u'one', u'chemic', u'point', u'contact', u'dure', u'side', u'scrub', u'edg', u'clean', u'semiconductor', u'substrate.', u'30.', u'apparatus', u'defin', u'claim', '29', u'wherein', u'said', u'least', u'one', u'chemic', u'compris', 'nh', '4', u'oh.', u'31.', u'apparatus', u'defin', u'claim', '29', u'wherein', u'said', u'least', u'one', u'chemic', u'compris', u'nh4oh/h', '2', 'o', '2', '.']\n"
       ]
      }
     ],
     "prompt_number": 185
    },
    {
     "cell_type": "code",
     "collapsed": false,
     "input": [
      "\n",
      "#Used below website for assistance on text miningand topic modeling:\n",
      "#http://www.christianpeccei.com/textmining/ \n",
      "def termdocumentmatrix_patent():\n",
      "    \"\"\" create term doc matrix for the 10 patent files\n",
      "    \"\"\"\n",
      "    # Initialize class to create term-document matrix\n",
      "    tdm = textmining.TermDocumentMatrix()\n",
      "    \n",
      "    # Add the documents.  Need to convert to a loop.  Having trouble with the variable name so will switch when have that resolved.   \n",
      "    tdm.add_doc(str(work_variable0))\n",
      "    tdm.add_doc(str(work_variable1)) \n",
      "    tdm.add_doc(str(work_variable2))\n",
      "    tdm.add_doc(str(work_variable3))\n",
      "    tdm.add_doc(str(work_variable4)) \n",
      "    tdm.add_doc(str(work_variable5))\n",
      "    tdm.add_doc(str(work_variable6))\n",
      "    tdm.add_doc(str(work_variable7)) \n",
      "    tdm.add_doc(str(work_variable8))\n",
      "    tdm.add_doc(str(work_variable9))\n",
      "   \n",
      "    #create separate lists for the tdm vocabulary and the word counts(patent_list) of the tdm.  Add rows to appropriate list.\n",
      "    patent_vocab = []\n",
      "    patent_list = []\n",
      "    \n",
      "    counter = 0\n",
      "    for row in tdm.rows(cutoff=1):\n",
      "        if counter == 0:\n",
      "            patent_vocab.append(row)\n",
      "            counter += 1\n",
      "        elif counter != 0:\n",
      "            patent_list.append(row)\n",
      "            \n",
      "    a = array( patent_list )   \n",
      "    return a , patent_vocab\n",
      "    \n",
      "#termdocumentmatrix_patent()\n",
      "\n",
      "#Used below website for assistance on text miningand topic modeling:\n",
      "#http://www.christianpeccei.com/textmining/ "
     ],
     "language": "python",
     "metadata": {},
     "outputs": [],
     "prompt_number": 237
    },
    {
     "cell_type": "code",
     "collapsed": false,
     "input": [
      "#Details of the patent documents term doc matrix\n",
      "X, vocab = termdocumentmatrix_patent()\n",
      "print(\"type(X): {}\".format(type(X)))\n",
      "print(\"shape: {}\\n\".format(X.shape))\n",
      " \n",
      "print X\n",
      "\n",
      "#to test vocab list\n",
      "print vocab[0][2]\n",
      "print(\"type(vocab): {}\".format(type(vocab)))\n",
      "\n",
      "titles = (\"document 0\", \"document 1\", \"document 2\",\n",
      "          \"document 3\", \"document 4\", \"document 5\",\n",
      "          \"document 6\", \"document 7\", \"document 8\",\n",
      "          \"document 9\")\n",
      "\n",
      "doc_id = 0\n",
      "word_id = 2\n",
      "\n",
      "print(\"doc id: {} word id: {}\".format(doc_id, word_id))\n",
      "print(\"-- count: {}\".format(X[doc_id, word_id]))\n",
      "print(\"-- word : {}\".format(vocab[0][word_id]))\n",
      "\n",
      "\n",
      "X.sum()\n",
      "\n",
      "model = lda.LDA(n_topics=20, n_iter=500, random_state=1)\n",
      "model.fit(X)\n"
     ],
     "language": "python",
     "metadata": {},
     "outputs": [
      {
       "output_type": "stream",
       "stream": "stdout",
       "text": [
        "type(X): <type 'numpy.ndarray'>\n",
        "shape: (10L, 471L)\n",
        "\n",
        "[[  0   0   4 ..., 576   0   0]\n",
        " [  1   0   0 ..., 385   0   2]\n",
        " [  0   0   0 ...,  97   0   0]\n",
        " ..., \n",
        " [  0   0   0 ..., 212   0   0]\n",
        " [  0   0   0 ..., 277   0   0]\n",
        " [  0  13   0 ..., 473   2   0]]\n",
        "joinabl\n",
        "type(vocab): <type 'list'>\n",
        "doc id: 0 word id: 2\n",
        "-- count: 4\n",
        "-- word : joinabl\n"
       ]
      },
      {
       "metadata": {},
       "output_type": "pyout",
       "prompt_number": 238,
       "text": [
        "<lda.lda.LDA instance at 0x0000000016DFFE08>"
       ]
      }
     ],
     "prompt_number": 238
    },
    {
     "cell_type": "code",
     "collapsed": false,
     "input": [
      "#stats on the topic words\n",
      "topic_word = model.topic_word_\n",
      "print(\"type(topic_word): {}\".format(type(topic_word)))\n",
      "print(\"shape: {}\".format(topic_word.shape))\n",
      "\n"
     ],
     "language": "python",
     "metadata": {},
     "outputs": [
      {
       "output_type": "stream",
       "stream": "stdout",
       "text": [
        "type(topic_word): <type 'numpy.ndarray'>\n",
        "shape: (20L, 471L)\n"
       ]
      }
     ],
     "prompt_number": 239
    },
    {
     "cell_type": "code",
     "collapsed": false,
     "input": [
      "#verify for first 5 topics the sum of the probability of distribution is 1. Just gives us comfort calculating correctly.\n",
      "for n in range(5):\n",
      "    sum_pr = sum(topic_word[n,:])\n",
      "    print(\"topic: {} sum: {}\".format(n, sum_pr))\n"
     ],
     "language": "python",
     "metadata": {},
     "outputs": [
      {
       "output_type": "stream",
       "stream": "stdout",
       "text": [
        "topic: 0 sum: 1.0\n",
        "topic: 1 sum: 1.0\n",
        "topic: 2 sum: 1.0\n",
        "topic: 3 sum: 1.0\n",
        "topic: 4 sum: 1.0\n"
       ]
      }
     ],
     "prompt_number": 240
    },
    {
     "cell_type": "code",
     "collapsed": false,
     "input": [
      "#print the first 5 words of each topic\n",
      "n = 5\n",
      "for i, topic_dist in enumerate(topic_word):\n",
      "    topic_words = np.array(vocab)[0][np.argsort(topic_dist)][:-(n+1):-1]\n",
      "    print('*Topic {}\\n- {}'.format(i, ' '.join(topic_words)))\n"
     ],
     "language": "python",
     "metadata": {},
     "outputs": [
      {
       "output_type": "stream",
       "stream": "stdout",
       "text": [
        "*Topic 0\n",
        "- u said assembl rotari nozzl\n",
        "*Topic 1\n",
        "- set forth bottom upper material\n",
        "*Topic 2\n",
        "- u said general edge perineum\n",
        "*Topic 3\n",
        "- u s wherein accord measur\n",
        "*Topic 4\n",
        "- u said support seat surfac\n",
        "*Topic 5\n",
        "- jet water divid flow inlet\n",
        "*Topic 6\n",
        "- cm claim rate method surfac\n",
        "*Topic 7\n",
        "- first protector second strap section\n",
        "*Topic 8\n",
        "- u wherein one least includ\n",
        "*Topic 9\n",
        "- wherein comprising said one inward\n",
        "*Topic 10\n",
        "- plural tighten defin hole connector\n",
        "*Topic 11\n",
        "- u end posit cover front\n",
        "*Topic 12\n",
        "- u portion sleep bag said\n",
        "*Topic 13\n",
        "- u defin roller semiconductor abras\n",
        "*Topic 14\n",
        "- first second panel devic compris\n",
        "*Topic 15\n",
        "- u member faucet base claim\n",
        "*Topic 16\n",
        "- u wall side seat claim\n",
        "*Topic 17\n",
        "- claim provid main attach two\n",
        "*Topic 18\n",
        "- u bathtub rail inner assembl\n",
        "*Topic 19\n",
        "- claim compris first rotat second\n"
       ]
      }
     ],
     "prompt_number": 241
    },
    {
     "cell_type": "code",
     "collapsed": false,
     "input": [
      "#stats about each of the topics\n",
      "doc_topic = model.doc_topic_\n",
      "print(\"type(doc_topic): {}\".format(type(doc_topic)))\n",
      "print(\"shape: {}\".format(doc_topic.shape))\n"
     ],
     "language": "python",
     "metadata": {},
     "outputs": [
      {
       "output_type": "stream",
       "stream": "stdout",
       "text": [
        "type(doc_topic): <type 'numpy.ndarray'>\n",
        "shape: (10L, 20L)\n"
       ]
      }
     ],
     "prompt_number": 242
    },
    {
     "cell_type": "code",
     "collapsed": false,
     "input": [
      "#for each document the main topic of each one.  Documents were titled by the last number in their name.\n",
      "for n in range(10):\n",
      "    topic_most_pr = doc_topic[n].argmax()\n",
      "    print(\"doc: {} topic: {}\\n{}...\".format(n,topic_most_pr,titles[n][:50]))\n",
      "\n",
      "print(\"type(titles): {}\".format(type(titles)))\n",
      "print(\"len(titles): {}\".format(len(titles)))\n",
      "print(\"titles:\\n\\n\", titles , \"\\n\")\n"
     ],
     "language": "python",
     "metadata": {},
     "outputs": [
      {
       "output_type": "stream",
       "stream": "stdout",
       "text": [
        "doc: 0 topic: 11\n",
        "document 0...\n",
        "doc: 1 topic: 12\n",
        "document 1...\n",
        "doc: 2 topic: 12\n",
        "document 2...\n",
        "doc: 3 topic: 2\n",
        "document 3...\n",
        "doc: 4 topic: 0\n",
        "document 4...\n",
        "doc: 5 topic: 18\n",
        "document 5...\n",
        "doc: 6 topic: 4\n",
        "document 6...\n",
        "doc: 7 topic: 16\n",
        "document 7...\n",
        "doc: 8 topic: 3\n",
        "document 8...\n",
        "doc: 9 topic: 13\n",
        "document 9...\n",
        "type(titles): <type 'tuple'>\n",
        "len(titles): 10\n",
        "('titles:\\n\\n', ('document 0', 'document 1', 'document 2', 'document 3', 'document 4', 'document 5', 'document 6', 'document 7', 'document 8', 'document 9'), '\\n')\n"
       ]
      }
     ],
     "prompt_number": 243
    },
    {
     "cell_type": "code",
     "collapsed": false,
     "input": [
      "#plot for each word in the document, the probability for each topic.  Only 5 topics represented in the graph - selected topics\n",
      "#that were the calculated topics by the topic model above.\n",
      "\n",
      "# use matplotlib style sheet\n",
      "try:\n",
      "    plt.style.use('ggplot')\n",
      "except:\n",
      "    # version of matplotlib might not be recent\n",
      "    pass\n",
      "\n",
      "f, ax= plt.subplots(5, 1, figsize=(8, 6), sharex=True)\n",
      "for i, k in enumerate([11, 12, 13, 16, 18]):\n",
      "    ax[i].stem(topic_word[k,:], linefmt='b-',\n",
      "               markerfmt='bo', basefmt='w-')\n",
      "    ax[i].set_xlim(-50,490)\n",
      "    ax[i].set_ylim(0, 0.08)\n",
      "    ax[i].set_ylabel(\"Prob\")\n",
      "    ax[i].set_title(\"topic {}\".format(k))\n",
      "\n",
      "ax[4].set_xlabel(\"word\")\n",
      "\n",
      "plt.tight_layout()\n",
      "plt.show()\n"
     ],
     "language": "python",
     "metadata": {},
     "outputs": [
      {
       "metadata": {},
       "output_type": "display_data",
       "png": "[encoded data removed]",
       "text": [
        "<matplotlib.figure.Figure at 0x106bf208>"
       ]
      }
     ],
     "prompt_number": 244
    },
    {
     "cell_type": "code",
     "collapsed": false,
     "input": [
      "#by document a plot of each topic probability - only 5 presented for simplicity\n",
      "f, ax= plt.subplots(5, 1, figsize=(8, 6), sharex=True)\n",
      "for i, k in enumerate([0, 1, 2, 3, 4]):\n",
      "    ax[i].stem(doc_topic[k,:], linefmt='r-',\n",
      "               markerfmt='ro', basefmt='w-')\n",
      "    ax[i].set_xlim(-1, 21)\n",
      "    ax[i].set_ylim(0, 1)\n",
      "    ax[i].set_ylabel(\"Prob\")\n",
      "    ax[i].set_title(\"Document {}\".format(k))\n",
      "\n",
      "ax[4].set_xlabel(\"Topic\")\n",
      "\n",
      "plt.tight_layout()\n",
      "plt.show()\n"
     ],
     "language": "python",
     "metadata": {},
     "outputs": [
      {
       "metadata": {},
       "output_type": "display_data",
       "png": "[encoded data removed]",
       "text": [
        "<matplotlib.figure.Figure at 0x106bf128>"
       ]
      }
     ],
     "prompt_number": 245
    },
    {
     "cell_type": "code",
     "collapsed": false,
     "input": [
      "\"\"\" start of jargon distance calculation and then LDA on the toy set\n",
      "\"\"\"\n",
      "# Open toy documents, remove stop words and stem.\n",
      " \n",
      "#Need to fix this so have loop to open files and create variable.  My loop with the variable name was not working properly.\n",
      "#This will work until I can fix it.  Same problem as above in the LDA section for the patent files\n",
      "toy_variable1 = open('toy_set1.txt','r')    \n",
      "toy_variable1 = toy_variable1.read()   \n",
      "toy_variable1 = toy_variable1.split()\n",
      "toy_variable1 = stem_function(toy_variable1)\n",
      "toy_variable1 = stop_word(toy_variable1)\n",
      "\n",
      "\n",
      "toy_variable2 = open('toy_set2.txt','r')    \n",
      "toy_variable2 = toy_variable2.read()   \n",
      "toy_variable2 = toy_variable2.split()\n",
      "toy_variable2 = stem_function(toy_variable2)\n",
      "toy_variable2 = stop_word(toy_variable2)\n",
      "\n",
      "toy_variable3 = open('toy_set3.txt','r')    \n",
      "toy_variable3 = toy_variable3.read()   \n",
      "toy_variable3 = toy_variable3.split()\n",
      "toy_variable3 = stem_function(toy_variable3)\n",
      "toy_variable3 = stop_word(toy_variable3)\n",
      "\n",
      "toy_variable4 = open('toy_set4.txt','r')    \n",
      "toy_variable4 = toy_variable4.read()   \n",
      "toy_variable4 = toy_variable4.split()\n",
      "toy_variable4 = stem_function(toy_variable4)\n",
      "toy_variable4 = stop_word(toy_variable4)\n",
      "\n",
      "toy_variable5 = open('toy_set5.txt','r')    \n",
      "toy_variable5 = toy_variable5.read()   \n",
      "toy_variable5 = toy_variable5.split()\n",
      "toy_variable5 = stem_function(toy_variable5)\n",
      "toy_variable5 = stop_word(toy_variable5)\n"
     ],
     "language": "python",
     "metadata": {},
     "outputs": [],
     "prompt_number": 246
    },
    {
     "cell_type": "code",
     "collapsed": false,
     "input": [
      "#output of the toy files for reference\n",
      "print toy_variable1\n",
      "print toy_variable2\n",
      "print toy_variable3\n",
      "print toy_variable4\n",
      "print toy_variable5"
     ],
     "language": "python",
     "metadata": {},
     "outputs": [
      {
       "output_type": "stream",
       "stream": "stdout",
       "text": [
        "[u'visit', u'zoo', u'melbourn', u'australia', u'see', u'nativ', u'anim', u'kangaroo', u'koala', u'koala', u'kangaroo', u'marsupi', u'well-known', u'marsupi', u'includ', u'wallabi', u'wombat', u'tasmanian', u'devil']\n",
        "[u'australia', u'learn', u'hunt', u'boomerang', u'aborigin', u'cultur', u'center', u'throw', u'repeat', u'miss', u'fake', u'koala', u'teacher', u'told', u'would', u'vegetarian']\n",
        "[u'honor', u'mother', u'day', u'think', u'mom', u'voraci', u'reader', u'retir', u'elementari', u'school', u'librarian', u'winni', u'pooh', u'book', u'favorit']\n",
        "[u'kid', u'one', u'favorit', u'book', u'housekeep', u'amelia', u'bedelia', u'one', u'book', u'employ', u'ask', u'draw', u'curtain', u'noon', u'prompt', u'noon', u'sat', u'sketch', u'pad', u'drew', u'curtain', u'hillari', u'first', u'grader']\n",
        "[u'children', u'librarian', u'often', u'recommend', u'amelia', u'bedilia', u'winni', u'pooh', 'dr', u'seuss', u'book', u'young', u'reader']\n"
       ]
      }
     ],
     "prompt_number": 247
    },
    {
     "cell_type": "code",
     "collapsed": false,
     "input": [
      "def entropy_dict(words):     \n",
      "    \"\"\"from a list of words, creates a dictionary of the word and its probability(percentage of times used in document)\n",
      "    \"\"\"\n",
      "    freqdist = nltk.FreqDist(words)\n",
      "    probs_dict = {}\n",
      "    for word in nltk.FreqDist(words):\n",
      "        probs = freqdist.freq(word)\n",
      "        probs_dict[word] = probs\n",
      "    return probs_dict\n",
      "    "
     ],
     "language": "python",
     "metadata": {},
     "outputs": [],
     "prompt_number": 248
    },
    {
     "cell_type": "code",
     "collapsed": false,
     "input": [
      "def shannon_entropy_calc(writer_dict):  \n",
      "    \n",
      "    \"\"\"Calculate the shannon entropy for a dictionary of a writer word list that includes the probabilities\n",
      "    \"\"\"\n",
      "    \n",
      "    shannon_entropy = 0\n",
      "    for word in writer_dict:\n",
      "        p_of_i_x = writer_dict[word]\n",
      "        shannon_entropy -= p_of_i_x * math.log(p_of_i_x,2)\n",
      "    return shannon_entropy"
     ],
     "language": "python",
     "metadata": {},
     "outputs": [],
     "prompt_number": 249
    },
    {
     "cell_type": "code",
     "collapsed": false,
     "input": [
      "def cross_entropy_calc(writer_dict, reader_dict, corpus_dict): \n",
      "    \"\"\"Calculate the cross entopy  of the jargon distance between a writer and reader.  All inputs are dictionaries\n",
      "    of word probbilities\n",
      "    \"\"\"\n",
      "    #Is the writer word in reader codebook or set? \n",
      "    alpha = .01\n",
      "    cross_entropy = 0\n",
      "    for word in writer_dict:        \n",
      "        test_in_dict = word in reader_dict\n",
      "        if test_in_dict == False:\n",
      "            p_of_i = writer_dict[word]\n",
      "            p_of_j = 0 \n",
      "            s = corpus_dict[word]\n",
      "            p_of_iS = (1 - alpha) * p_of_i + (alpha * s)\n",
      "            p_of_jS = (1 - alpha) * p_of_j + (alpha * s)            \n",
      "            cross_entropy -= p_of_iS * math.log(p_of_jS,2)\n",
      "        if test_in_dict == True:             \n",
      "            p_of_i = writer_dict[word]\n",
      "            p_of_j = reader_dict[word] \n",
      "            cross_entropy -= p_of_i * math.log(p_of_j,2)\n",
      "            \n",
      "    return cross_entropy"
     ],
     "language": "python",
     "metadata": {},
     "outputs": [],
     "prompt_number": 250
    },
    {
     "cell_type": "code",
     "collapsed": false,
     "input": [
      "# Create lists of toy set words grouped by topic and a S corpus list\n",
      "toy_set = ([toy_variable1, toy_variable2, toy_variable3,toy_variable4,toy_variable5])\n",
      "\n",
      "doc12 = []   #combined documents 1 and 2 from toy set\n",
      "for item in range(0,2):\n",
      "    for j in toy_set[item]:\n",
      "        doc12.append(j)\n",
      "\n",
      "doc345 = []      #combined documents 3, 4 and 5\n",
      "for item in range(2,5):\n",
      "    for j in toy_set[item]:\n",
      "        doc345.append(j)\n",
      "\n",
      "#Create the S corpus\n",
      "doc12345 = []  #the s corpus\n",
      "for i in toy_set:\n",
      "    for item in i:\n",
      "        doc12345.append(item)\n",
      "\n",
      "print len(doc12)\n",
      "print len(doc345)\n",
      "print len(doc12345)"
     ],
     "language": "python",
     "metadata": {},
     "outputs": [
      {
       "output_type": "stream",
       "stream": "stdout",
       "text": [
        "35\n",
        "52\n",
        "87\n"
       ]
      }
     ],
     "prompt_number": 223
    },
    {
     "cell_type": "code",
     "collapsed": false,
     "input": [
      "# Create dictionary of words and probabilities by each topic group and for the corpus\n",
      "australia_dict =  entropy_dict(doc12)\n",
      "mums_books_dict = entropy_dict(doc345)\n",
      "corpus_dict = entropy_dict(doc12345)"
     ],
     "language": "python",
     "metadata": {},
     "outputs": [],
     "prompt_number": 251
    },
    {
     "cell_type": "code",
     "collapsed": false,
     "input": [
      "#Calculate jargon distance mums books to australia words\n",
      "i = mums_books_dict\n",
      "j = australia_dict\n",
      "\n",
      "E_i_j = shannon_entropy_calc(i) / cross_entropy_calc (i, j, corpus_dict)\n",
      "E_j_i = shannon_entropy_calc(j) / cross_entropy_calc (j, i, corpus_dict)\n",
      "print \"Cultural distance between mums books and Australia:\"\n",
      "print \"Cij = \",1 - E_i_j\n",
      "print\n",
      "print \"Cultural distance between Australia and mums books:\"\n",
      "print \"Cji = \",1 - E_j_i"
     ],
     "language": "python",
     "metadata": {},
     "outputs": [
      {
       "output_type": "stream",
       "stream": "stdout",
       "text": [
        "Cultural distance between mums books and Australia:\n",
        "Cij =  0.585164961394\n",
        "\n",
        "Cultural distance between Australia and mums books:\n",
        "Cji =  0.620408588279\n"
       ]
      }
     ],
     "prompt_number": 252
    },
    {
     "cell_type": "code",
     "collapsed": false,
     "input": [
      "#Toy documents LDA\n",
      "\n",
      "def termdocumentmatrix_toy():\n",
      "    \"\"\"Create a term doc matrix for the toy documents.\n",
      "    \"\"\"\n",
      "    # Initialize class to create term-document matrix\n",
      "    tdm_toy = textmining.TermDocumentMatrix()\n",
      "    # Add the documents\n",
      "    tdm_toy.add_doc(str(toy_variable1))\n",
      "    tdm_toy.add_doc(str(toy_variable2)) \n",
      "    tdm_toy.add_doc(str(toy_variable3))\n",
      "    tdm_toy.add_doc(str(toy_variable4))\n",
      "    tdm_toy.add_doc(str(toy_variable5)) \n",
      "        \n",
      "    toy_vocab = []\n",
      "    toy_list = []\n",
      "    \n",
      "    counter = 0\n",
      "    for row in tdm_toy.rows(cutoff=1):\n",
      "        if counter == 0:\n",
      "            toy_vocab.append(row)\n",
      "            counter += 1\n",
      "        elif counter != 0:\n",
      "            toy_list.append(row)\n",
      "    \n",
      "    toy_array = array( toy_list )   \n",
      "    return toy_array , toy_vocab"
     ],
     "language": "python",
     "metadata": {},
     "outputs": [],
     "prompt_number": 253
    },
    {
     "cell_type": "code",
     "collapsed": false,
     "input": [
      "toy_X, toy_vocab = termdocumentmatrix_toy()\n",
      "print(\"type(toy_X): {}\".format(type(toy_X)))\n",
      "print(\"shape: {}\\n\".format(toy_X.shape))\n",
      " \n",
      " \n",
      "print toy_vocab[0][12]\n",
      "print(\"type(toy_vocab): {}\".format(type(toy_vocab)))\n",
      "print(\"len(toy_vocab): {}\\n\".format(len(toy_vocab)))\n",
      "\n",
      "toy_titles = (\"Australian animals\", \"Austrial travel experience\", \"mothers day\",\n",
      "          \"amelia bedelia book\", \"winnie quote\")\n",
      "\n",
      "\n",
      "toy_doc_id = 0\n",
      "toy_word_id = 12\n",
      "\n",
      "print(\"doc id: {} word id: {}\".format(toy_doc_id, toy_word_id))\n",
      "print(\"-- count: {}\".format(toy_X[toy_doc_id, toy_word_id]))\n",
      "print(\"-- word : {}\".format(toy_vocab[0][toy_word_id]))\n",
      "\n",
      "\n",
      "toy_X.sum()\n",
      "\n",
      "toy_model = lda.LDA(n_topics=2, n_iter=500, random_state=1)\n",
      "toy_model.fit(toy_X)\n"
     ],
     "language": "python",
     "metadata": {},
     "outputs": [
      {
       "output_type": "stream",
       "stream": "stdout",
       "text": [
        "type(toy_X): <type 'numpy.ndarray'>\n",
        "shape: (5L, 72L)\n",
        "\n",
        "see\n",
        "type(toy_vocab): <type 'list'>\n",
        "len(toy_vocab): 1\n",
        "\n",
        "doc id: 0 word id: 12\n",
        "-- count: 1\n",
        "-- word : see\n"
       ]
      },
      {
       "metadata": {},
       "output_type": "pyout",
       "prompt_number": 255,
       "text": [
        "<lda.lda.LDA instance at 0x00000000115517C8>"
       ]
      }
     ],
     "prompt_number": 255
    },
    {
     "cell_type": "code",
     "collapsed": false,
     "input": [
      "print toy_vocab"
     ],
     "language": "python",
     "metadata": {},
     "outputs": [
      {
       "output_type": "stream",
       "stream": "stdout",
       "text": [
        "[['recommend', 'sketch', 'think', 'voraci', 'often', 'elementari', 'favorit', 'cultur', 'draw', 'housekeep', 'one', 'tasmanian', 'see', 'anim', 'fake', 'prompt', 'winni', 'miss', 'children', 'sat', 'devil', 'would', 'amelia', 'noon', 'visit', 'young', 'zoo', 'marsupi', 'book', 'pad', 'includ', 'reader', 'curtain', 'melbourn', 'day', 'told', 'hillari', 'wombat', 'australia', 'bedilia', 'ask', 'kangaroo', 'mother', 'school', 'drew', 'nativ', 'koala', 'mom', 'aborigin', 'known', 'librarian', 'pooh', 'dr', 'teacher', 'repeat', 'kid', 'throw', 'center', 'seuss', 'wallabi', 'vegetarian', 'hunt', 'well', 'honor', 'employ', 'grader', 'u', 'learn', 'boomerang', 'bedelia', 'retir', 'first']]\n"
       ]
      }
     ],
     "prompt_number": 256
    },
    {
     "cell_type": "code",
     "collapsed": false,
     "input": [
      "toy_topic_word = toy_model.topic_word_\n",
      "print(\"type(topic_word): {}\".format(type(toy_topic_word)))\n",
      "print(\"shape: {}\".format(toy_topic_word.shape))\n",
      "\n",
      "for n in range(2):\n",
      "    sum_pr = sum(toy_topic_word[n,:])\n",
      "    print(\"topic: {} sum: {}\".format(n, sum_pr))\n",
      "    \n",
      "n = 20    # number of topic words to print\n",
      "for i, topic_dist in enumerate(toy_topic_word):\n",
      "    topic_words = np.array(toy_vocab)[0][np.argsort(topic_dist)][:-(n+1):-1]\n",
      "    print('*Topic {}\\n- {}'.format(i, ' '.join(topic_words)))"
     ],
     "language": "python",
     "metadata": {},
     "outputs": [
      {
       "output_type": "stream",
       "stream": "stdout",
       "text": [
        "type(topic_word): <type 'numpy.ndarray'>\n",
        "shape: (2L, 72L)\n",
        "topic: 0 sum: 1.0\n",
        "topic: 1 sum: 1.0\n",
        "*Topic 0\n",
        "- u koala australia marsupi kangaroo told nativ tasmanian see anim fake wombat known miss melbourn devil includ would zoo visit\n",
        "*Topic 1\n",
        "- u book curtain reader amelia pooh winni librarian one noon favorit day retir hillari pad bedilia first sat young mother\n"
       ]
      }
     ],
     "prompt_number": 257
    },
    {
     "cell_type": "code",
     "collapsed": false,
     "input": [
      "toy_doc_topic = toy_model.doc_topic_\n",
      "print(\"type(doc_topic): {}\".format(type(toy_doc_topic)))\n",
      "print(\"shape: {}\".format(toy_doc_topic.shape))"
     ],
     "language": "python",
     "metadata": {},
     "outputs": [
      {
       "output_type": "stream",
       "stream": "stdout",
       "text": [
        "type(doc_topic): <type 'numpy.ndarray'>\n",
        "shape: (5L, 2L)\n"
       ]
      }
     ],
     "prompt_number": 258
    },
    {
     "cell_type": "code",
     "collapsed": false,
     "input": [
      "for n in range(5):\n",
      "    topic_most_pr = toy_doc_topic[n].argmax()\n",
      "    print(\"doc: {} topic: {}\\n{}...\".format(n,topic_most_pr,toy_titles[n][:50]))\n",
      "\n",
      "# titles for each story\n",
      "\n",
      "print(\"type(titles): {}\".format(type(toy_titles)))\n",
      "print(\"len(titles): {}\".format(len(toy_titles)))\n",
      "print(\"titles:\\n\\n\", toy_titles , \"\\n\")"
     ],
     "language": "python",
     "metadata": {},
     "outputs": [
      {
       "output_type": "stream",
       "stream": "stdout",
       "text": [
        "doc: 0 topic: 0\n",
        "Australian animals...\n",
        "doc: 1 topic: 0\n",
        "Austrial travel experience...\n",
        "doc: 2 topic: 1\n",
        "mothers day...\n",
        "doc: 3 topic: 1\n",
        "amelia bedelia book...\n",
        "doc: 4 topic: 1\n",
        "winnie quote...\n",
        "type(titles): <type 'tuple'>\n",
        "len(titles): 5\n",
        "('titles:\\n\\n', ('Australian animals', 'Austrial travel experience', 'mothers day', 'amelia bedelia book', 'winnie quote'), '\\n')\n"
       ]
      }
     ],
     "prompt_number": 259
    },
    {
     "cell_type": "code",
     "collapsed": false,
     "input": [],
     "language": "python",
     "metadata": {},
     "outputs": []
    }
   ],
   "metadata": {}
  }
 ]
}