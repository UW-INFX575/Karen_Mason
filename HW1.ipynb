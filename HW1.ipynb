{
 "metadata": {
  "name": "",
  "signature": "sha256:4ea2a6b322735004378a502be91717cd7664498bd59bca5ca07cb8dce9a15d47"
 },
 "nbformat": 3,
 "nbformat_minor": 0,
 "worksheets": [
  {
   "cells": [
    {
     "cell_type": "code",
     "collapsed": false,
     "input": [
      "import urllib2\n",
      "from bs4 import BeautifulSoup\n",
      "import os\n",
      "import re"
     ],
     "language": "python",
     "metadata": {},
     "outputs": [],
     "prompt_number": 2
    },
    {
     "cell_type": "code",
     "collapsed": false,
     "input": [
      "# code to extract Economics department faculty name, title and individual url page\n",
      "#web page has two columns of faculty \n",
      "url = ('http://www.economics.virginia.edu/faculty')\n",
      "page = urllib2.urlopen(url)\n",
      "soup = BeautifulSoup(page.read())\n",
      "\n",
      "EconMaster=[]\n",
      "\n",
      "#select name title and webpage by HTML attributes\n",
      "for row in soup.find_all('tr'):\n",
      "    names = row.find_all('h3')\n",
      "    title = row.find_all('em')\n",
      "    webpage = row.find_all(href=re.compile('people'))  \n",
      "        \n",
      "    try:\n",
      "        a = str(names[0].get_text())\n",
      "        b = str(names[1].get_text())\n",
      "        c = str(title[0].get_text())\n",
      "        d = str(title[1].get_text())\n",
      "        e = str(webpage[0]).split('\"')[1]\n",
      "        f = str(webpage[1]).split('\"')[1]\n",
      "        odds = a,\",\"+c,\",\"+e  #left column data\n",
      "        #print odds  #for debugging    \n",
      "        EconMaster.append(odds)\n",
      "        evens = b,\",\" + d,\",\"+f  #right column data\n",
      "        print evens   #for debugging\n",
      "        EconMaster.append(evens)   #right column data\n",
      "    except:\n",
      "        \n",
      "        continue     "
     ],
     "language": "python",
     "metadata": {},
     "outputs": [
      {
       "output_type": "stream",
       "stream": "stdout",
       "text": [
        "('Karim Chalak', ',Assistant Professor', ',/people/kmc2yf ')\n",
        "('Lee Coppock', ',Associate Professor', ',/people/lc7p ')\n",
        "('Maxim Engers', ',Professor', ',/people/mpe2m ')\n",
        "('James Harrigan', ',Professor', ',/people/jh4xd ')\n",
        "('William Johnson', ',Georgia S. Bankard Professor', ',/people/wrj8y ')\n",
        "('John McLaren', ',Professor', ',/people/jem6x ')\n",
        "('Amalia Miller', ',Associate Professor', ',/people/am5by ')\n",
        "('Leonard Mirman', ',Paul G McIntire Professor of Economics', ',/people/lm8h ')\n",
        "('Denis Nekipelov', ',Associate Professor', ',/people/dn4w ')\n",
        "('Sophie Osotimehin', ',Assistant Professor', ',/people/ao6k ')\n",
        "('Latchezar Popov', ',Assistant Professor', ',/people/lap4d ')\n",
        "('Sheetal Sekhri', ',Assistant Professor', ',/people/ss5mj ')\n",
        "('Peter Troyan', ',Assistant Professor', ',/people/pgt8y ')\n",
        "('Eric Van Wincoop', ',Robert P Black Research Professor of Economics', ',/people/ev4n ')\n"
       ]
      }
     ],
     "prompt_number": 66
    },
    {
     "cell_type": "code",
     "collapsed": false,
     "input": [
      "#Remove item in list due to ascii unicode error in their webpage.  I am not able to resolve issue.\n",
      "EconMaster.pop(19)  #ao6k\n",
      "print EconMaster"
     ],
     "language": "python",
     "metadata": {},
     "outputs": [
      {
       "output_type": "stream",
       "stream": "stdout",
       "text": [
        "[('Simon Anderson', ',Commonwealth Professor of Economics   ', ',/people/sa9w '), ('Karim Chalak', ',Assistant Professor', ',/people/kmc2yf '), ('Federico Ciliberto', ',Associate Professor and Director of Graduate Studies', ',/people/fc3p '), ('Lee Coppock', ',Associate Professor', ',/people/lc7p '), ('Kenneth Elzinga', ',Professor', ',/people/kgz8z '), ('Maxim Engers', ',Professor', ',/people/mpe2m '), ('Leora Friedberg', ',Associate Professor', ',/people/lf6s '), ('James Harrigan', ',Professor', ',/people/jh4xd '), ('Charles Holt', ',A Willis Robertson Professor of Political Economy ', ',/people/cah2k '), ('William Johnson', ',Georgia S. Bankard Professor', ',/people/wrj8y '), ('Andrew Kloosterman', ',Assistant Professor', ',/people/ask5b '), ('John McLaren', ',Professor', ',/people/jem6x '), ('Ron Michener', ',Associate Professor and Director of Undergradute Studies', ',/people/rwm3n '), ('Amalia Miller', ',Associate Professor', ',/people/am5by '), ('David Mills', ',Professor', ',/people/dem9j '), ('Leonard Mirman', ',Paul G McIntire Professor of Economics', ',/people/lm8h '), ('Toshihiko Mukoyama', ',Associate Professor', ',/people/tm5hs '), ('Denis Nekipelov', ',Associate Professor', ',/people/dn4w '), ('Edgar Olsen', ',Professor', ',/people/eoo '), ('John Pepper', ',Professor', ',/people/jvp3m '), ('Latchezar Popov', ',Assistant Professor', ',/people/lap4d '), ('Ariell Reshef', ',Assistant Professor', ',/people/ar7kf '), ('Sheetal Sekhri', ',Assistant Professor', ',/people/ss5mj '), ('Steven Stern', ',Merrill H Bankard Professor of Economics', ',/people/sns5r '), ('Peter Troyan', ',Assistant Professor', ',/people/pgt8y '), ('Sarah Turner, Dept. Chair', ',University Professor of Economics & Education ; Souder Family Professor', ',/people/set5h '), ('Eric Van Wincoop', ',Robert P Black Research Professor of Economics', ',/people/ev4n ')]\n"
       ]
      }
     ],
     "prompt_number": 84
    },
    {
     "cell_type": "code",
     "collapsed": true,
     "input": [
      "#Extract Econ individual web address suffix\n",
      "EconIndivurl = []\n",
      "for item in EconMaster:\n",
      "    EconIndiv = item[2].split(',')[1]\n",
      "    EconIndivurl.append(EconIndiv)\n",
      "\n",
      "print EconIndivurl"
     ],
     "language": "python",
     "metadata": {},
     "outputs": [
      {
       "output_type": "stream",
       "stream": "stdout",
       "text": [
        "['/people/sa9w ', '/people/kmc2yf ', '/people/fc3p ', '/people/lc7p ', '/people/kgz8z ', '/people/mpe2m ', '/people/lf6s ', '/people/jh4xd ', '/people/cah2k ', '/people/wrj8y ', '/people/ask5b ', '/people/jem6x ', '/people/rwm3n ', '/people/am5by ', '/people/dem9j ', '/people/lm8h ', '/people/tm5hs ', '/people/dn4w ', '/people/eoo ', '/people/jvp3m ', '/people/lap4d ', '/people/ar7kf ', '/people/ss5mj ', '/people/sns5r ', '/people/pgt8y ', '/people/set5h ', '/people/ev4n ']\n"
       ]
      }
     ],
     "prompt_number": 85
    },
    {
     "cell_type": "code",
     "collapsed": true,
     "input": [
      "#Look up Phd school on individual page - for Econ\n",
      "EconMaster1 = []\n",
      "count = 0\n",
      "for row in EconIndivurl:\n",
      "    print row\n",
      "\n",
      "    url = ('http://www.economics.virginia.edu')\n",
      "    person = row\n",
      "    combinedurl = (url+person)\n",
      "    page = urllib2.urlopen(combinedurl)\n",
      "    soup = BeautifulSoup(page.read())\n",
      "    #Find degree by searching page by name.  Several variations of degree name\n",
      "    edNoPunc = str(soup.find(text=re.compile(\"PhD\")))\n",
      "    edPeriod = str(soup.find(text=re.compile(\"Ph.D.\")))\n",
      "    edLong = str(soup.find(text=re.compile(\"Doctor\")))\n",
      "    if edNoPunc != 'None':\n",
      "        Ed = edNoPunc\n",
      "    elif edPeriod != 'None':\n",
      "        Ed = edPeriod\n",
      "    elif edLong != None:\n",
      "        Ed = edLong\n",
      "    EconMaster1.append(Ed)\n",
      "    count = count + 1"
     ],
     "language": "python",
     "metadata": {},
     "outputs": [
      {
       "output_type": "stream",
       "stream": "stdout",
       "text": [
        "/people/sa9w \n",
        "/people/kmc2yf "
       ]
      },
      {
       "output_type": "stream",
       "stream": "stdout",
       "text": [
        "\n",
        "/people/fc3p "
       ]
      },
      {
       "output_type": "stream",
       "stream": "stdout",
       "text": [
        "\n",
        "/people/lc7p "
       ]
      },
      {
       "output_type": "stream",
       "stream": "stdout",
       "text": [
        "\n",
        "/people/kgz8z "
       ]
      },
      {
       "output_type": "stream",
       "stream": "stdout",
       "text": [
        "\n",
        "/people/mpe2m "
       ]
      },
      {
       "output_type": "stream",
       "stream": "stdout",
       "text": [
        "\n",
        "/people/lf6s "
       ]
      },
      {
       "output_type": "stream",
       "stream": "stdout",
       "text": [
        "\n",
        "/people/jh4xd "
       ]
      },
      {
       "output_type": "stream",
       "stream": "stdout",
       "text": [
        "\n",
        "/people/cah2k "
       ]
      },
      {
       "output_type": "stream",
       "stream": "stdout",
       "text": [
        "\n",
        "/people/wrj8y "
       ]
      },
      {
       "output_type": "stream",
       "stream": "stdout",
       "text": [
        "\n",
        "/people/ask5b "
       ]
      },
      {
       "output_type": "stream",
       "stream": "stdout",
       "text": [
        "\n",
        "/people/jem6x "
       ]
      },
      {
       "output_type": "stream",
       "stream": "stdout",
       "text": [
        "\n",
        "/people/rwm3n "
       ]
      },
      {
       "output_type": "stream",
       "stream": "stdout",
       "text": [
        "\n",
        "/people/am5by "
       ]
      },
      {
       "output_type": "stream",
       "stream": "stdout",
       "text": [
        "\n",
        "/people/dem9j "
       ]
      },
      {
       "output_type": "stream",
       "stream": "stdout",
       "text": [
        "\n",
        "/people/lm8h "
       ]
      },
      {
       "output_type": "stream",
       "stream": "stdout",
       "text": [
        "\n",
        "/people/tm5hs "
       ]
      },
      {
       "output_type": "stream",
       "stream": "stdout",
       "text": [
        "\n",
        "/people/dn4w "
       ]
      },
      {
       "output_type": "stream",
       "stream": "stdout",
       "text": [
        "\n",
        "/people/eoo "
       ]
      },
      {
       "output_type": "stream",
       "stream": "stdout",
       "text": [
        "\n",
        "/people/jvp3m "
       ]
      },
      {
       "output_type": "stream",
       "stream": "stdout",
       "text": [
        "\n",
        "/people/lap4d "
       ]
      },
      {
       "output_type": "stream",
       "stream": "stdout",
       "text": [
        "\n",
        "/people/ar7kf "
       ]
      },
      {
       "output_type": "stream",
       "stream": "stdout",
       "text": [
        "\n",
        "/people/ss5mj "
       ]
      },
      {
       "output_type": "stream",
       "stream": "stdout",
       "text": [
        "\n",
        "/people/sns5r "
       ]
      },
      {
       "output_type": "stream",
       "stream": "stdout",
       "text": [
        "\n",
        "/people/pgt8y "
       ]
      },
      {
       "output_type": "stream",
       "stream": "stdout",
       "text": [
        "\n",
        "/people/set5h "
       ]
      },
      {
       "output_type": "stream",
       "stream": "stdout",
       "text": [
        "\n",
        "/people/ev4n "
       ]
      },
      {
       "output_type": "stream",
       "stream": "stdout",
       "text": [
        "\n"
       ]
      }
     ],
     "prompt_number": 86
    },
    {
     "cell_type": "code",
     "collapsed": false,
     "input": [
      "print EconMaster1\n",
      "len (EconMaster1)"
     ],
     "language": "python",
     "metadata": {},
     "outputs": [
      {
       "output_type": "stream",
       "stream": "stdout",
       "text": [
        "[\"\\n\\t\\tDoctor of Philosophy (PhD), Queen's University at Kingston\", '\\n\\t\\tPh.D. in Economics, University of California, San Diego', '\\n\\t\\tDoctor of Philosophy (PhD), Northwestern University', '\\n\\t\\tDoctor of Philosophy (PhD), George Mason University', '\\n\\t\\tDoctor of Philosophy (Ph.D.) Michigan State University', '\\n\\t\\tDoctor of Philosophy (Ph.D), University of California System: Los Angeles', 'Doctor of Philosophy, Massachusetts Institute of Technology', '\\n\\t\\tDoctor of Philosophy (PhD), University of California System : Los Angeles', '\\n\\t\\tDoctor of Philosophy (PhD), Carnegie Mellon University', '\\n\\t\\tDoctor of Philosophy (PhD), Massachusetts Institute of Technology', 'Doctor of Philosophy (PhD), New York University', '\\n\\t\\tDoctor of Philosophy (PhD), Princeton University', '\\n\\t\\tDoctor of Philosophy (PhD), University of Chicago', '\\n\\t\\tDoctor of Philosophy (PhD), Stanford University', '\\n\\t\\tDoctor of Philosophy (PhD), Stanford University', '\\n\\t\\tDoctor of Philosophy (PhD), University of Rochester', '\\n\\t\\tDoctor of Philosophy (PhD), University of Rochester', 'None', '\\n\\t\\tDoctor of Philosophy (PhD), Rice University', '\\n\\t\\tDoctor of Philosophy (PhD), University of Wisconsin System : Madison', '\\n\\t\\tDoctor of Philosophy (PhD), University of Iowa', '\\n\\t\\tDoctor of Philosophy (PhD), New York University', '\\n\\t\\tDoctor of Philosophy (PhD), Brown University', '\\n\\t\\tDoctor of Philosophy (PhD), Yale University', 'Doctor of Philosophy: Stanford University', '\\n\\t\\tDoctor of Philosophy (PhD), University of Michigan System : Ann Arbor', '\\n\\t\\tDoctor of Philosophy (PhD), Harvard University']\n"
       ]
      },
      {
       "metadata": {},
       "output_type": "pyout",
       "prompt_number": 87,
       "text": [
        "27"
       ]
      }
     ],
     "prompt_number": 87
    },
    {
     "cell_type": "code",
     "collapsed": false,
     "input": [
      "#Add Econ to master faculty list\n",
      "Faculty = []\n",
      "for i in range(0,len(EconMaster1)):\n",
      "    Faculty.append(EconMaster[i])\n",
      "    Faculty.append(EconMaster1[i])\n"
     ],
     "language": "python",
     "metadata": {},
     "outputs": [],
     "prompt_number": 250
    },
    {
     "cell_type": "code",
     "collapsed": false,
     "input": [
      "print Faculty[0]"
     ],
     "language": "python",
     "metadata": {},
     "outputs": [
      {
       "output_type": "stream",
       "stream": "stdout",
       "text": [
        "('Simon Anderson', ',Commonwealth Professor of Economics   ', ',/people/sa9w ')\n"
       ]
      }
     ],
     "prompt_number": 245
    },
    {
     "cell_type": "code",
     "collapsed": false,
     "input": [
      "# English department faculty\n",
      "\n",
      "# code to extract from webpage and write to local file\n",
      "EnglMaster = []\n",
      "for i in range(0,9):   # to compensate for different url naming schema per page\n",
      "    if i == 0:\n",
      "        url = ('http://www.engl.virginia.edu/faculty?keys=&field_specialties_tid=All')\n",
      "        page = urllib2.urlopen(url)\n",
      "    else:\n",
      "        url = ('http://www.engl.virginia.edu/faculty?keys=&field_specialties_tid=All&page=')\n",
      "        page = urllib2.urlopen(url+str(i))\n",
      "        \n",
      "    soup = BeautifulSoup(page.read())\n",
      "      \n",
      "    #select name title and webpage by HTML attributes\n",
      "    for row in soup.find_all('tr'):    \n",
      "        names = row.find_all('h4')\n",
      "        title = row.find_all('h5')\n",
      "        webpage = row.find_all(href=re.compile('people'))\n",
      "        \n",
      "        try:\n",
      "            a = str(names[0].get_text())            \n",
      "            c = str(title[0].get_text())            \n",
      "            e = str(webpage[0]).split('\"')[1]            \n",
      "            odds = a,\",\" +c,\",\"+e #only one faculty member per row so no need for even odd split\n",
      "            print odds # for debugging\n",
      "            EnglMaster.append(odds)\n",
      "            \n",
      "        except:\n",
      "            #print \"bad string\"\n",
      "            continue\n"
     ],
     "language": "python",
     "metadata": {},
     "outputs": [
      {
       "output_type": "stream",
       "stream": "stdout",
       "text": [
        "('Jane  Alison', ',Professor', ',/people/jas2ad ')\n",
        "('Stephen Arata', ',Professor', ',/people/sda2e ')\n",
        "('Peter Baker', ',Professor', ',/people/psb6m ')\n",
        "('Martin Battestin', ',Emeritus', ',/people/mcb9g ')\n",
        "('Ann Beattie', ',Edgar Allan Poe Professor Emerita', ',/people/ab9s ')\n",
        "('Sydney Blair', ',Associate Professor', ',/people/shb7f ')\n",
        "('Alison Booth', ',Professor', ',/people/ab6j ')\n",
        "('Gordon Braden', ',Emeritus', ',/people/gmb5s ')\n",
        "('Anna Brickhouse', ',Associate Professor', ',/people/acb2hf ')\n",
        "('Paul Broyles', ',Postdoctoral Preceptor', ',/people/pab8d ')\n",
        "('Paul Cantor', ',Clifton Waller Barrett Professor', ',/people/pac2j ')\n",
        "('John Casey', ',Henry Hoyns Professor', ',/people/jdc ')\n",
        "('John T. Casteen, III', ',University Professor, Professor of English, President Emeritus', ',/people/jtc ')\n",
        "('Mrinalini Chakravorty', ',Associate Professor', ',/people/mc5je ')\n",
        "('Claire Chantell', ',Lecturer', ',/people/cc2de ')\n",
        "('Karen Chase', ',Linden Kent Memorial Professor', ',/people/ksc3j ')"
       ]
      },
      {
       "output_type": "stream",
       "stream": "stdout",
       "text": [
        "\n",
        "('Sylvia Chong', ',Associate Professor', ',/people/sc9ar ')\n",
        "('Ralph Cohen', ',William R. Kenan, Jr. Professor Emeritus', ',/people/rc ')\n",
        "('Sarah Cole', ',Assistant Professor and Assistant Dean', ',/people/src2j ')\n",
        "('Stephen Cushman', ',Robert C. Taylor Professor', ',/people/sbc9g ')\n",
        "(\"Jon D'Errico\", ',Assistant Professor, Associate Director of Academic and Professional Writing', ',/people/jd5j ')\n",
        "('Elizabeth Denton', ',Lecturer', ',/people/ed3m ')\n",
        "('Devin Donovan', ',Lecturer in English', ',/people/djd5b ')\n",
        "('Rita Dove', ',Commonwealth Professor', ',/people/rfd4b ')\n",
        "('Keith Driver', ',Lecturer in English', ',/people/kd2fa ')\n",
        "('Hoyt Duggan', ',Emeritus', ',/people/hnd ')\n",
        "('Mark Edmundson', ',University Professor', ',/people/mwe ')\n",
        "('Ashley Faulkner', ',Postdoctoral Preceptor', ',/people/amf3r ')\n",
        "('Jessica Feldman', ',Professor', ',/people/jrf2j ')\n",
        "('Rita Felski', ',William R Kenan, Jr. Professor; Editor, New Literary History', ',/people/rf6d ')\n",
        "('Elizabeth Fowler', ',Associate Professor', ',/people/ef4n ')"
       ]
      },
      {
       "output_type": "stream",
       "stream": "stdout",
       "text": [
        "\n",
        "('Susan Fraiman', ',Professor', ',/people/sdf8x ')\n",
        "('Kristin Gilger', ',Lecturer', ',/people/keg7z ')\n",
        "('Lisa Goff', ',Lecturer', ',/people/lg6t ')\n",
        "('Audrey Golden', ',Postdoctoral Preceptor', ',/people/ajg3ac ')\n",
        "('K. Ian Grandison', ',University Professor', ',/people/kig6n ')\n",
        "('Jennifer Greeson', ',Associate Professor, Director of Undergraduate Studies', ',/people/jrg6k ')\n",
        "('Paul Guest', ',Assistant Professor', ',/people/pmg4w ')\n",
        "('Madigan Haley', ',Postdoctoral Preceptor', ',/people/mkh3a ')\n",
        "('Njelle Hamilton', ',Assistant Professor Department of English; and Carter G. Woodson Institute for African and African-American Studies ', ',/people/nwh9f ')\n",
        "('Kevin Hart', ',Edwin B. Kyle Professor of Christian Studies; Professor, Department of Religious Studies; Courtesy Professor in English and French', ',/people/ ')\n",
        "('Stephen Hequembourg', ',ACLS Fellow', ',/people/sbh5u ')\n",
        "('E. D. Hirsch', ',Emeritus', ',/people/edh9k ')\n",
        "('Bruce Holsinger', ',Professor', ',/people/bh9n ')\n",
        "('Alan Howard', ',Emeritus', ',/people/abh9h ')\n",
        "('J. Paul Hunter', ',Emeritus', ',/people/jph7f ')"
       ]
      },
      {
       "output_type": "stream",
       "stream": "stdout",
       "text": [
        "\n",
        "('Alison Hurley', ',Lecturer', ',/people/aeh6t ')\n",
        "('Sarah Ingle', ',Lecturer', ',/people/sei5j ')\n",
        "('Walter Jost', ',Professor', ',/people/wpj ')\n",
        "('C. Brian Kelly', ',Lecturer', ',/people/cbk6f ')\n",
        "('J. Daniel  Kinney', ',Professor, Director of Graduate Studies', ',/people/jdk3t ')\n",
        "('Clare Kinney', ',Associate Professor, Director of Graduate Admissions', ',/people/crk4h ')\n",
        "('Arthur Kirsch', ',Emeritus', ',/people/ack ')\n",
        "('Harold Kolb', ',Emeritus', ',/people/hhk6s ')\n",
        "('Walter Korte', ',Associate Professor', ',/people/wfk ')\n",
        "('Kate Kostelnik', ',Lecturer in English', ',/people/kpk7e ')\n",
        "('Christopher Krentz', ',Associate Professor', ',/people/ck9m ')\n",
        "('Robert Langbaum', ',Emeritus', ',/people/rwl8v ')\n",
        "('Michael Levenson', ',William B. Christian Professor', ',/people/mhc ')\n",
        "('Jacob C. Levenson', ',Emeritus', ',/people/jcl3g ')\n",
        "('James (Jeb) Livingood', ',Lecturer', ',/people/jsl9z ')"
       ]
      },
      {
       "output_type": "stream",
       "stream": "stdout",
       "text": [
        "\n",
        "('Victor Luftig', ',Professor, Director of the Center for the Liberal Arts', ',/people/vl4n ')\n",
        "('Rennie Mapp', ',Lecturer', ',/people/rcm7e ')\n",
        "('Pamela Marcantel', ',Undergraduate Administrator', ',/people/mpm3a ')\n",
        "('Katharine Maus', ',James Branch Cabell Professor, Associate Chair', ',/people/kem6v ')\n",
        "('Ann Mazur', ',Shannon Fellow', ',/people/amm3ad ')\n",
        "('Deborah McDowell', ',Alice Griffin Professor; Director, Carter G Woodson Center', ',/people/dem8z ')\n",
        "('Jerome McGann', ',University Professor, John Stewart Bryan Professor', ',/people/jjm2f ')\n",
        "('David Morris', ',Emeritus', ',/people/dbm6e ')\n",
        "('James Nohrnberg', ',Emeritus', ',/people/jcn ')\n",
        "('Bethany Nowviskie', ',Research Associate Professor of Digital Humanities, Director of the Digital Library Federation', ',/people/bpn2f ')\n",
        "('Debra Nystrom', ',Professor', ',/people/dln8u ')\n",
        "(\"John O'Brien\", ',NEH Daniels Family Distinguished Teaching Professor', ',/people/jo6p ')\n",
        "('Emily Ogden', ',Assistant Professor', ',/people/eno6k ')\n",
        "('Victoria Olwell', ',Associate Professor, Director of Graduate Placement', ',/people/vjo2f ')\n",
        "('Gregory Orr', ',Professor', ',/people/gso ')"
       ]
      },
      {
       "output_type": "stream",
       "stream": "stdout",
       "text": [
        "\n",
        "('J. Frank Papovich', ',Lecturer and Assistant Dean', ',/people/jp ')\n",
        "('John Parker', ',Associate Professor', ',/people/jlp4ca ')\n",
        "('Brad Pasanek', ',Assistant Professor', ',/people/bmp7e ')\n",
        "('Stephen Railton', ',Professor', ',/people/sfr ')\n",
        "('Jahan Ramazani', ',Edgar F. Shannon Professor', ',/people/rr5m ')\n",
        "('Eric Rettberg', ',Shannon Fellow', ',/people/ejr2f ')\n",
        "('Hallie Smith Richmond', ',Lecturer', ',/people/hes7x ')\n",
        "('Caroline Rody', ',Professor, Director of Distinguished Majors Program', ',/people/cmr8v ')\n",
        "('Marlon Ross', ',Professor', ',/people/mr9zf ')\n",
        "('James Salter', ',Kapnick Family Distinguished Writer in Residence', ',/people/js6gn ')\n",
        "('James Seitz', ',Associate Professor and Director, Academic and Professional Writing Program', ',/people/jes4bd ')\n",
        "('Sandhya Shukla', ',Associate Professor, Director of American Studies', ',/people/ss9fp ')\n",
        "('Lisa Russ Spaar', ',Professor', ',/people/lrs9e ')\n",
        "('Patricia Meyer Spacks', ',Edgar F. Shannon Professor Emerita', ',/people/pms2b ')\n",
        "('A.C. Spearing', ',William R. Kenan, Jr. Professor', ',/people/acs4j ')"
       ]
      },
      {
       "output_type": "stream",
       "stream": "stdout",
       "text": [
        "\n",
        "('Elizabeth Spearing', ',Lecturer', ',/people/es5y ')\n",
        "('Michael Eric Spiegel', ',Postdoctoral Preceptor', ',/people/mes2ee ')\n",
        "('Andrew Stauffer', ',Associate Professor, Director of NINES', ',/people/ams4k ')\n",
        "('Michael Suarez', ',University Professor; Director, Rare Book School', ',/people/mfs3x ')\n",
        "('John Sullivan', ',Associate Professor Emeritus', ',/people/js3f ')\n",
        "('Patricia Sullivan', ',Lecturer, Director of Writing Center', ',/people/pss8m ')\n",
        "('Christopher Tilghman', ',Professor', ',/people/ct2a ')\n",
        "('Jeremy Townley', ',Lecturer', ',/people/jtt8g ')\n",
        "('Herbert Tucker', ',John C. Coleman Professor', ',/people/ht2t ')\n",
        "('David Vander Meulen', ',Professor', ',/people/dlv8g ')\n",
        "('Cynthia Wall', ',Professor and Chair', ',/people/cw5p ')\n",
        "('Maurice Wallace', ',Associate Professor', ',/people/mow5p ')\n",
        "('Jennifer Wicke', ',Professor', ',/people/jaw2b ')\n",
        "('Lisa Woolfork', ',Associate Professor', ',/people/lw5y ')\n",
        "('Charles Wright', ',Emeritus', ',/people/ ')"
       ]
      },
      {
       "output_type": "stream",
       "stream": "stdout",
       "text": [
        "\n"
       ]
      }
     ],
     "prompt_number": 129
    },
    {
     "cell_type": "code",
     "collapsed": false,
     "input": [
      "#Remove items in list due to ascii unicode error in their webpage.  I am not able to resolve issue.\n",
      "EnglMaster.pop(23)  #Rita Dove\n",
      "EnglMaster.pop(26) #ashley Falukner\n",
      "EnglMaster.pop(64) #dem8z\n",
      "EnglMaster.pop(100) #jaw2b\n",
      "print EnglMaster[100]"
     ],
     "language": "python",
     "metadata": {},
     "outputs": [
      {
       "output_type": "stream",
       "stream": "stdout",
       "text": [
        "('Lisa Woolfork', ',Associate Professor', ',/people/lw5y ')\n"
       ]
      }
     ],
     "prompt_number": 130
    },
    {
     "cell_type": "code",
     "collapsed": false,
     "input": [
      "#Extract Econ individual web address suffix\n",
      "EnglIndivurl = []\n",
      "for item in EnglMaster:\n",
      "    EnglIndiv = item[2].split(',')[1]\n",
      "    EnglIndivurl.append(EnglIndiv)\n",
      "\n",
      "print EnglIndivurl"
     ],
     "language": "python",
     "metadata": {},
     "outputs": [
      {
       "output_type": "stream",
       "stream": "stdout",
       "text": [
        "['/people/jas2ad ', '/people/sda2e ', '/people/psb6m ', '/people/mcb9g ', '/people/ab9s ', '/people/shb7f ', '/people/ab6j ', '/people/gmb5s ', '/people/acb2hf ', '/people/pab8d ', '/people/pac2j ', '/people/jdc ', '/people/jtc ', '/people/mc5je ', '/people/cc2de ', '/people/ksc3j ', '/people/sc9ar ', '/people/rc ', '/people/src2j ', '/people/sbc9g ', '/people/jd5j ', '/people/ed3m ', '/people/djd5b ', '/people/kd2fa ', '/people/hnd ', '/people/mwe ', '/people/jrf2j ', '/people/rf6d ', '/people/ef4n ', '/people/sdf8x ', '/people/keg7z ', '/people/lg6t ', '/people/ajg3ac ', '/people/kig6n ', '/people/jrg6k ', '/people/pmg4w ', '/people/mkh3a ', '/people/nwh9f ', '/people/ ', '/people/sbh5u ', '/people/edh9k ', '/people/bh9n ', '/people/abh9h ', '/people/jph7f ', '/people/aeh6t ', '/people/sei5j ', '/people/wpj ', '/people/cbk6f ', '/people/jdk3t ', '/people/crk4h ', '/people/ack ', '/people/hhk6s ', '/people/wfk ', '/people/kpk7e ', '/people/ck9m ', '/people/rwl8v ', '/people/mhc ', '/people/jcl3g ', '/people/jsl9z ', '/people/vl4n ', '/people/rcm7e ', '/people/mpm3a ', '/people/kem6v ', '/people/amm3ad ', '/people/jjm2f ', '/people/dbm6e ', '/people/jcn ', '/people/bpn2f ', '/people/dln8u ', '/people/jo6p ', '/people/eno6k ', '/people/vjo2f ', '/people/gso ', '/people/jp ', '/people/jlp4ca ', '/people/bmp7e ', '/people/sfr ', '/people/rr5m ', '/people/ejr2f ', '/people/hes7x ', '/people/cmr8v ', '/people/mr9zf ', '/people/js6gn ', '/people/jes4bd ', '/people/ss9fp ', '/people/lrs9e ', '/people/pms2b ', '/people/acs4j ', '/people/es5y ', '/people/mes2ee ', '/people/ams4k ', '/people/mfs3x ', '/people/js3f ', '/people/pss8m ', '/people/ct2a ', '/people/jtt8g ', '/people/ht2t ', '/people/dlv8g ', '/people/cw5p ', '/people/mow5p ', '/people/lw5y ', '/people/ ']\n"
       ]
      }
     ],
     "prompt_number": 131
    },
    {
     "cell_type": "code",
     "collapsed": false,
     "input": [
      "#Look up Phd school on individual page - for Engl\n",
      "EnglMaster1 = []\n",
      "for row in EnglIndivurl:\n",
      "    print row\n",
      "\n",
      "    url = ('http://www.engl.virginia.edu')\n",
      "    person = row\n",
      "    combinedurl = (url+person)\n",
      "    page = urllib2.urlopen(combinedurl)\n",
      "    soup = BeautifulSoup(page.read())\n",
      "    edNoPunc = str(soup.find(text=re.compile(\"PhD\")))\n",
      "    edPeriod = str(soup.find(text=re.compile(\"Ph.D.\")))\n",
      "    edLong = str(soup.find(text=re.compile(\"Doctor\")))\n",
      "    if edNoPunc != 'None':\n",
      "        Ed = edNoPunc\n",
      "    elif edPeriod != 'None':\n",
      "        Ed = edPeriod\n",
      "    elif edLong != None:\n",
      "        Ed = edLong\n",
      "    else:\n",
      "        continue\n",
      "    EnglMaster1.append(Ed)"
     ],
     "language": "python",
     "metadata": {},
     "outputs": [
      {
       "output_type": "stream",
       "stream": "stdout",
       "text": [
        "/people/jas2ad \n",
        "/people/sda2e "
       ]
      },
      {
       "output_type": "stream",
       "stream": "stdout",
       "text": [
        "\n",
        "/people/psb6m "
       ]
      },
      {
       "output_type": "stream",
       "stream": "stdout",
       "text": [
        "\n",
        "/people/mcb9g "
       ]
      },
      {
       "output_type": "stream",
       "stream": "stdout",
       "text": [
        "\n",
        "/people/ab9s "
       ]
      },
      {
       "output_type": "stream",
       "stream": "stdout",
       "text": [
        "\n",
        "/people/shb7f "
       ]
      },
      {
       "output_type": "stream",
       "stream": "stdout",
       "text": [
        "\n",
        "/people/ab6j "
       ]
      },
      {
       "output_type": "stream",
       "stream": "stdout",
       "text": [
        "\n",
        "/people/gmb5s "
       ]
      },
      {
       "output_type": "stream",
       "stream": "stdout",
       "text": [
        "\n",
        "/people/acb2hf "
       ]
      },
      {
       "output_type": "stream",
       "stream": "stdout",
       "text": [
        "\n",
        "/people/pab8d "
       ]
      },
      {
       "output_type": "stream",
       "stream": "stdout",
       "text": [
        "\n",
        "/people/pac2j "
       ]
      },
      {
       "output_type": "stream",
       "stream": "stdout",
       "text": [
        "\n",
        "/people/jdc "
       ]
      },
      {
       "output_type": "stream",
       "stream": "stdout",
       "text": [
        "\n",
        "/people/jtc "
       ]
      },
      {
       "output_type": "stream",
       "stream": "stdout",
       "text": [
        "\n",
        "/people/mc5je "
       ]
      },
      {
       "output_type": "stream",
       "stream": "stdout",
       "text": [
        "\n",
        "/people/cc2de "
       ]
      },
      {
       "output_type": "stream",
       "stream": "stdout",
       "text": [
        "\n",
        "/people/ksc3j "
       ]
      },
      {
       "output_type": "stream",
       "stream": "stdout",
       "text": [
        "\n",
        "/people/sc9ar "
       ]
      },
      {
       "output_type": "stream",
       "stream": "stdout",
       "text": [
        "\n",
        "/people/rc "
       ]
      },
      {
       "output_type": "stream",
       "stream": "stdout",
       "text": [
        "\n",
        "/people/src2j "
       ]
      },
      {
       "output_type": "stream",
       "stream": "stdout",
       "text": [
        "\n",
        "/people/sbc9g "
       ]
      },
      {
       "output_type": "stream",
       "stream": "stdout",
       "text": [
        "\n",
        "/people/jd5j "
       ]
      },
      {
       "output_type": "stream",
       "stream": "stdout",
       "text": [
        "\n",
        "/people/ed3m "
       ]
      },
      {
       "output_type": "stream",
       "stream": "stdout",
       "text": [
        "\n",
        "/people/djd5b "
       ]
      },
      {
       "output_type": "stream",
       "stream": "stdout",
       "text": [
        "\n",
        "/people/kd2fa "
       ]
      },
      {
       "output_type": "stream",
       "stream": "stdout",
       "text": [
        "\n",
        "/people/hnd "
       ]
      },
      {
       "output_type": "stream",
       "stream": "stdout",
       "text": [
        "\n",
        "/people/mwe "
       ]
      },
      {
       "output_type": "stream",
       "stream": "stdout",
       "text": [
        "\n",
        "/people/jrf2j "
       ]
      },
      {
       "output_type": "stream",
       "stream": "stdout",
       "text": [
        "\n",
        "/people/rf6d "
       ]
      },
      {
       "output_type": "stream",
       "stream": "stdout",
       "text": [
        "\n",
        "/people/ef4n "
       ]
      },
      {
       "output_type": "stream",
       "stream": "stdout",
       "text": [
        "\n",
        "/people/sdf8x "
       ]
      },
      {
       "output_type": "stream",
       "stream": "stdout",
       "text": [
        "\n",
        "/people/keg7z "
       ]
      },
      {
       "output_type": "stream",
       "stream": "stdout",
       "text": [
        "\n",
        "/people/lg6t "
       ]
      },
      {
       "output_type": "stream",
       "stream": "stdout",
       "text": [
        "\n",
        "/people/ajg3ac "
       ]
      },
      {
       "output_type": "stream",
       "stream": "stdout",
       "text": [
        "\n",
        "/people/kig6n "
       ]
      },
      {
       "output_type": "stream",
       "stream": "stdout",
       "text": [
        "\n",
        "/people/jrg6k "
       ]
      },
      {
       "output_type": "stream",
       "stream": "stdout",
       "text": [
        "\n",
        "/people/pmg4w "
       ]
      },
      {
       "output_type": "stream",
       "stream": "stdout",
       "text": [
        "\n",
        "/people/mkh3a "
       ]
      },
      {
       "output_type": "stream",
       "stream": "stdout",
       "text": [
        "\n",
        "/people/nwh9f "
       ]
      },
      {
       "output_type": "stream",
       "stream": "stdout",
       "text": [
        "\n",
        "/people/ "
       ]
      },
      {
       "output_type": "stream",
       "stream": "stdout",
       "text": [
        "\n",
        "/people/sbh5u "
       ]
      },
      {
       "output_type": "stream",
       "stream": "stdout",
       "text": [
        "\n",
        "/people/edh9k "
       ]
      },
      {
       "output_type": "stream",
       "stream": "stdout",
       "text": [
        "\n",
        "/people/bh9n "
       ]
      },
      {
       "output_type": "stream",
       "stream": "stdout",
       "text": [
        "\n",
        "/people/abh9h "
       ]
      },
      {
       "output_type": "stream",
       "stream": "stdout",
       "text": [
        "\n",
        "/people/jph7f "
       ]
      },
      {
       "output_type": "stream",
       "stream": "stdout",
       "text": [
        "\n",
        "/people/aeh6t "
       ]
      },
      {
       "output_type": "stream",
       "stream": "stdout",
       "text": [
        "\n",
        "/people/sei5j "
       ]
      },
      {
       "output_type": "stream",
       "stream": "stdout",
       "text": [
        "\n",
        "/people/wpj "
       ]
      },
      {
       "output_type": "stream",
       "stream": "stdout",
       "text": [
        "\n",
        "/people/cbk6f "
       ]
      },
      {
       "output_type": "stream",
       "stream": "stdout",
       "text": [
        "\n",
        "/people/jdk3t "
       ]
      },
      {
       "output_type": "stream",
       "stream": "stdout",
       "text": [
        "\n",
        "/people/crk4h "
       ]
      },
      {
       "output_type": "stream",
       "stream": "stdout",
       "text": [
        "\n",
        "/people/ack "
       ]
      },
      {
       "output_type": "stream",
       "stream": "stdout",
       "text": [
        "\n",
        "/people/hhk6s "
       ]
      },
      {
       "output_type": "stream",
       "stream": "stdout",
       "text": [
        "\n",
        "/people/wfk "
       ]
      },
      {
       "output_type": "stream",
       "stream": "stdout",
       "text": [
        "\n",
        "/people/kpk7e "
       ]
      },
      {
       "output_type": "stream",
       "stream": "stdout",
       "text": [
        "\n",
        "/people/ck9m "
       ]
      },
      {
       "output_type": "stream",
       "stream": "stdout",
       "text": [
        "\n",
        "/people/rwl8v "
       ]
      },
      {
       "output_type": "stream",
       "stream": "stdout",
       "text": [
        "\n",
        "/people/mhc "
       ]
      },
      {
       "output_type": "stream",
       "stream": "stdout",
       "text": [
        "\n",
        "/people/jcl3g "
       ]
      },
      {
       "output_type": "stream",
       "stream": "stdout",
       "text": [
        "\n",
        "/people/jsl9z "
       ]
      },
      {
       "output_type": "stream",
       "stream": "stdout",
       "text": [
        "\n",
        "/people/vl4n "
       ]
      },
      {
       "output_type": "stream",
       "stream": "stdout",
       "text": [
        "\n",
        "/people/rcm7e "
       ]
      },
      {
       "output_type": "stream",
       "stream": "stdout",
       "text": [
        "\n",
        "/people/mpm3a "
       ]
      },
      {
       "output_type": "stream",
       "stream": "stdout",
       "text": [
        "\n",
        "/people/kem6v "
       ]
      },
      {
       "output_type": "stream",
       "stream": "stdout",
       "text": [
        "\n",
        "/people/amm3ad "
       ]
      },
      {
       "output_type": "stream",
       "stream": "stdout",
       "text": [
        "\n",
        "/people/jjm2f "
       ]
      },
      {
       "output_type": "stream",
       "stream": "stdout",
       "text": [
        "\n",
        "/people/dbm6e "
       ]
      },
      {
       "output_type": "stream",
       "stream": "stdout",
       "text": [
        "\n",
        "/people/jcn "
       ]
      },
      {
       "output_type": "stream",
       "stream": "stdout",
       "text": [
        "\n",
        "/people/bpn2f "
       ]
      },
      {
       "output_type": "stream",
       "stream": "stdout",
       "text": [
        "\n",
        "/people/dln8u "
       ]
      },
      {
       "output_type": "stream",
       "stream": "stdout",
       "text": [
        "\n",
        "/people/jo6p "
       ]
      },
      {
       "output_type": "stream",
       "stream": "stdout",
       "text": [
        "\n",
        "/people/eno6k "
       ]
      },
      {
       "output_type": "stream",
       "stream": "stdout",
       "text": [
        "\n",
        "/people/vjo2f "
       ]
      },
      {
       "output_type": "stream",
       "stream": "stdout",
       "text": [
        "\n",
        "/people/gso "
       ]
      },
      {
       "output_type": "stream",
       "stream": "stdout",
       "text": [
        "\n",
        "/people/jp "
       ]
      },
      {
       "output_type": "stream",
       "stream": "stdout",
       "text": [
        "\n",
        "/people/jlp4ca "
       ]
      },
      {
       "output_type": "stream",
       "stream": "stdout",
       "text": [
        "\n",
        "/people/bmp7e "
       ]
      },
      {
       "output_type": "stream",
       "stream": "stdout",
       "text": [
        "\n",
        "/people/sfr "
       ]
      },
      {
       "output_type": "stream",
       "stream": "stdout",
       "text": [
        "\n",
        "/people/rr5m "
       ]
      },
      {
       "output_type": "stream",
       "stream": "stdout",
       "text": [
        "\n",
        "/people/ejr2f "
       ]
      },
      {
       "output_type": "stream",
       "stream": "stdout",
       "text": [
        "\n",
        "/people/hes7x "
       ]
      },
      {
       "output_type": "stream",
       "stream": "stdout",
       "text": [
        "\n",
        "/people/cmr8v "
       ]
      },
      {
       "output_type": "stream",
       "stream": "stdout",
       "text": [
        "\n",
        "/people/mr9zf "
       ]
      },
      {
       "output_type": "stream",
       "stream": "stdout",
       "text": [
        "\n",
        "/people/js6gn "
       ]
      },
      {
       "output_type": "stream",
       "stream": "stdout",
       "text": [
        "\n",
        "/people/jes4bd "
       ]
      },
      {
       "output_type": "stream",
       "stream": "stdout",
       "text": [
        "\n",
        "/people/ss9fp "
       ]
      },
      {
       "output_type": "stream",
       "stream": "stdout",
       "text": [
        "\n",
        "/people/lrs9e "
       ]
      },
      {
       "output_type": "stream",
       "stream": "stdout",
       "text": [
        "\n",
        "/people/pms2b "
       ]
      },
      {
       "output_type": "stream",
       "stream": "stdout",
       "text": [
        "\n",
        "/people/acs4j "
       ]
      },
      {
       "output_type": "stream",
       "stream": "stdout",
       "text": [
        "\n",
        "/people/es5y "
       ]
      },
      {
       "output_type": "stream",
       "stream": "stdout",
       "text": [
        "\n",
        "/people/mes2ee "
       ]
      },
      {
       "output_type": "stream",
       "stream": "stdout",
       "text": [
        "\n",
        "/people/ams4k "
       ]
      },
      {
       "output_type": "stream",
       "stream": "stdout",
       "text": [
        "\n",
        "/people/mfs3x "
       ]
      },
      {
       "output_type": "stream",
       "stream": "stdout",
       "text": [
        "\n",
        "/people/js3f "
       ]
      },
      {
       "output_type": "stream",
       "stream": "stdout",
       "text": [
        "\n",
        "/people/pss8m "
       ]
      },
      {
       "output_type": "stream",
       "stream": "stdout",
       "text": [
        "\n",
        "/people/ct2a "
       ]
      },
      {
       "output_type": "stream",
       "stream": "stdout",
       "text": [
        "\n",
        "/people/jtt8g "
       ]
      },
      {
       "output_type": "stream",
       "stream": "stdout",
       "text": [
        "\n",
        "/people/ht2t "
       ]
      },
      {
       "output_type": "stream",
       "stream": "stdout",
       "text": [
        "\n",
        "/people/dlv8g "
       ]
      },
      {
       "output_type": "stream",
       "stream": "stdout",
       "text": [
        "\n",
        "/people/cw5p "
       ]
      },
      {
       "output_type": "stream",
       "stream": "stdout",
       "text": [
        "\n",
        "/people/mow5p "
       ]
      },
      {
       "output_type": "stream",
       "stream": "stdout",
       "text": [
        "\n",
        "/people/lw5y "
       ]
      },
      {
       "output_type": "stream",
       "stream": "stdout",
       "text": [
        "\n",
        "/people/ "
       ]
      },
      {
       "output_type": "stream",
       "stream": "stdout",
       "text": [
        "\n"
       ]
      }
     ],
     "prompt_number": 132
    },
    {
     "cell_type": "code",
     "collapsed": false,
     "input": [
      "print EnglMaster1\n",
      "len (EnglMaster1)"
     ],
     "language": "python",
     "metadata": {},
     "outputs": [
      {
       "output_type": "stream",
       "stream": "stdout",
       "text": [
        "['None', 'Ph.D. Chicago 1990', 'Ph.D. Yale, 1978', 'None', \"The Doctor's House\", 'None', 'Ph.D. Princeton, 1986', 'Ph.D. Yale, 1975', 'Ph.D. Columbia, 1998', 'Ph.D., University of Virginia, 2014', 'Ph.D. Harvard, 1971', 'None', 'None', 'Ph.D. University of California, Irvine, 2005', 'Ph.D. University of Illinois at Urbana-Champaign, 2000', 'Ph.D. Stanford University, 1979', 'Ph.D., University of California, Berkeley, 2004', 'Ph.D. Columbia, 1952', 'None', 'Ph.D. Yale, 1982', 'Ph.D. University of Illinois at Urbana-Champaign, 2000', 'None', 'Ph.D. Lehigh University, 2013', 'None', 'None', 'Ph.D. Yale, 1985', 'Ph.D. U.C. Berkeley, 1976', 'Ph.D. Monash University, 1987', 'Ph.D. Harvard, 1992', 'Ph.D. Columbia, 1988', 'Ph.D., University of Virginia, 2014', 'None', 'Ph.D., University of Virginia, 2014', 'None', 'Ph.D. Yale (American Studies), 2001', 'None', 'Ph.D. University of Virginia, 2014', 'Ph.D. Brandeis University, 2012', 'None', '\\n\\tPh.D. Harvard, 2011', 'None', 'Ph.D. Columbia, 1996', 'None', 'None', 'None', 'Ph.D., University of Virginia, 2014', 'Ph.D. University of Chicago, 1985', 'None', 'Ph.D. Yale 1983', 'Ph.D. Yale, 1984', 'None', 'None', 'None', 'Ph.D. University of Nebraska-Lincoln, 2013', 'Ph.D. Virginia, 2002', 'None', 'Ph.D. Stanford, 1979', 'None', 'None', 'Ph.D. Stanford, 1988', 'PhD University of Virginia 2009', 'None', 'Ph.D. Johns Hopkins, 1982', 'Ph.D. University of Virginia 2014', 'Ph.D. Yale, 1966', 'None', 'None', '\\n\\tPh.D. University of Virginia, 2004', 'None', 'Ph.D. University of Chicago, 1995', 'Ph.D., University of Pennsylvania, 2010', 'Ph.D. University of Chicago, 2003', 'None', 'Ph.D. University of Virginia, 1984', 'None', 'Ph.D. Stanford University, 2006', 'Ph.D. Columbia, 1975', 'Ph.D. Yale, 1988', 'Ph.D. University of Virginia 2012', 'Ph.D. (English language and literature) University of Virginia, 2009', 'Ph.D. University of Virginia, 1995', 'Ph.D. University of Chicago, 1983', 'None', 'Ph.D. New York University 1990', 'Ph.D. Yale, 1998', 'None', 'None', '\\n\\tPh.D., h.c., Lund, Sweden, 2011', 'None', 'Ph.D., University of Virginia, 2013', 'Ph.D. University of Virginia, 1998', 'None', 'None', 'None', 'None', 'None', 'Ph.D. Yale, 1977', 'Ph.D. Wisconsin, 1981', 'Ph.D. Chicago, 1992', 'Ph.D. Duke University, 1995', 'Ph.D. Wisconsin-Madison, 2000', 'None']\n"
       ]
      },
      {
       "metadata": {},
       "output_type": "pyout",
       "prompt_number": 133,
       "text": [
        "102"
       ]
      }
     ],
     "prompt_number": 133
    },
    {
     "cell_type": "code",
     "collapsed": false,
     "input": [
      "#Add Engl to master faculty list\n",
      "\n",
      "for i in range(0,len(EnglMaster1)):\n",
      "    Faculty.append(EnglMaster[i])\n",
      "    Faculty.append(EnglMaster1[i])"
     ],
     "language": "python",
     "metadata": {},
     "outputs": [],
     "prompt_number": 251
    },
    {
     "cell_type": "code",
     "collapsed": false,
     "input": [
      "print len(Faculty)"
     ],
     "language": "python",
     "metadata": {},
     "outputs": [
      {
       "output_type": "stream",
       "stream": "stdout",
       "text": [
        "258\n"
       ]
      }
     ],
     "prompt_number": 252
    },
    {
     "cell_type": "code",
     "collapsed": false,
     "input": [
      "# Math department faculty\n",
      "# code to extract from webpage and write to local file\n",
      "\n",
      "url = ('http://www.math.virginia.edu/faculty')\n",
      "page = urllib2.urlopen(url)\n",
      "soup = BeautifulSoup(page.read())\n",
      "\n",
      "MathMaster = []\n",
      "#select name title and webpage by HTML attributes\n",
      "for row in soup.find_all('tr'):       \n",
      "    names = row.find_all('h4')\n",
      "    title = row.find_all('h5')\n",
      "    webpage = row.find_all(href=re.compile('people'))\n",
      "    \n",
      "    try:\n",
      "        a = str(names[0].get_text())\n",
      "        c = str(title[0].get_text())\n",
      "        e = str(webpage[0]).split('\"')[1]\n",
      "        odds = a,\",\" +c,\",\"+e\n",
      "        print odds  # for debugging\n",
      "        MathMaster.append(odds)\n",
      "    except:\n",
      "        #print \"bad string\"\n",
      "        continue"
     ],
     "language": "python",
     "metadata": {},
     "outputs": [
      {
       "output_type": "stream",
       "stream": "stdout",
       "text": [
        "('Abdelmalek Abdesselam', ',Associate Professor', ',/people/aa4cr ')\n",
        "('Peter Abramenko', ',Professor', ',/people/pa8e ')\n",
        "('Greg Arone', ',Professor', ',/people/zga2m ')\n",
        "('Yen Do', ',Assistant Professor', ',/people/yqd3p ')\n",
        "('Mikhail Ershov', ',Associate Professor', ',/people/mve2x ')\n",
        "('Christian Gromoll', ',Associate Professor', ',/people/hcg3m ')\n",
        "('Zoran Grujic', ',Professor', ',/people/zg7c ')\n",
        "('Ira Herbst', ',Professor', ',/people/iwh ')\n",
        "('Michael Hill', ',Associate Professor', ',/people/mah7cd ')\n",
        "('Jeffrey Holt', ',Professor', ',/people/jjh2b ')\n",
        "('Craig Huneke', ',Marvin Rosenblum Professor & Chair', ',/people/clh4xd ')\n",
        "('John Imbrie', ',Professor & Associate Chair', ',/people/ji2k ')\n",
        "('Slava Krushkal', ',Professor', ',/people/vk6e ')\n",
        "('Nicholas Kuhn', ',Professor', ',/people/njk4x ')\n",
        "('Thomas Mark', ',Associate Professor', ',/people/tmark ')\n",
        "('Tai Melcher', ',Associate Professor', ',/people/tam7b ')\n",
        "('Andrew Obus', ',Assistant Professor', ',/people/aso9t ')\n",
        "('Karen Parshall', ',Professor', ',/people/khp3k ')\n",
        "('Brian Parshall', ',G. T. Whyburn Professor', ',/people/bjp8w ')\n",
        "('Leonid Petrov', ',Assistant Professor', ',/people/lap5r ')\n",
        "('Donald Ramirez', ',Professor', ',/people/der ')\n",
        "('Andrei Rapinchuk', ',McConnell-Bernard Professor of Mathematics', ',/people/asr3x ')\n",
        "('David Sherman', ',Associate Professor', ',/people/des5e ')\n",
        "('Weiqiang Wang', ',Professor', ',/people/ww9c ')\n",
        "('Benjamin Webster', ',Assistant Professor', ',/people/btw4e ')\n",
        "('David Hill', ',Instructor', ',/people/deh4n ')\n",
        "('Rajinder Mavi', ',Whyburn Instructor', ',/people/rsm8y ')\n",
        "('Lennart Meier', ',Whyburn Instructor', ',/people/flm5z ')\n",
        "('Luis Nunez-Betancourt', ',Whyburn Instructor', ',/people/lcn8m ')\n",
        "('Luis  Pereira', ',Mary Ann Pitts Post-Doctoral Fellow in Mathematics', ',/people/lp2h ')\n",
        "('Christopher Ramsey', ',Postdoctoral Fellow', ',/people/cir6d ')\n",
        "('Bulent  Tosun', ',Whyburn Instructor', ',/people/bt5t ')\n",
        "('Zezhou Zhang', ',Whyburn Instructor', ',/people/zz2d ')\n",
        "('Ala Abdelbaki', ',Lecturer', ',/people/aha3e ')\n",
        "('Paul Bourdon', ',Lecturer', ',/people/psb7p ')\n",
        "('Marja Kankaanrinta', ',Lecturer', ',/people/mk5aq ')\n",
        "('Eduardo Socolovsky', ',Lecturer', ',/people/eas2cs ')\n",
        "('Doug Thomasey', ',Lecturer', ',/people/dht3r@virginia.edu ')\n",
        "('Charles Dunkl', ',Professor Emeritus', ',/people/cfd5z ')\n",
        "('John Faulkner', ',Professor Emeritus', ',/people/jrf ')\n",
        "('James Howland', ',Professor Emeritus', ',/people/jsh2a ')\n",
        "('Thomas Kriete', ',Professor Emeritus', ',/people/tlk8q ')"
       ]
      },
      {
       "output_type": "stream",
       "stream": "stdout",
       "text": [
        "\n",
        "('Irena Lasiecka', ',Professor Emeritus, Virginia;  Univ. Distinguished Professor, University of Memphis', ',/people/il2v ')\n",
        "('Barbara MacCluer', ',Professor Emeritus', ',/people/bdm3f ')\n",
        "('Nathaniel Martin', ',Professor Emeritus', ',/people/nfm ')\n",
        "('Kevin McCrimmon', ',Professor Emeritus', ',/people/kmm4m ')\n",
        "('Eugene  Paige', ',Professor Emeritus', ',/people/ecp ')\n",
        "('Loren Pitt', ',Professor Emeritus', ',/people/ldp ')\n",
        "('James Rovnyak', ',Professor Emeritus', ',/people/jlr5m ')\n",
        "('Leonard Scott', ',Professor Emeritus', ',/people/lls2l ')\n",
        "('Lawrence Thomas', ',Professor Emeritus', ',/people/let ')\n",
        "('Roberto Triggiani', ',Professor Emeritus, Virginia;  Univ. Distinguished Professor, University of Memphis', ',/people/rt7u ')\n",
        "('Harold Ward', ',Professor Emeritus', ',/people/hnw ')\n"
       ]
      }
     ],
     "prompt_number": 137
    },
    {
     "cell_type": "code",
     "collapsed": false,
     "input": [
      "#Remove item in list due to ascii unicode error in their webpage.  I am not able to resolve issue.\n",
      "#MathMaster.pop(6)  #zg7c\n",
      "MathMaster.pop(50)  #rt7u\n",
      "print MathMaster[50]"
     ],
     "language": "python",
     "metadata": {},
     "outputs": [
      {
       "output_type": "stream",
       "stream": "stdout",
       "text": [
        "('Harold Ward', ',Professor Emeritus', ',/people/hnw ')\n"
       ]
      }
     ],
     "prompt_number": 150
    },
    {
     "cell_type": "code",
     "collapsed": false,
     "input": [
      "#Extract Math individual web address suffix\n",
      "MathIndivurl = []\n",
      "for item in MathMaster:\n",
      "    MathIndiv = item[2].split(',')[1]\n",
      "    MathIndivurl.append(MathIndiv)\n",
      "\n",
      "print MathIndivurl"
     ],
     "language": "python",
     "metadata": {},
     "outputs": [
      {
       "output_type": "stream",
       "stream": "stdout",
       "text": [
        "['/people/aa4cr ', '/people/pa8e ', '/people/zga2m ', '/people/yqd3p ', '/people/mve2x ', '/people/hcg3m ', '/people/iwh ', '/people/mah7cd ', '/people/jjh2b ', '/people/clh4xd ', '/people/ji2k ', '/people/vk6e ', '/people/njk4x ', '/people/tmark ', '/people/tam7b ', '/people/aso9t ', '/people/khp3k ', '/people/bjp8w ', '/people/lap5r ', '/people/der ', '/people/asr3x ', '/people/des5e ', '/people/ww9c ', '/people/btw4e ', '/people/deh4n ', '/people/rsm8y ', '/people/flm5z ', '/people/lcn8m ', '/people/lp2h ', '/people/cir6d ', '/people/bt5t ', '/people/zz2d ', '/people/aha3e ', '/people/psb7p ', '/people/mk5aq ', '/people/eas2cs ', '/people/dht3r@virginia.edu ', '/people/cfd5z ', '/people/jrf ', '/people/jsh2a ', '/people/tlk8q ', '/people/il2v ', '/people/bdm3f ', '/people/nfm ', '/people/kmm4m ', '/people/ecp ', '/people/ldp ', '/people/jlr5m ', '/people/lls2l ', '/people/let ', '/people/hnw ']\n"
       ]
      }
     ],
     "prompt_number": 151
    },
    {
     "cell_type": "code",
     "collapsed": false,
     "input": [
      "#look up the Ph.D. school for each faculty member on their individual web page\n",
      "MathMaster1 = []\n",
      "\n",
      "for row in MathIndivurl:\n",
      "    print row\n",
      "\n",
      "    url = ('http://www.math.virginia.edu')\n",
      "    person = row\n",
      "    combinedurl = (url+person)\n",
      "    page = urllib2.urlopen(combinedurl)\n",
      "    soup = BeautifulSoup(page.read())\n",
      "    edNoPunc = str(soup.find(text=re.compile(\"PhD\")))\n",
      "    edPeriod = str(soup.find(text=re.compile(\"Ph.D.\")))\n",
      "    edLong = str(soup.find(text=re.compile(\"Doctor\")))\n",
      "    if edNoPunc != 'None':\n",
      "        Ed = edNoPunc\n",
      "    elif edPeriod != 'None':\n",
      "        Ed = edPeriod\n",
      "    elif edLong != None:\n",
      "        Ed = edLong\n",
      "    else:\n",
      "        continue\n",
      "    MathMaster1.append(Ed)"
     ],
     "language": "python",
     "metadata": {},
     "outputs": [
      {
       "output_type": "stream",
       "stream": "stdout",
       "text": [
        "/people/aa4cr \n",
        "/people/pa8e "
       ]
      },
      {
       "output_type": "stream",
       "stream": "stdout",
       "text": [
        "\n",
        "/people/zga2m "
       ]
      },
      {
       "output_type": "stream",
       "stream": "stdout",
       "text": [
        "\n",
        "/people/yqd3p "
       ]
      },
      {
       "output_type": "stream",
       "stream": "stdout",
       "text": [
        "\n",
        "/people/mve2x "
       ]
      },
      {
       "output_type": "stream",
       "stream": "stdout",
       "text": [
        "\n",
        "/people/hcg3m "
       ]
      },
      {
       "output_type": "stream",
       "stream": "stdout",
       "text": [
        "\n",
        "/people/iwh "
       ]
      },
      {
       "output_type": "stream",
       "stream": "stdout",
       "text": [
        "\n",
        "/people/mah7cd "
       ]
      },
      {
       "output_type": "stream",
       "stream": "stdout",
       "text": [
        "\n",
        "/people/jjh2b "
       ]
      },
      {
       "output_type": "stream",
       "stream": "stdout",
       "text": [
        "\n",
        "/people/clh4xd "
       ]
      },
      {
       "output_type": "stream",
       "stream": "stdout",
       "text": [
        "\n",
        "/people/ji2k "
       ]
      },
      {
       "output_type": "stream",
       "stream": "stdout",
       "text": [
        "\n",
        "/people/vk6e "
       ]
      },
      {
       "output_type": "stream",
       "stream": "stdout",
       "text": [
        "\n",
        "/people/njk4x "
       ]
      },
      {
       "output_type": "stream",
       "stream": "stdout",
       "text": [
        "\n",
        "/people/tmark "
       ]
      },
      {
       "output_type": "stream",
       "stream": "stdout",
       "text": [
        "\n",
        "/people/tam7b "
       ]
      },
      {
       "output_type": "stream",
       "stream": "stdout",
       "text": [
        "\n",
        "/people/aso9t "
       ]
      },
      {
       "output_type": "stream",
       "stream": "stdout",
       "text": [
        "\n",
        "/people/khp3k "
       ]
      },
      {
       "output_type": "stream",
       "stream": "stdout",
       "text": [
        "\n",
        "/people/bjp8w "
       ]
      },
      {
       "output_type": "stream",
       "stream": "stdout",
       "text": [
        "\n",
        "/people/lap5r "
       ]
      },
      {
       "output_type": "stream",
       "stream": "stdout",
       "text": [
        "\n",
        "/people/der "
       ]
      },
      {
       "output_type": "stream",
       "stream": "stdout",
       "text": [
        "\n",
        "/people/asr3x "
       ]
      },
      {
       "output_type": "stream",
       "stream": "stdout",
       "text": [
        "\n",
        "/people/des5e "
       ]
      },
      {
       "output_type": "stream",
       "stream": "stdout",
       "text": [
        "\n",
        "/people/ww9c "
       ]
      },
      {
       "output_type": "stream",
       "stream": "stdout",
       "text": [
        "\n",
        "/people/btw4e "
       ]
      },
      {
       "output_type": "stream",
       "stream": "stdout",
       "text": [
        "\n",
        "/people/deh4n "
       ]
      },
      {
       "output_type": "stream",
       "stream": "stdout",
       "text": [
        "\n",
        "/people/rsm8y "
       ]
      },
      {
       "output_type": "stream",
       "stream": "stdout",
       "text": [
        "\n",
        "/people/flm5z "
       ]
      },
      {
       "output_type": "stream",
       "stream": "stdout",
       "text": [
        "\n",
        "/people/lcn8m "
       ]
      },
      {
       "output_type": "stream",
       "stream": "stdout",
       "text": [
        "\n",
        "/people/lp2h "
       ]
      },
      {
       "output_type": "stream",
       "stream": "stdout",
       "text": [
        "\n",
        "/people/cir6d "
       ]
      },
      {
       "output_type": "stream",
       "stream": "stdout",
       "text": [
        "\n",
        "/people/bt5t "
       ]
      },
      {
       "output_type": "stream",
       "stream": "stdout",
       "text": [
        "\n",
        "/people/zz2d "
       ]
      },
      {
       "output_type": "stream",
       "stream": "stdout",
       "text": [
        "\n",
        "/people/aha3e "
       ]
      },
      {
       "output_type": "stream",
       "stream": "stdout",
       "text": [
        "\n",
        "/people/psb7p "
       ]
      },
      {
       "output_type": "stream",
       "stream": "stdout",
       "text": [
        "\n",
        "/people/mk5aq "
       ]
      },
      {
       "output_type": "stream",
       "stream": "stdout",
       "text": [
        "\n",
        "/people/eas2cs "
       ]
      },
      {
       "output_type": "stream",
       "stream": "stdout",
       "text": [
        "\n",
        "/people/dht3r@virginia.edu "
       ]
      },
      {
       "output_type": "stream",
       "stream": "stdout",
       "text": [
        "\n",
        "/people/cfd5z "
       ]
      },
      {
       "output_type": "stream",
       "stream": "stdout",
       "text": [
        "\n",
        "/people/jrf "
       ]
      },
      {
       "output_type": "stream",
       "stream": "stdout",
       "text": [
        "\n",
        "/people/jsh2a "
       ]
      },
      {
       "output_type": "stream",
       "stream": "stdout",
       "text": [
        "\n",
        "/people/tlk8q "
       ]
      },
      {
       "output_type": "stream",
       "stream": "stdout",
       "text": [
        "\n",
        "/people/il2v "
       ]
      },
      {
       "output_type": "stream",
       "stream": "stdout",
       "text": [
        "\n",
        "/people/bdm3f "
       ]
      },
      {
       "output_type": "stream",
       "stream": "stdout",
       "text": [
        "\n",
        "/people/nfm "
       ]
      },
      {
       "output_type": "stream",
       "stream": "stdout",
       "text": [
        "\n",
        "/people/kmm4m "
       ]
      },
      {
       "output_type": "stream",
       "stream": "stdout",
       "text": [
        "\n",
        "/people/ecp "
       ]
      },
      {
       "output_type": "stream",
       "stream": "stdout",
       "text": [
        "\n",
        "/people/ldp "
       ]
      },
      {
       "output_type": "stream",
       "stream": "stdout",
       "text": [
        "\n",
        "/people/jlr5m "
       ]
      },
      {
       "output_type": "stream",
       "stream": "stdout",
       "text": [
        "\n",
        "/people/lls2l "
       ]
      },
      {
       "output_type": "stream",
       "stream": "stdout",
       "text": [
        "\n",
        "/people/let "
       ]
      },
      {
       "output_type": "stream",
       "stream": "stdout",
       "text": [
        "\n",
        "/people/hnw "
       ]
      },
      {
       "output_type": "stream",
       "stream": "stdout",
       "text": [
        "\n"
       ]
      }
     ],
     "prompt_number": 152
    },
    {
     "cell_type": "code",
     "collapsed": false,
     "input": [
      "print MathMaster1\n",
      "len (MathMaster1)"
     ],
     "language": "python",
     "metadata": {},
     "outputs": [
      {
       "output_type": "stream",
       "stream": "stdout",
       "text": [
        "['\\n\\t\\tDoctor of Philosophy (PhD), Ecole Polytechnique', '\\n\\t\\tDoctor of Philosophy (PhD), Johann Wolfgang Goethe-Universitat', '\\n\\t\\tDoctor of Philosophy (PhD), Brown University', 'None', '\\n\\t\\tDoctor of Philosophy (PhD), Yale University', '\\n\\t\\tDoctor of Philosophy (PhD), University of California, San Diego', '\\n\\t\\tDoctor of Philosophy (PhD), University of California, Berkeley', '\\n\\t\\tDoctor of Philosophy (PhD), Massachusetts Institute of Technology', '\\n\\t\\tDoctor of Philosophy (PhD), University of Texas', 'None', '\\n\\t\\tDoctor of Philosophy (PhD), Harvard University', '\\n\\t\\tDoctor of Philosophy (PhD), University of California, San Diego', '\\n\\t\\tDoctor of Philosophy (PhD), University of Chicago', '\\n\\t\\tDoctor of Philosophy (PhD), Michigan State University', '\\n\\t\\tDoctor of Philosophy (PhD), University of California, San Diego', 'None', '\\n\\t\\tDoctor of Philosophy (PhD), University of Chicago', '\\n\\t\\tDoctor of Philosophy (PhD), Yale University', 'None', '\\n\\t\\tDoctor of Philosophy (PhD), Tulane University', '\\n\\t\\tDoctor of Philosophy (PhD), National Academy of Sciences', '\\n\\t\\tDoctor of Philosophy (PhD), University of California, Los Angeles', 'None', 'None', 'None', 'None', 'None', 'None', 'Mary Ann Pitts Post-Doctoral Fellow in Mathematics', 'None', 'None', 'None', 'None', 'None', 'None', 'None', 'None', 'None', 'None', 'None', '\\n\\t\\tDoctor of Philosophy (PhD), University of Virginia', '\\n\\t\\tDoctor of Philosophy (PhD), Warsaw University', '\\n\\t\\tDoctor of Philosophy (PhD), Michigan State University', 'None', 'None', 'None', 'None', 'None', 'None', '\\n\\t\\tDoctor of Philosophy (PhD), Yale University', 'None']\n"
       ]
      },
      {
       "metadata": {},
       "output_type": "pyout",
       "prompt_number": 153,
       "text": [
        "51"
       ]
      }
     ],
     "prompt_number": 153
    },
    {
     "cell_type": "code",
     "collapsed": false,
     "input": [
      "#Add Math to master faculty list\n",
      "\n",
      "for i in range(0,len(MathMaster1)):\n",
      "    Faculty.append(MathMaster[i])\n",
      "    Faculty.append(MathMaster1[i])"
     ],
     "language": "python",
     "metadata": {},
     "outputs": [],
     "prompt_number": 253
    },
    {
     "cell_type": "code",
     "collapsed": false,
     "input": [
      "print len(Faculty)"
     ],
     "language": "python",
     "metadata": {},
     "outputs": [
      {
       "output_type": "stream",
       "stream": "stdout",
       "text": [
        "360\n"
       ]
      }
     ],
     "prompt_number": 254
    },
    {
     "cell_type": "code",
     "collapsed": false,
     "input": [
      "# Religious studies department faculty\n",
      "\n",
      "# code to extract from webpage and write to local file\n",
      "ReligionMaster = []\n",
      "url = ('http://religiousstudies.virginia.edu/faculty')\n",
      "page = urllib2.urlopen(url)\n",
      "soup = BeautifulSoup(page.read())\n",
      "\n",
      "for row in soup.find_all('tr'):\n",
      "       \n",
      "    names = row.find_all('h3')\n",
      "    title = row.find_all('h5')\n",
      "    webpage = row.find_all(href=re.compile('profile'))\n",
      "    \n",
      "    try:\n",
      "        a = str(names[0].get_text())        \n",
      "        c = str(title[0].get_text())        \n",
      "        e = str(webpage[0]).split('\"')[1]\n",
      "        odds = a,\",\" +c,\",\"+e\n",
      "        print odds  # for debugging\n",
      "        ReligionMaster.append(odds)\n",
      "    except:\n",
      "        #print \"bad string\"\n",
      "        continue"
     ],
     "language": "python",
     "metadata": {},
     "outputs": [
      {
       "output_type": "stream",
       "stream": "stdout",
       "text": [
        "('al-Rahim, Ahmed H. ', ',Assistant Professor', ',/faculty/profile/aa3wn ')\n",
        "('Alexander, Elizabeth  ', ',Associate Professor , Director of Undergraduate Program', ',/faculty/profile/esa3p ')\n",
        "('Biemann, Asher ', ',Associate Professor', ',/faculty/profile/ab5j ')\n",
        "('Bouchard, Larry ', ',Professor', ',/faculty/profile/ldb4k ')\n",
        "('Campbell, John ', ',Assistant Professor', ',/faculty/profile/jrc4aa ')\n",
        "('Childress, James ', ',University Professor & John Allen Hollingsworth Prof, Ethics', ',/faculty/profile/jfc7c ')\n",
        "('Flake, Kathleen ', ',Richard Lyman Bushman Professor of Mormon Studies', ',/faculty/profile/kf7dy ')\n",
        "('Fogarty, Gerald ', ',William R Kenan, Jr. Professor of the History of Christianity ', ',/faculty/profile/gpf ')\n",
        "('Geddes, Jennifer L. ', ', Assistant Professor', ',/faculty/profile/jlg2u ')\n",
        "('Germano, David ', ',Professor', ',/faculty/profile/dfg9w ')\n",
        "('Goering, Greg Schmidt ', ',Associate Professor', ',/faculty/profile/goering ')\n",
        "('Guroian, Vigen ', ',Professor', ',/faculty/profile/vg3xu ')\n",
        "('Hadley, Mark ', ',Associate Professor', ',/faculty/profile/mah2ar ')\n",
        "('Halvorson-Taylor, Martien ', ',Associate Professor & Associate Chair', ',/faculty/profile/maht ')\n",
        "('Hart, Kevin ', ',Edwin B Kyle Professor of Christian Studies', ',/faculty/profile/kjh9u ')\n",
        "('Hedstrom, Matthew ', ',Assistant Professor', ',/faculty/profile/hedstrom ')\n",
        "('Hoehler-Fatton, Cynthia H. ', ',Associate Professor', ',/faculty/profile/chh3a ')\n",
        "('Hudson, Clarke ', ',Assistant Professor', ',/faculty/profile/wch4b ')\n",
        "('Jenkins, Willis ', ',Associate Professor of Religion, Ethics, and Environment,  and Director of Graduate Program', ',/faculty/profile/wjj2c ')\n",
        "('Jones, Paul Dafydd ', ',Associate Professor and Co-director of the Virginia Center for the Study of Religion', ',/faculty/profile/pdj5c ')\n",
        "('Lang, Karen ', ',Professor', ',/faculty/profile/kcl ')\n",
        "('Marsh, Charles ', ',Commonwealth Professor of Religious Studies', ',/faculty/profile/crm3p ')\n",
        "('Mathewes, Charles ', ',Carolyn M. Barbour Professor of Religious Studies', ',/faculty/profile/ctm9d ')\n",
        "('Mohrmann, Margaret E. ', ',Professor', ',/faculty/profile/mem7e ')\n",
        "('Nair, Shankar ', ',Assistant Professor', ',/faculty/profile/san2k ')\n",
        "('Nemec, John ', ',Associate Professor ', ',/faculty/profile/jwn3y ')\n",
        "('Ochs, Peter ', ',Edgar M Bronfman Professor of Modern Judaic Studies', ',/faculty/profile/pwo3v ')\n",
        "('Ochs, Vanessa ', ',Professor', ',/faculty/profile/vlo4n ')\n",
        "('Portmann, John E. ', ',Associate Professor ', ',/faculty/profile/jep7a ')\n",
        "('Ray, Benjamin ', ',Professor', ',/faculty/profile/bcr ')\n",
        "('Schaeffer, Kurtis ', ',Professor and Chair', ',/faculty/profile/ks6bb ')\n",
        "('Schmidt, Jalane ', ',Assistant Professor', ',/faculty/profile/jds7b ')\n",
        "('Shuve, Karl ', ',Assistant Professor', ',/faculty/profile/kes3ba ')\n",
        "('Spittler, Janet ', ',Assistant Professor', ',/faculty/profile/jes9cu ')\n",
        "('Warren, Heather ', ',Associate Professor ', ',/faculty/profile/haw6w ')\n"
       ]
      }
     ],
     "prompt_number": 156
    },
    {
     "cell_type": "code",
     "collapsed": false,
     "input": [
      "#Extract Religion individual web address suffix\n",
      "ReligionIndivurl = []\n",
      "for item in ReligionMaster:\n",
      "    ReligionIndiv = item[2].split(',')[1]\n",
      "    ReligionIndivurl.append(ReligionIndiv)\n",
      "\n",
      "print ReligionIndivurl"
     ],
     "language": "python",
     "metadata": {},
     "outputs": [
      {
       "output_type": "stream",
       "stream": "stdout",
       "text": [
        "['/faculty/profile/aa3wn ', '/faculty/profile/esa3p ', '/faculty/profile/ab5j ', '/faculty/profile/ldb4k ', '/faculty/profile/jrc4aa ', '/faculty/profile/jfc7c ', '/faculty/profile/kf7dy ', '/faculty/profile/gpf ', '/faculty/profile/jlg2u ', '/faculty/profile/dfg9w ', '/faculty/profile/goering ', '/faculty/profile/vg3xu ', '/faculty/profile/mah2ar ', '/faculty/profile/maht ', '/faculty/profile/kjh9u ', '/faculty/profile/hedstrom ', '/faculty/profile/chh3a ', '/faculty/profile/wch4b ', '/faculty/profile/wjj2c ', '/faculty/profile/pdj5c ', '/faculty/profile/kcl ', '/faculty/profile/crm3p ', '/faculty/profile/ctm9d ', '/faculty/profile/mem7e ', '/faculty/profile/san2k ', '/faculty/profile/jwn3y ', '/faculty/profile/pwo3v ', '/faculty/profile/vlo4n ', '/faculty/profile/jep7a ', '/faculty/profile/bcr ', '/faculty/profile/ks6bb ', '/faculty/profile/jds7b ', '/faculty/profile/kes3ba ', '/faculty/profile/jes9cu ', '/faculty/profile/haw6w ']\n"
       ]
      }
     ],
     "prompt_number": 157
    },
    {
     "cell_type": "code",
     "collapsed": false,
     "input": [
      "#Look up Phd school on individual page - for Religious Studies\n",
      "ReligionMaster1 = []\n",
      "for row in ReligionIndivurl:\n",
      "    print row  #for debugging religion has last name, first name - everybody different!\n",
      "\n",
      "    url = ('http://religiousstudies.virginia.edu')\n",
      "    person = row\n",
      "    combinedurl = (url+person)    \n",
      "   \n",
      "    page = urllib2.urlopen(combinedurl)\n",
      "    soup = BeautifulSoup(page.read())\n",
      "    edNoPunc = str(soup.find(text=re.compile(\"PhD\")))\n",
      "    edPeriod = str(soup.find(text=re.compile(\"Ph.D.\")))\n",
      "    edLong = str(soup.find(text=re.compile(\"Doctor\")))\n",
      "    if edNoPunc != 'None':\n",
      "        Ed = edNoPunc\n",
      "    elif edPeriod != 'None':\n",
      "        Ed = edPeriod\n",
      "    elif edLong != None:\n",
      "        Ed = edLong\n",
      "    else:\n",
      "        continue\n",
      "    ReligionMaster1.append(Ed)\n"
     ],
     "language": "python",
     "metadata": {},
     "outputs": [
      {
       "output_type": "stream",
       "stream": "stdout",
       "text": [
        "/faculty/profile/aa3wn \n",
        "/faculty/profile/esa3p "
       ]
      },
      {
       "output_type": "stream",
       "stream": "stdout",
       "text": [
        "\n",
        "/faculty/profile/ab5j "
       ]
      },
      {
       "output_type": "stream",
       "stream": "stdout",
       "text": [
        "\n",
        "/faculty/profile/ldb4k "
       ]
      },
      {
       "output_type": "stream",
       "stream": "stdout",
       "text": [
        "\n",
        "/faculty/profile/jrc4aa "
       ]
      },
      {
       "output_type": "stream",
       "stream": "stdout",
       "text": [
        "\n",
        "/faculty/profile/jfc7c "
       ]
      },
      {
       "output_type": "stream",
       "stream": "stdout",
       "text": [
        "\n",
        "/faculty/profile/kf7dy "
       ]
      },
      {
       "output_type": "stream",
       "stream": "stdout",
       "text": [
        "\n",
        "/faculty/profile/gpf "
       ]
      },
      {
       "output_type": "stream",
       "stream": "stdout",
       "text": [
        "\n",
        "/faculty/profile/jlg2u "
       ]
      },
      {
       "output_type": "stream",
       "stream": "stdout",
       "text": [
        "\n",
        "/faculty/profile/dfg9w "
       ]
      },
      {
       "output_type": "stream",
       "stream": "stdout",
       "text": [
        "\n",
        "/faculty/profile/goering "
       ]
      },
      {
       "output_type": "stream",
       "stream": "stdout",
       "text": [
        "\n",
        "/faculty/profile/vg3xu "
       ]
      },
      {
       "output_type": "stream",
       "stream": "stdout",
       "text": [
        "\n",
        "/faculty/profile/mah2ar "
       ]
      },
      {
       "output_type": "stream",
       "stream": "stdout",
       "text": [
        "\n",
        "/faculty/profile/maht "
       ]
      },
      {
       "output_type": "stream",
       "stream": "stdout",
       "text": [
        "\n",
        "/faculty/profile/kjh9u "
       ]
      },
      {
       "output_type": "stream",
       "stream": "stdout",
       "text": [
        "\n",
        "/faculty/profile/hedstrom "
       ]
      },
      {
       "output_type": "stream",
       "stream": "stdout",
       "text": [
        "\n",
        "/faculty/profile/chh3a "
       ]
      },
      {
       "output_type": "stream",
       "stream": "stdout",
       "text": [
        "\n",
        "/faculty/profile/wch4b "
       ]
      },
      {
       "output_type": "stream",
       "stream": "stdout",
       "text": [
        "\n",
        "/faculty/profile/wjj2c "
       ]
      },
      {
       "output_type": "stream",
       "stream": "stdout",
       "text": [
        "\n",
        "/faculty/profile/pdj5c "
       ]
      },
      {
       "output_type": "stream",
       "stream": "stdout",
       "text": [
        "\n",
        "/faculty/profile/kcl "
       ]
      },
      {
       "output_type": "stream",
       "stream": "stdout",
       "text": [
        "\n",
        "/faculty/profile/crm3p "
       ]
      },
      {
       "output_type": "stream",
       "stream": "stdout",
       "text": [
        "\n",
        "/faculty/profile/ctm9d "
       ]
      },
      {
       "output_type": "stream",
       "stream": "stdout",
       "text": [
        "\n",
        "/faculty/profile/mem7e "
       ]
      },
      {
       "output_type": "stream",
       "stream": "stdout",
       "text": [
        "\n",
        "/faculty/profile/san2k "
       ]
      },
      {
       "output_type": "stream",
       "stream": "stdout",
       "text": [
        "\n",
        "/faculty/profile/jwn3y "
       ]
      },
      {
       "output_type": "stream",
       "stream": "stdout",
       "text": [
        "\n",
        "/faculty/profile/pwo3v "
       ]
      },
      {
       "output_type": "stream",
       "stream": "stdout",
       "text": [
        "\n",
        "/faculty/profile/vlo4n "
       ]
      },
      {
       "output_type": "stream",
       "stream": "stdout",
       "text": [
        "\n",
        "/faculty/profile/jep7a "
       ]
      },
      {
       "output_type": "stream",
       "stream": "stdout",
       "text": [
        "\n",
        "/faculty/profile/bcr "
       ]
      },
      {
       "output_type": "stream",
       "stream": "stdout",
       "text": [
        "\n",
        "/faculty/profile/ks6bb "
       ]
      },
      {
       "output_type": "stream",
       "stream": "stdout",
       "text": [
        "\n",
        "/faculty/profile/jds7b "
       ]
      },
      {
       "output_type": "stream",
       "stream": "stdout",
       "text": [
        "\n",
        "/faculty/profile/kes3ba "
       ]
      },
      {
       "output_type": "stream",
       "stream": "stdout",
       "text": [
        "\n",
        "/faculty/profile/jes9cu "
       ]
      },
      {
       "output_type": "stream",
       "stream": "stdout",
       "text": [
        "\n",
        "/faculty/profile/haw6w "
       ]
      },
      {
       "output_type": "stream",
       "stream": "stdout",
       "text": [
        "\n"
       ]
      }
     ],
     "prompt_number": 162
    },
    {
     "cell_type": "code",
     "collapsed": false,
     "input": [
      "print ReligionMaster1\n",
      "len (ReligionMaster1)"
     ],
     "language": "python",
     "metadata": {},
     "outputs": [
      {
       "output_type": "stream",
       "stream": "stdout",
       "text": [
        "['Doctor of Philosophy (PhD), Yale University', '\\n\\t\\t\\tDoctor of Philosophy (PhD), Yale University', '\\n\\t\\t\\tDoctor of Philosophy (PhD), Karl-Franzens Universitat Graz', '\\n\\t\\t\\tDoctor of Philosophy (PhD), University of Chicago', 'Ph.D. Degree Requirements', '\\n\\t\\tDoctor of Philosophy (PhD), Yale University', 'Ph.D. Degree Requirements', '\\n\\t\\t\\tDoctor of Philosophy (PhD), Yale University', '\\n\\t\\t\\tDoctor of Philosophy (PhD), University of Virginia', '\\n\\t\\t\\tDoctor of Philosophy (PhD), University of Wisconsin', 'Ph.D. Degree Requirements', '\\n\\t\\t\\tDoctor of Philosophy (PhD), Drew University', '\\n\\t\\t\\tDoctor of Philosophy (PhD), Brown University', '\\n\\t\\t\\tDoctor of Philosophy (PhD), Harvard University', '\\n\\t\\t\\tDoctor of Philosophy (PhD), University of Melbourne', '\\n\\t\\t\\tDoctor of Philosophy (PhD), University of Texas System : Austin', '\\n\\t\\t\\tDoctor of Philosophy (PhD), University of Virginia', '\\n\\t\\t\\tDoctor of Philosophy (PhD), Indiana University System : Indiana University-Bloomington', 'Ph.D. Degree Requirements', '\\n\\t\\t\\t\\tDoctor of Philosophy (PhD), Harvard University', '\\n\\t\\t\\tDoctor of Philosophy (PhD), University of Washington', '\\n\\t\\t\\tDoctor of Philosophy (PhD), University of Virginia, 1989', '\\n\\t\\t\\tUniversity of Chicago: PhD (1997)', '\\n\\t\\t\\tDoctor of Philosophy (PhD), University of Virginia', '\\n\\t\\tDoctor of Philosophy (PhD), Harvard University', '\\n\\t\\t\\tDoctor of Philosophy (PhD), University of Pennsylvania', '\\n\\t\\t\\tDoctor of Philosophy (PhD), Yale University', '\\n\\t\\t\\tDoctor of Philosophy (PhD), Drew University', '\\n\\t\\t\\tDoctor of Philosophy (PhD), University of Virginia', '\\n\\t\\t\\tDoctor of Philosophy (PhD), University of Chicago', '\\n\\t\\tDoctor of Philosophy (PhD), Harvard University, 2000. Department of Sanskrit and Indian Studies', '\\n\\t\\t\\tDoctor of Philosophy (PhD), Harvard University', '\\n\\t\\t\\tDoctor of Philosophy (PhD), University of Edinburgh', '\\n\\t\\tPhD University of Chicago', '\\n\\t\\t\\tDoctor of Philosophy (PhD), Johns Hopkins University']\n"
       ]
      },
      {
       "metadata": {},
       "output_type": "pyout",
       "prompt_number": 163,
       "text": [
        "35"
       ]
      }
     ],
     "prompt_number": 163
    },
    {
     "cell_type": "code",
     "collapsed": false,
     "input": [
      "#Add Religion to master faculty list\n",
      "\n",
      "for i in range(0,len(ReligionMaster1)):\n",
      "    Faculty.append(ReligionMaster[i])\n",
      "    Faculty.append(ReligionMaster1[i])"
     ],
     "language": "python",
     "metadata": {},
     "outputs": [],
     "prompt_number": 255
    },
    {
     "cell_type": "code",
     "collapsed": false,
     "input": [
      "print len(Faculty)"
     ],
     "language": "python",
     "metadata": {},
     "outputs": [
      {
       "output_type": "stream",
       "stream": "stdout",
       "text": [
        "430\n"
       ]
      }
     ],
     "prompt_number": 256
    },
    {
     "cell_type": "code",
     "collapsed": false,
     "input": [
      "# Biomedical engineering department faculty\n",
      "\n",
      "# code to extract from webpage and write to local file\n",
      "BMEMaster = []\n",
      "url = ('http://bme.virginia.edu/people/index.html')\n",
      "page = urllib2.urlopen(url)\n",
      "soup = BeautifulSoup(page.read())\n",
      "\n",
      "for row in soup.find_all('a'):\n",
      "    print row\n",
      "    \n",
      "    #BMEIndiv = row.split('\"')[1][2]\n",
      "    BMEMaster.append(row)\n",
      "    \n",
      "print BMEMaster"
     ],
     "language": "python",
     "metadata": {},
     "outputs": [
      {
       "output_type": "stream",
       "stream": "stdout",
       "text": [
        "<a href=\"http://www.virginia.edu/\" target=\"_blank\"><img border=\"0\" height=\"62\" src=\"../images/uva.gif\" width=\"300\"/></a>\n",
        "<a href=\"../index.html\"><img border=\"0\" height=\"72\" src=\"../images/int_collage.jpg\" width=\"960\"/></a>\n",
        "<a href=\"adams.html\">Milton Adams</a>\n",
        "<a href=\"helmke.html\">Brian P. Helmke</a>\n",
        "<a href=\"lawrence.html\">Michael Lawrence</a>\n",
        "<a href=\"allen.html\">Timothy Allen</a>\n",
        "<a href=\"holmes.html\">Jeffrey W. Holmes</a>\n",
        "<a href=\"meyer.html\">Craig Meyer</a>\n",
        "<a href=\"blemker.html\">Silvia Salinas Blemker</a>\n",
        "<a href=\"hossack.html\">John Hossack</a>\n",
        "<a href=\"munson.html\">Jennifer Munson</a>\n",
        "<a href=\"chen.html\">David Chen</a>\n",
        "<a href=\"hu.html\">Song Hu</a>\n",
        "<a href=\"papin.html\">Jason Papin</a>\n",
        "<a href=\"christ.html\">George Christ</a>\n",
        "<a href=\"janes.html\">Kevin Janes</a>\n",
        "<a href=\"peirce.html\">Shayn Peirce-Cottler</a>\n",
        "<a href=\"epstein.html\">Frederick Epstein</a>\n",
        "<a href=\"kelly.html\">Kimberly Kelly</a>\n",
        "<a href=\"price.html\">Richard Price</a>\n",
        "<a href=\"french.html\">Brent French</a>\n",
        "<a href=\"kim.html\">Yong Kim</a>\n",
        "<a href=\"saucerman.html\">Jeff Saucerman</a>\n",
        "<a href=\"guilford.html\">William Guilford</a>\n",
        "<a href=\"skalak.html\">Thomas Skalak</a>\n",
        "<a href=\"acton.html\">Scott Acton</a>\n",
        "<a href=\"herr.html\">John C. Herr</a>\n",
        "<a href=\"rich.html\">George Rich</a>\n",
        "<a href=\"annex.html\">Brian H. Annex</a>\n",
        "<a href=\"kasson.html\">Peter M. Kasson</a>\n",
        "<a href=\"salerno.html\">Michael Salerno</a>\n",
        "<a href=\"berr.html\">Stuart Berr</a>\n",
        "<a href=\"kent.html\">Richard W. Kent</a>\n",
        "<a href=\"sheehan.html\">Jason Sheehan</a>\n",
        "<a href=\"brookeman.html\">James Brookeman</a>\n",
        "<a href=\"klibanov.html\">Alexander L. Klibanov</a>\n",
        "<a href=\"thiele.html\">Robert Thiele</a>\n",
        "<a href=\"crandall.html\">Jeff R. Crandall</a>\n",
        "<a href=\"moorman.html\">J. Randall Moorman</a>\n",
        "<a href=\"williams.html\">Mark Williams</a>\n",
        "<a href=\"deppmann.html\">Christopher Deppmann</a>\n",
        "<a href=\"mugler.html\">John Mugler</a>\n",
        "<a href=\"yang.html\">Zequan Yang</a>\n",
        "<a href=\"fraser.html\">Cassandra L. Fraser</a>\n",
        "<a href=\"periasamy.html\">Ammasi Periasamy</a>\n",
        "<a href=\"yates.html\">Paul  A.  Yates</a>\n",
        "<a href=\"gerling.html\">Greg J. Gerling</a>\n",
        "<a href=\"reed.html\">Michael Reed</a>\n",
        "<a href=\"gillies.html\">George Gillies</a>\n",
        "<a href=\"blackman.html\">Brett Blackman</a>\n",
        "<a href=\"http://www.bme.gatech.edu/facultystaff/faculty_record.php?id=159\" target=\"_blank\">Edward A. Botchwey III</a>\n",
        "<a href=\"ley.html\">Klaus Ley</a>\n",
        "[<a href=\"http://www.virginia.edu/\" target=\"_blank\"><img border=\"0\" height=\"62\" src=\"../images/uva.gif\" width=\"300\"/></a>, <a href=\"../index.html\"><img border=\"0\" height=\"72\" src=\"../images/int_collage.jpg\" width=\"960\"/></a>, <a href=\"adams.html\">Milton Adams</a>, <a href=\"helmke.html\">Brian P. Helmke</a>, <a href=\"lawrence.html\">Michael Lawrence</a>, <a href=\"allen.html\">Timothy Allen</a>, <a href=\"holmes.html\">Jeffrey W. Holmes</a>, <a href=\"meyer.html\">Craig Meyer</a>, <a href=\"blemker.html\">Silvia Salinas Blemker</a>, <a href=\"hossack.html\">John Hossack</a>, <a href=\"munson.html\">Jennifer Munson</a>, <a href=\"chen.html\">David Chen</a>, <a href=\"hu.html\">Song Hu</a>, <a href=\"papin.html\">Jason Papin</a>, <a href=\"christ.html\">George Christ</a>, <a href=\"janes.html\">Kevin Janes</a>, <a href=\"peirce.html\">Shayn Peirce-Cottler</a>, <a href=\"epstein.html\">Frederick Epstein</a>, <a href=\"kelly.html\">Kimberly Kelly</a>, <a href=\"price.html\">Richard Price</a>, <a href=\"french.html\">Brent French</a>, <a href=\"kim.html\">Yong Kim</a>, <a href=\"saucerman.html\">Jeff Saucerman</a>, <a href=\"guilford.html\">William Guilford</a>, <a href=\"skalak.html\">Thomas Skalak</a>, <a href=\"acton.html\">Scott Acton</a>, <a href=\"herr.html\">John C. Herr</a>, <a href=\"rich.html\">George Rich</a>, <a href=\"annex.html\">Brian H. Annex</a>, <a href=\"kasson.html\">Peter M. Kasson</a>, <a href=\"salerno.html\">Michael Salerno</a>, <a href=\"berr.html\">Stuart Berr</a>, <a href=\"kent.html\">Richard W. Kent</a>, <a href=\"sheehan.html\">Jason Sheehan</a>, <a href=\"brookeman.html\">James Brookeman</a>, <a href=\"klibanov.html\">Alexander L. Klibanov</a>, <a href=\"thiele.html\">Robert Thiele</a>, <a href=\"crandall.html\">Jeff R. Crandall</a>, <a href=\"moorman.html\">J. Randall Moorman</a>, <a href=\"williams.html\">Mark Williams</a>, <a href=\"deppmann.html\">Christopher Deppmann</a>, <a href=\"mugler.html\">John Mugler</a>, <a href=\"yang.html\">Zequan Yang</a>, <a href=\"fraser.html\">Cassandra L. Fraser</a>, <a href=\"periasamy.html\">Ammasi Periasamy</a>, <a href=\"yates.html\">Paul  A.  Yates</a>, <a href=\"gerling.html\">Greg J. Gerling</a>, <a href=\"reed.html\">Michael Reed</a>, <a href=\"gillies.html\">George Gillies</a>, <a href=\"blackman.html\">Brett Blackman</a>, <a href=\"http://www.bme.gatech.edu/facultystaff/faculty_record.php?id=159\" target=\"_blank\">Edward A. Botchwey III</a>, <a href=\"ley.html\">Klaus Ley</a>]"
       ]
      },
      {
       "output_type": "stream",
       "stream": "stdout",
       "text": [
        "\n"
       ]
      }
     ],
     "prompt_number": 169
    },
    {
     "cell_type": "code",
     "collapsed": false,
     "input": [
      "#Remove excess items in list.  Unable to filter them out on original selection.\n",
      "#BMEMaster.pop(0)\n",
      "#BMEMaster.pop(1)\n",
      "#BMEMaster.pop(0)\n",
      "print BMEMaster"
     ],
     "language": "python",
     "metadata": {},
     "outputs": [
      {
       "output_type": "stream",
       "stream": "stdout",
       "text": [
        "[<a href=\"helmke.html\">Brian P. Helmke</a>, <a href=\"lawrence.html\">Michael Lawrence</a>, <a href=\"allen.html\">Timothy Allen</a>, <a href=\"holmes.html\">Jeffrey W. Holmes</a>, <a href=\"meyer.html\">Craig Meyer</a>, <a href=\"blemker.html\">Silvia Salinas Blemker</a>, <a href=\"hossack.html\">John Hossack</a>, <a href=\"munson.html\">Jennifer Munson</a>, <a href=\"chen.html\">David Chen</a>, <a href=\"hu.html\">Song Hu</a>, <a href=\"papin.html\">Jason Papin</a>, <a href=\"christ.html\">George Christ</a>, <a href=\"janes.html\">Kevin Janes</a>, <a href=\"peirce.html\">Shayn Peirce-Cottler</a>, <a href=\"epstein.html\">Frederick Epstein</a>, <a href=\"kelly.html\">Kimberly Kelly</a>, <a href=\"price.html\">Richard Price</a>, <a href=\"french.html\">Brent French</a>, <a href=\"kim.html\">Yong Kim</a>, <a href=\"saucerman.html\">Jeff Saucerman</a>, <a href=\"guilford.html\">William Guilford</a>, <a href=\"skalak.html\">Thomas Skalak</a>, <a href=\"acton.html\">Scott Acton</a>, <a href=\"herr.html\">John C. Herr</a>, <a href=\"rich.html\">George Rich</a>, <a href=\"annex.html\">Brian H. Annex</a>, <a href=\"kasson.html\">Peter M. Kasson</a>, <a href=\"salerno.html\">Michael Salerno</a>, <a href=\"berr.html\">Stuart Berr</a>, <a href=\"kent.html\">Richard W. Kent</a>, <a href=\"sheehan.html\">Jason Sheehan</a>, <a href=\"brookeman.html\">James Brookeman</a>, <a href=\"klibanov.html\">Alexander L. Klibanov</a>, <a href=\"thiele.html\">Robert Thiele</a>, <a href=\"crandall.html\">Jeff R. Crandall</a>, <a href=\"moorman.html\">J. Randall Moorman</a>, <a href=\"williams.html\">Mark Williams</a>, <a href=\"deppmann.html\">Christopher Deppmann</a>, <a href=\"mugler.html\">John Mugler</a>, <a href=\"yang.html\">Zequan Yang</a>, <a href=\"fraser.html\">Cassandra L. Fraser</a>, <a href=\"periasamy.html\">Ammasi Periasamy</a>, <a href=\"yates.html\">Paul  A.  Yates</a>, <a href=\"gerling.html\">Greg J. Gerling</a>, <a href=\"reed.html\">Michael Reed</a>, <a href=\"gillies.html\">George Gillies</a>, <a href=\"blackman.html\">Brett Blackman</a>, <a href=\"http://www.bme.gatech.edu/facultystaff/faculty_record.php?id=159\" target=\"_blank\">Edward A. Botchwey III</a>, <a href=\"ley.html\">Klaus Ley</a>]\n"
       ]
      }
     ],
     "prompt_number": 175
    },
    {
     "cell_type": "code",
     "collapsed": false,
     "input": [
      "#BMEIndiv = row.split('\"')[1][2]\n",
      "#Extract BioMedical Engineering individual web address suffix\n",
      "BMEMaster1 = []\n",
      "for item in range(0,47):\n",
      "    print BMEMaster[item]\n",
      "    #BMEMaster1 = BMEMaster[item].split('\"')#[1][2]\n",
      "    #BMEIndivurl.append(BMEIndiv)\n",
      "\n",
      "print BMEMaster1"
     ],
     "language": "python",
     "metadata": {},
     "outputs": [
      {
       "output_type": "stream",
       "stream": "stdout",
       "text": [
        "<a href=\"helmke.html\">Brian P. Helmke</a>\n",
        "<a href=\"lawrence.html\">Michael Lawrence</a>\n",
        "<a href=\"allen.html\">Timothy Allen</a>\n",
        "<a href=\"holmes.html\">Jeffrey W. Holmes</a>\n",
        "<a href=\"meyer.html\">Craig Meyer</a>\n",
        "<a href=\"blemker.html\">Silvia Salinas Blemker</a>\n",
        "<a href=\"hossack.html\">John Hossack</a>\n",
        "<a href=\"munson.html\">Jennifer Munson</a>\n",
        "<a href=\"chen.html\">David Chen</a>\n",
        "<a href=\"hu.html\">Song Hu</a>\n",
        "<a href=\"papin.html\">Jason Papin</a>\n",
        "<a href=\"christ.html\">George Christ</a>\n",
        "<a href=\"janes.html\">Kevin Janes</a>\n",
        "<a href=\"peirce.html\">Shayn Peirce-Cottler</a>\n",
        "<a href=\"epstein.html\">Frederick Epstein</a>\n",
        "<a href=\"kelly.html\">Kimberly Kelly</a>\n",
        "<a href=\"price.html\">Richard Price</a>\n",
        "<a href=\"french.html\">Brent French</a>\n",
        "<a href=\"kim.html\">Yong Kim</a>\n",
        "<a href=\"saucerman.html\">Jeff Saucerman</a>\n",
        "<a href=\"guilford.html\">William Guilford</a>\n",
        "<a href=\"skalak.html\">Thomas Skalak</a>\n",
        "<a href=\"acton.html\">Scott Acton</a>\n",
        "<a href=\"herr.html\">John C. Herr</a>\n",
        "<a href=\"rich.html\">George Rich</a>\n",
        "<a href=\"annex.html\">Brian H. Annex</a>\n",
        "<a href=\"kasson.html\">Peter M. Kasson</a>\n",
        "<a href=\"salerno.html\">Michael Salerno</a>\n",
        "<a href=\"berr.html\">Stuart Berr</a>\n",
        "<a href=\"kent.html\">Richard W. Kent</a>\n",
        "<a href=\"sheehan.html\">Jason Sheehan</a>\n",
        "<a href=\"brookeman.html\">James Brookeman</a>\n",
        "<a href=\"klibanov.html\">Alexander L. Klibanov</a>\n",
        "<a href=\"thiele.html\">Robert Thiele</a>\n",
        "<a href=\"crandall.html\">Jeff R. Crandall</a>\n",
        "<a href=\"moorman.html\">J. Randall Moorman</a>\n",
        "<a href=\"williams.html\">Mark Williams</a>\n",
        "<a href=\"deppmann.html\">Christopher Deppmann</a>\n",
        "<a href=\"mugler.html\">John Mugler</a>\n",
        "<a href=\"yang.html\">Zequan Yang</a>\n",
        "<a href=\"fraser.html\">Cassandra L. Fraser</a>\n",
        "<a href=\"periasamy.html\">Ammasi Periasamy</a>\n",
        "<a href=\"yates.html\">Paul  A.  Yates</a>\n",
        "<a href=\"gerling.html\">Greg J. Gerling</a>\n",
        "<a href=\"reed.html\">Michael Reed</a>\n",
        "<a href=\"gillies.html\">George Gillies</a>\n",
        "<a href=\"blackman.html\">Brett Blackman</a>\n",
        "[]\n"
       ]
      }
     ],
     "prompt_number": 188
    },
    {
     "cell_type": "code",
     "collapsed": false,
     "input": [
      "# computer science department faculty\n",
      "\n",
      "# code to extract from webpage and write to local file\n",
      "CSMaster = []\n",
      "url = ('http://www.cs.virginia.edu/people/faculty/')\n",
      "page = urllib2.urlopen(url)\n",
      "soup = BeautifulSoup(page.read())\n",
      "\n",
      "\n",
      "for row in soup.find_all('td'):\n",
      "    \n",
      "    names = row.find_all('h3')\n",
      "    title = row.find_all('i')    \n",
      "    educ = row.find_all('em')\n",
      "    \n",
      "    try:\n",
      "        a = str(names[0].get_text())       \n",
      "        c = str(title[0].get_text())       \n",
      "        \n",
      "        e = str(educ[0].get_text())       \n",
      "        odds = a,\",\" +c,\",\",\",\"+e  #adding blank column so aligns with faculty list\n",
      "        print odds  # left column printouts\n",
      "        CSMaster.append(odds)\n",
      "    except:\n",
      "        #print \"bad string\"\n",
      "        continue\n"
     ],
     "language": "python",
     "metadata": {},
     "outputs": [
      {
       "output_type": "stream",
       "stream": "stdout",
       "text": [
        "('Connelly Barnes', ',Assistant Professor', ',', ',PhD in Computer Science, Princeton University')\n",
        "('James Cohoon 3', ',Associate Professor', ',', ',PhD in Computer Science, University of Minnesota')\n",
        "('Jack Davidson 2,3', ',Professor', ',', ',PhD in Computer Science, University of Arizona')\n",
        "('David Evans', ',Professor', ',', ',PhD in Computer Science, MIT')\n",
        "('Mark Floryan', ',Lecturer', ',', ',PhD in Computer Science, University of Massachusetts, Amherst')\n",
        "('Andrew Grimshaw ', ',Professor', ',', ',PhD, University of Illinois, Urbana-Champaign')\n",
        "('Tom Horton', ',Associate Professor', ',', ',PhD in Computer Science, University of Edinburgh')\n",
        "('Marty Humphrey', ',Associate Professor', ',', ',PhD in Computer Science, University of Massachusetts')\n",
        "('John Knight 3', ',Professor', ',', ',PhD in Computer Science, Newcastle Upon Tyne')\n",
        "('Jason Lawrence', ',Associate Professor', ',', ',PhD in Computer Science, Princeton University')\n",
        "('Mohammad Mahmoody', ',Assistant Professor', ',', ',PhD in Computer Science, Princeton University')\n",
        "('Worthy Martin', ',Associate Professor', ',', ',PhD in Computer Science, University of Texas-Austin')\n",
        "('Yanjun Qi', ',Assistant Professor', ',', ',PhD in Computer Science, Carnegie Mellon University')\n",
        "('Gabriel Robins3', ',Professor', ',', ',PhD in Computer Science, UCLA')\n",
        "('abhi shelat3', ',Associate Professor', ',', ',PhD in Computer Science, MIT')\n",
        "('Mark Sherriff', ',Associate Professor', ',', ',PhD in Computer Science, NC State University')\n",
        "('Kevin Skadron 2, 3', ',Professor and Department Chair', ',', ',PhD in Computer Science, Princeton University')\n",
        "('John Stankovic 2,3,4', ',BP America Professor', ',', ',PhD in Computer Science, Brown University')\n",
        "('Kevin Sullivan', ',Associate Professor and Endowed Faculty Fellow', ',', ',PhD in Computer Science, University of Washington')\n",
        "('Luther Tychonievich', ',Lecturer', ',', ',PhD in Computer Science, University of Virginia')\n",
        "('Hongning Wang', ',Assistant Professor', ',', ',PhD in Computer Science, University of Illinois, Champaign-Urbana')\n",
        "('Alfred Weaver 2,3', ',Professor', ',', ',PhD in Computer Science, University of Illinois')\n",
        "('Westley Weimer', ',Associate Professor', ',', ',PhD in Computer Science, University of California, Berkeley')\n",
        "('Kamin Whitehouse', ',Commonwealth Associate Professor', ',', ',PhD in Computer Science, University of California, Berkeley')\n"
       ]
      }
     ],
     "prompt_number": 192
    },
    {
     "cell_type": "code",
     "collapsed": false,
     "input": [
      "#Add computer science to master faculty list\n",
      "for i in range(0,len(CSMaster)):\n",
      "    Faculty.append(CSMaster[i])\n",
      "    "
     ],
     "language": "python",
     "metadata": {},
     "outputs": [],
     "prompt_number": 257
    },
    {
     "cell_type": "code",
     "collapsed": false,
     "input": [
      "print len(Faculty)"
     ],
     "language": "python",
     "metadata": {},
     "outputs": [
      {
       "output_type": "stream",
       "stream": "stdout",
       "text": [
        "454\n"
       ]
      }
     ],
     "prompt_number": 258
    },
    {
     "cell_type": "code",
     "collapsed": false,
     "input": [
      "# code to extract Chemistry department faculty name, title and individual url page\n",
      "MasterChemistry = []\n",
      "url = ('http://chem.virginia.edu/faculty-research/faculty/')\n",
      "page = urllib2.urlopen(url)\n",
      "soup = BeautifulSoup(page.read())\n",
      "\n",
      "for row in soup.find_all('li'):\n",
      "    print row.text\n",
      "    print row\n",
      "    MasterChemistry.append(row.text)"
     ],
     "language": "python",
     "metadata": {},
     "outputs": [
      {
       "output_type": "stream",
       "stream": "stdout",
       "text": [
        "Faculty & Research\n",
        "<li class=\"page_item page-item-2 current_page_ancestor current_page_parent\"><a href=\"http://chem.virginia.edu/faculty-research/\">Faculty &amp; Research</a></li>\n",
        "Outreach Programs\n",
        "<li class=\"page_item page-item-4\"><a href=\"http://chem.virginia.edu/outreach-programs/\">Outreach Programs</a></li>\n",
        "Graduate Studies\n",
        "<li class=\"page_item page-item-6\"><a href=\"http://chem.virginia.edu/graduate-studies/\">Graduate Studies</a></li>\n",
        "Events & Seminars\n",
        "<li class=\"page_item page-item-8\"><a href=\"http://chem.virginia.edu/events-seminars/\">Events &amp; Seminars</a></li>\n",
        "Undergraduate Studies\n",
        "<li class=\"page_item page-item-10\"><a href=\"http://chem.virginia.edu/undergraduate-studies/\">Undergraduate Studies</a></li>\n",
        "Contact Us\n",
        "<li class=\"page_item page-item-12\"><a href=\"http://chem.virginia.edu/contact-us/\">Contact Us</a></li>\n",
        "Discipline:\n",
        "<li>Discipline:</li>\n",
        "All\n",
        "<li><a href=\"#show-\">All</a></li>\n",
        "Inorganic\n",
        "<li><a href=\"#show-inorganic\">Inorganic</a></li>\n",
        "Organic\n",
        "<li><a href=\"#show-organic\">Organic</a></li>\n",
        "Physical\n",
        "<li><a href=\"#show-physical\">Physical</a></li>\n",
        "Biological\n",
        "<li><a href=\"#show-biological\">Biological</a></li>\n",
        "Analytical\n",
        "<li><a href=\"#show-analytical\">Analytical</a></li>\n",
        "Education\n",
        "<li><a href=\"#show-education\">Education</a></li>\n",
        "Faculty Ralph O. Allen\n",
        "John H. Bushweller\n",
        "David S. Cafiso\n",
        "Linda Columbus\n",
        "James N. Demas\n",
        "Kateri H. DuBay\n",
        "Sergei A. Egorov\n",
        "Cassandra L. Fraser\n",
        "Andreas Gahlmann\n",
        "Robin Garrod\n",
        "Charles M. Grisham\n",
        "T. Brent Gunnoe\n",
        "W. Dean Harman, Chair\n",
        "Ian Harrison\n",
        "Eric Herbst\n",
        "Michael Hilinski\n",
        "Ku-Lung (Ken) Hsu\n",
        "Donald F. Hunt\n",
        "James P. Landers\n",
        "John S. Lazo\n",
        "Kevin K. Lehmann\n",
        "Hoitung Leung\n",
        "Timothy L. Macdonald\n",
        "Glenn J. McGarvey\n",
        "David H. Metcalf\n",
        "Cameron Mura\n",
        "Michael Palmer\n",
        "Brooks H. Pate\n",
        "Rebecca R. Pompano\n",
        "Lin Pu\n",
        "Laura Serbulea\n",
        "Michael Shirts\n",
        "John D. Simon\n",
        "Richard J. Sundberg\n",
        "Diane M. Szaflarski\n",
        "B. Jill Venton\n",
        "John T. Yates, Jr.\n",
        "\n",
        "\n",
        "<li class=\"overview\"><a href=\"http://chem.virginia.edu/faculty-research/faculty/\">Faculty</a> <ul><li class=\"page_item page-item-754\"><a href=\"http://chem.virginia.edu/faculty-research/faculty/ralph-o-allen/\">Ralph O. Allen</a></li>\n",
        "<li class=\"page_item page-item-88\"><a href=\"http://chem.virginia.edu/faculty-research/faculty/john-h-bushweller/\">John H. Bushweller</a></li>\n",
        "<li class=\"page_item page-item-758\"><a href=\"http://chem.virginia.edu/faculty-research/faculty/david-s-cafiso/\">David S. Cafiso</a></li>\n",
        "<li class=\"page_item page-item-485\"><a href=\"http://chem.virginia.edu/faculty-research/faculty/linda-columbus/\">Linda Columbus</a></li>\n",
        "<li class=\"page_item page-item-762\"><a href=\"http://chem.virginia.edu/faculty-research/faculty/james-n-demas/\">James N. Demas</a></li>\n",
        "<li class=\"page_item page-item-13635\"><a href=\"http://chem.virginia.edu/faculty-research/faculty/kateri-h-dubay/\">Kateri H. DuBay</a></li>\n",
        "<li class=\"page_item page-item-764\"><a href=\"http://chem.virginia.edu/faculty-research/faculty/sergei-a-egorov/\">Sergei A. Egorov</a></li>\n",
        "<li class=\"page_item page-item-144\"><a href=\"http://chem.virginia.edu/faculty-research/faculty/cassandra-l-fraser/\">Cassandra L. Fraser</a></li>\n",
        "<li class=\"page_item page-item-14971\"><a href=\"http://chem.virginia.edu/faculty-research/faculty/andreas-gahlmann/\">Andreas Gahlmann</a></li>\n",
        "<li class=\"page_item page-item-16481\"><a href=\"http://chem.virginia.edu/faculty-research/faculty/robin-garrod/\">Robin Garrod</a></li>\n",
        "<li class=\"page_item page-item-768\"><a href=\"http://chem.virginia.edu/faculty-research/faculty/charles-m-grisham/\">Charles M. Grisham</a></li>\n",
        "<li class=\"page_item page-item-767\"><a href=\"http://chem.virginia.edu/faculty-research/faculty/t-brent-gunnoe/\">T. Brent Gunnoe</a></li>\n",
        "<li class=\"page_item page-item-770\"><a href=\"http://chem.virginia.edu/faculty-research/faculty/w-dean-harman/\">W. Dean Harman, Chair</a></li>\n",
        "<li class=\"page_item page-item-771\"><a href=\"http://chem.virginia.edu/faculty-research/faculty/ian-harrison/\">Ian Harrison</a></li>\n",
        "<li class=\"page_item page-item-7221\"><a href=\"http://chem.virginia.edu/faculty-research/faculty/eric-herbst/\">Eric Herbst</a></li>\n",
        "<li class=\"page_item page-item-12551\"><a href=\"http://chem.virginia.edu/faculty-research/faculty/michael-hilinski/\">Michael Hilinski</a></li>\n",
        "<li class=\"page_item page-item-15459\"><a href=\"http://chem.virginia.edu/faculty-research/faculty/ku-lung-ken-hsu/\">Ku-Lung (Ken) Hsu</a></li>\n",
        "<li class=\"page_item page-item-772\"><a href=\"http://chem.virginia.edu/faculty-research/faculty/donald-f-hunt/\">Donald F. Hunt</a></li>\n",
        "<li class=\"page_item page-item-773\"><a href=\"http://chem.virginia.edu/faculty-research/faculty/james-p-landers/\">James P. Landers</a></li>\n",
        "<li class=\"page_item page-item-13113\"><a href=\"http://chem.virginia.edu/faculty-research/faculty/john-s-lazo/\">John S. Lazo</a></li>\n",
        "<li class=\"page_item page-item-774\"><a href=\"http://chem.virginia.edu/faculty-research/faculty/kevin-k-lehmann/\">Kevin K. Lehmann</a></li>\n",
        "<li class=\"page_item page-item-11686\"><a href=\"http://chem.virginia.edu/faculty-research/faculty/hoitung-leung/\">Hoitung Leung</a></li>\n",
        "<li class=\"page_item page-item-775\"><a href=\"http://chem.virginia.edu/faculty-research/faculty/timothy-l-macdonald/\">Timothy L. Macdonald</a></li>\n",
        "<li class=\"page_item page-item-777\"><a href=\"http://chem.virginia.edu/faculty-research/faculty/glenn-j-mcgarvey/\">Glenn J. McGarvey</a></li>\n",
        "<li class=\"page_item page-item-796\"><a href=\"http://chem.virginia.edu/faculty-research/faculty/david-metcalf/\">David H. Metcalf</a></li>\n",
        "<li class=\"page_item page-item-778\"><a href=\"http://chem.virginia.edu/faculty-research/faculty/cameron-mura/\">Cameron Mura</a></li>\n",
        "<li class=\"page_item page-item-13323\"><a href=\"http://chem.virginia.edu/faculty-research/faculty/michael-palmer/\">Michael Palmer</a></li>\n",
        "<li class=\"page_item page-item-780\"><a href=\"http://chem.virginia.edu/faculty-research/faculty/brooks-h-pate/\">Brooks H. Pate</a></li>\n",
        "<li class=\"page_item page-item-14794\"><a href=\"http://chem.virginia.edu/faculty-research/faculty/rebecca-r-pompano/\">Rebecca R. Pompano</a></li>\n",
        "<li class=\"page_item page-item-781\"><a href=\"http://chem.virginia.edu/faculty-research/faculty/lin-pu/\">Lin Pu</a></li>\n",
        "<li class=\"page_item page-item-11665\"><a href=\"http://chem.virginia.edu/faculty-research/faculty/laura-serbulea/\">Laura Serbulea</a></li>\n",
        "<li class=\"page_item page-item-14676\"><a href=\"http://chem.virginia.edu/faculty-research/faculty/michael-shirts/\">Michael Shirts</a></li>\n",
        "<li class=\"page_item page-item-8199\"><a href=\"http://chem.virginia.edu/faculty-research/faculty/john-d-simon/\">John D. Simon</a></li>\n",
        "<li class=\"page_item page-item-782\"><a href=\"http://chem.virginia.edu/faculty-research/faculty/richard-j-sundberg/\">Richard J. Sundberg</a></li>\n",
        "<li class=\"page_item page-item-13051\"><a href=\"http://chem.virginia.edu/faculty-research/faculty/diane-m-szaflarski/\">Diane M. Szaflarski</a></li>\n",
        "<li class=\"page_item page-item-785\"><a href=\"http://chem.virginia.edu/faculty-research/faculty/b-jill-venton/\">B. Jill Venton</a></li>\n",
        "<li class=\"page_item page-item-786\"><a href=\"http://chem.virginia.edu/faculty-research/faculty/john-t-yates-jr/\">John T. Yates, Jr.</a></li>\n",
        "</ul>\n",
        "</li>\n",
        "Ralph O. Allen\n",
        "<li class=\"page_item page-item-754\"><a href=\"http://chem.virginia.edu/faculty-research/faculty/ralph-o-allen/\">Ralph O. Allen</a></li>\n",
        "John H. Bushweller\n",
        "<li class=\"page_item page-item-88\"><a href=\"http://chem.virginia.edu/faculty-research/faculty/john-h-bushweller/\">John H. Bushweller</a></li>\n",
        "David S. Cafiso\n",
        "<li class=\"page_item page-item-758\"><a href=\"http://chem.virginia.edu/faculty-research/faculty/david-s-cafiso/\">David S. Cafiso</a></li>\n",
        "Linda Columbus\n",
        "<li class=\"page_item page-item-485\"><a href=\"http://chem.virginia.edu/faculty-research/faculty/linda-columbus/\">Linda Columbus</a></li>\n",
        "James N. Demas\n",
        "<li class=\"page_item page-item-762\"><a href=\"http://chem.virginia.edu/faculty-research/faculty/james-n-demas/\">James N. Demas</a></li>\n",
        "Kateri H. DuBay\n",
        "<li class=\"page_item page-item-13635\"><a href=\"http://chem.virginia.edu/faculty-research/faculty/kateri-h-dubay/\">Kateri H. DuBay</a></li>\n",
        "Sergei A. Egorov\n",
        "<li class=\"page_item page-item-764\"><a href=\"http://chem.virginia.edu/faculty-research/faculty/sergei-a-egorov/\">Sergei A. Egorov</a></li>\n",
        "Cassandra L. Fraser\n",
        "<li class=\"page_item page-item-144\"><a href=\"http://chem.virginia.edu/faculty-research/faculty/cassandra-l-fraser/\">Cassandra L. Fraser</a></li>\n",
        "Andreas Gahlmann\n",
        "<li class=\"page_item page-item-14971\"><a href=\"http://chem.virginia.edu/faculty-research/faculty/andreas-gahlmann/\">Andreas Gahlmann</a></li>\n",
        "Robin Garrod\n",
        "<li class=\"page_item page-item-16481\"><a href=\"http://chem.virginia.edu/faculty-research/faculty/robin-garrod/\">Robin Garrod</a></li>\n",
        "Charles M. Grisham\n",
        "<li class=\"page_item page-item-768\"><a href=\"http://chem.virginia.edu/faculty-research/faculty/charles-m-grisham/\">Charles M. Grisham</a></li>\n",
        "T. Brent Gunnoe\n",
        "<li class=\"page_item page-item-767\"><a href=\"http://chem.virginia.edu/faculty-research/faculty/t-brent-gunnoe/\">T. Brent Gunnoe</a></li>\n",
        "W. Dean Harman, Chair\n",
        "<li class=\"page_item page-item-770\"><a href=\"http://chem.virginia.edu/faculty-research/faculty/w-dean-harman/\">W. Dean Harman, Chair</a></li>\n",
        "Ian Harrison\n",
        "<li class=\"page_item page-item-771\"><a href=\"http://chem.virginia.edu/faculty-research/faculty/ian-harrison/\">Ian Harrison</a></li>\n",
        "Eric Herbst\n",
        "<li class=\"page_item page-item-7221\"><a href=\"http://chem.virginia.edu/faculty-research/faculty/eric-herbst/\">Eric Herbst</a></li>\n",
        "Michael Hilinski\n",
        "<li class=\"page_item page-item-12551\"><a href=\"http://chem.virginia.edu/faculty-research/faculty/michael-hilinski/\">Michael Hilinski</a></li>\n",
        "Ku-Lung (Ken) Hsu\n",
        "<li class=\"page_item page-item-15459\"><a href=\"http://chem.virginia.edu/faculty-research/faculty/ku-lung-ken-hsu/\">Ku-Lung (Ken) Hsu</a></li>\n",
        "Donald F. Hunt\n",
        "<li class=\"page_item page-item-772\"><a href=\"http://chem.virginia.edu/faculty-research/faculty/donald-f-hunt/\">Donald F. Hunt</a></li>\n",
        "James P. Landers\n",
        "<li class=\"page_item page-item-773\"><a href=\"http://chem.virginia.edu/faculty-research/faculty/james-p-landers/\">James P. Landers</a></li>\n",
        "John S. Lazo\n",
        "<li class=\"page_item page-item-13113\"><a href=\"http://chem.virginia.edu/faculty-research/faculty/john-s-lazo/\">John S. Lazo</a></li>\n",
        "Kevin K. Lehmann\n",
        "<li class=\"page_item page-item-774\"><a href=\"http://chem.virginia.edu/faculty-research/faculty/kevin-k-lehmann/\">Kevin K. Lehmann</a></li>\n",
        "Hoitung Leung\n",
        "<li class=\"page_item page-item-11686\"><a href=\"http://chem.virginia.edu/faculty-research/faculty/hoitung-leung/\">Hoitung Leung</a></li>\n",
        "Timothy L. Macdonald\n",
        "<li class=\"page_item page-item-775\"><a href=\"http://chem.virginia.edu/faculty-research/faculty/timothy-l-macdonald/\">Timothy L. Macdonald</a></li>\n",
        "Glenn J. McGarvey\n",
        "<li class=\"page_item page-item-777\"><a href=\"http://chem.virginia.edu/faculty-research/faculty/glenn-j-mcgarvey/\">Glenn J. McGarvey</a></li>\n",
        "David H. Metcalf\n",
        "<li class=\"page_item page-item-796\"><a href=\"http://chem.virginia.edu/faculty-research/faculty/david-metcalf/\">David H. Metcalf</a></li>\n",
        "Cameron Mura\n",
        "<li class=\"page_item page-item-778\"><a href=\"http://chem.virginia.edu/faculty-research/faculty/cameron-mura/\">Cameron Mura</a></li>\n",
        "Michael Palmer\n",
        "<li class=\"page_item page-item-13323\"><a href=\"http://chem.virginia.edu/faculty-research/faculty/michael-palmer/\">Michael Palmer</a></li>\n",
        "Brooks H. Pate\n",
        "<li class=\"page_item page-item-780\"><a href=\"http://chem.virginia.edu/faculty-research/faculty/brooks-h-pate/\">Brooks H. Pate</a></li>\n",
        "Rebecca R. Pompano\n",
        "<li class=\"page_item page-item-14794\"><a href=\"http://chem.virginia.edu/faculty-research/faculty/rebecca-r-pompano/\">Rebecca R. Pompano</a></li>\n",
        "Lin Pu\n",
        "<li class=\"page_item page-item-781\"><a href=\"http://chem.virginia.edu/faculty-research/faculty/lin-pu/\">Lin Pu</a></li>\n",
        "Laura Serbulea\n",
        "<li class=\"page_item page-item-11665\"><a href=\"http://chem.virginia.edu/faculty-research/faculty/laura-serbulea/\">Laura Serbulea</a></li>\n",
        "Michael Shirts\n",
        "<li class=\"page_item page-item-14676\"><a href=\"http://chem.virginia.edu/faculty-research/faculty/michael-shirts/\">Michael Shirts</a></li>\n",
        "John D. Simon\n",
        "<li class=\"page_item page-item-8199\"><a href=\"http://chem.virginia.edu/faculty-research/faculty/john-d-simon/\">John D. Simon</a></li>\n",
        "Richard J. Sundberg\n",
        "<li class=\"page_item page-item-782\"><a href=\"http://chem.virginia.edu/faculty-research/faculty/richard-j-sundberg/\">Richard J. Sundberg</a></li>\n",
        "Diane M. Szaflarski\n",
        "<li class=\"page_item page-item-13051\"><a href=\"http://chem.virginia.edu/faculty-research/faculty/diane-m-szaflarski/\">Diane M. Szaflarski</a></li>\n",
        "B. Jill Venton\n",
        "<li class=\"page_item page-item-785\"><a href=\"http://chem.virginia.edu/faculty-research/faculty/b-jill-venton/\">B. Jill Venton</a></li>\n",
        "John T. Yates, Jr.\n",
        "<li class=\"page_item page-item-786\"><a href=\"http://chem.virginia.edu/faculty-research/faculty/john-t-yates-jr/\">John T. Yates, Jr.</a></li>\n"
       ]
      }
     ],
     "prompt_number": 228
    },
    {
     "cell_type": "code",
     "collapsed": false,
     "input": [
      "print MasterChemistry[15:52]   \n",
      "MasterChemistry1 = []\n",
      "MasterChemistry1.append(MasterChemistry[15:52])"
     ],
     "language": "python",
     "metadata": {},
     "outputs": [
      {
       "output_type": "stream",
       "stream": "stdout",
       "text": [
        "[u'Ralph O. Allen', u'John H. Bushweller', u'David S. Cafiso', u'Linda Columbus', u'James N. Demas', u'Kateri H. DuBay', u'Sergei A. Egorov', u'Cassandra L. Fraser', u'Andreas Gahlmann', u'Robin Garrod', u'Charles M. Grisham', u'T. Brent Gunnoe', u'W. Dean Harman, Chair', u'Ian Harrison', u'Eric Herbst', u'Michael Hilinski', u'Ku-Lung (Ken) Hsu', u'Donald F. Hunt', u'James P. Landers', u'John S. Lazo', u'Kevin K. Lehmann', u'Hoitung Leung', u'Timothy L. Macdonald', u'Glenn J. McGarvey', u'David H. Metcalf', u'Cameron Mura', u'Michael Palmer', u'Brooks H. Pate', u'Rebecca R. Pompano', u'Lin Pu', u'Laura Serbulea', u'Michael Shirts', u'John D. Simon', u'Richard J. Sundberg', u'Diane M. Szaflarski', u'B. Jill Venton', u'John T. Yates, Jr.']\n"
       ]
      }
     ],
     "prompt_number": 225
    },
    {
     "cell_type": "code",
     "collapsed": false,
     "input": [
      "#Having difficulty extracting the individual professor url from the Faculty page HTML for Chemistry\n",
      "#and the Bio Medical Engineering departments.  I considered parsing these depts in Excel and \n",
      "#extracting the PhD school using the same methodology for the other departments above. Without \n",
      "#these depts I have approx 215 faculty (but less than 200 with the school they obtained their Phd)\n",
      "#The first 406 records have 2 records for each faculty member.  I did not append the lists correctly.\n",
      "\n",
      "#The Faculty file as created by this code:\n",
      "print len(Faculty)\n",
      "for item in range(len(Faculty)):  #used this printed loop to create the csv file\n",
      "    print Faculty[item]\n",
      "#print Faculty"
     ],
     "language": "python",
     "metadata": {},
     "outputs": [
      {
       "output_type": "stream",
       "stream": "stdout",
       "text": [
        "454\n",
        "('Simon Anderson', ',Commonwealth Professor of Economics   ', ',/people/sa9w ')\n",
        "\n",
        "\t\tDoctor of Philosophy (PhD), Queen's University at Kingston\n",
        "('Karim Chalak', ',Assistant Professor', ',/people/kmc2yf ')\n",
        "\n",
        "\t\tPh.D. in Economics, University of California, San Diego\n",
        "('Federico Ciliberto', ',Associate Professor and Director of Graduate Studies', ',/people/fc3p ')\n",
        "\n",
        "\t\tDoctor of Philosophy (PhD), Northwestern University\n",
        "('Lee Coppock', ',Associate Professor', ',/people/lc7p ')\n",
        "\n",
        "\t\tDoctor of Philosophy (PhD), George Mason University\n",
        "('Kenneth Elzinga', ',Professor', ',/people/kgz8z ')\n",
        "\n",
        "\t\tDoctor of Philosophy (Ph.D.) Michigan State University\n",
        "('Maxim Engers', ',Professor', ',/people/mpe2m ')\n",
        "\n",
        "\t\tDoctor of Philosophy (Ph.D), University of California System: Los Angeles\n",
        "('Leora Friedberg', ',Associate Professor', ',/people/lf6s ')\n",
        "Doctor of Philosophy, Massachusetts Institute of Technology\n",
        "('James Harrigan', ',Professor', ',/people/jh4xd ')\n",
        "\n",
        "\t\tDoctor of Philosophy (PhD), University of California System : Los Angeles\n",
        "('Charles Holt', ',A Willis Robertson Professor of Political Economy ', ',/people/cah2k ')\n",
        "\n",
        "\t\tDoctor of Philosophy (PhD), Carnegie Mellon University\n",
        "('William Johnson', ',Georgia S. Bankard Professor', ',/people/wrj8y ')\n",
        "\n",
        "\t\tDoctor of Philosophy (PhD), Massachusetts Institute of Technology\n",
        "('Andrew Kloosterman', ',Assistant Professor', ',/people/ask5b ')\n",
        "Doctor of Philosophy (PhD), New York University\n",
        "('John McLaren', ',Professor', ',/people/jem6x ')\n",
        "\n",
        "\t\tDoctor of Philosophy (PhD), Princeton University\n",
        "('Ron Michener', ',Associate Professor and Director of Undergradute Studies', ',/people/rwm3n ')\n",
        "\n",
        "\t\tDoctor of Philosophy (PhD), University of Chicago\n",
        "('Amalia Miller', ',Associate Professor', ',/people/am5by ')\n",
        "\n",
        "\t\tDoctor of Philosophy (PhD), Stanford University\n",
        "('David Mills', ',Professor', ',/people/dem9j ')\n",
        "\n",
        "\t\tDoctor of Philosophy (PhD), Stanford University\n",
        "('Leonard Mirman', ',Paul G McIntire Professor of Economics', ',/people/lm8h ')\n",
        "\n",
        "\t\tDoctor of Philosophy (PhD), University of Rochester\n",
        "('Toshihiko Mukoyama', ',Associate Professor', ',/people/tm5hs ')\n",
        "\n",
        "\t\tDoctor of Philosophy (PhD), University of Rochester\n",
        "('Denis Nekipelov', ',Associate Professor', ',/people/dn4w ')\n",
        "None\n",
        "('Edgar Olsen', ',Professor', ',/people/eoo ')\n",
        "\n",
        "\t\tDoctor of Philosophy (PhD), Rice University\n",
        "('John Pepper', ',Professor', ',/people/jvp3m ')\n",
        "\n",
        "\t\tDoctor of Philosophy (PhD), University of Wisconsin System : Madison\n",
        "('Latchezar Popov', ',Assistant Professor', ',/people/lap4d ')\n",
        "\n",
        "\t\tDoctor of Philosophy (PhD), University of Iowa\n",
        "('Ariell Reshef', ',Assistant Professor', ',/people/ar7kf ')\n",
        "\n",
        "\t\tDoctor of Philosophy (PhD), New York University\n",
        "('Sheetal Sekhri', ',Assistant Professor', ',/people/ss5mj ')\n",
        "\n",
        "\t\tDoctor of Philosophy (PhD), Brown University\n",
        "('Steven Stern', ',Merrill H Bankard Professor of Economics', ',/people/sns5r ')\n",
        "\n",
        "\t\tDoctor of Philosophy (PhD), Yale University\n",
        "('Peter Troyan', ',Assistant Professor', ',/people/pgt8y ')\n",
        "Doctor of Philosophy: Stanford University\n",
        "('Sarah Turner, Dept. Chair', ',University Professor of Economics & Education ; Souder Family Professor', ',/people/set5h ')\n",
        "\n",
        "\t\tDoctor of Philosophy (PhD), University of Michigan System : Ann Arbor\n",
        "('Eric Van Wincoop', ',Robert P Black Research Professor of Economics', ',/people/ev4n ')\n",
        "\n",
        "\t\tDoctor of Philosophy (PhD), Harvard University\n",
        "('Jane  Alison', ',Professor', ',/people/jas2ad ')\n",
        "None\n",
        "('Stephen Arata', ',Professor', ',/people/sda2e ')\n",
        "Ph.D. Chicago 1990\n",
        "('Peter Baker', ',Professor', ',/people/psb6m ')\n",
        "Ph.D. Yale, 1978\n",
        "('Martin Battestin', ',Emeritus', ',/people/mcb9g ')\n",
        "None\n",
        "('Ann Beattie', ',Edgar Allan Poe Professor Emerita', ',/people/ab9s ')\n",
        "The Doctor's House\n",
        "('Sydney Blair', ',Associate Professor', ',/people/shb7f ')\n",
        "None\n",
        "('Alison Booth', ',Professor', ',/people/ab6j ')\n",
        "Ph.D. Princeton, 1986\n",
        "('Gordon Braden', ',Emeritus', ',/people/gmb5s ')\n",
        "Ph.D. Yale, 1975\n",
        "('Anna Brickhouse', ',Associate Professor', ',/people/acb2hf ')\n",
        "Ph.D. Columbia, 1998\n",
        "('Paul Broyles', ',Postdoctoral Preceptor', ',/people/pab8d ')\n",
        "Ph.D., University of Virginia, 2014\n",
        "('Paul Cantor', ',Clifton Waller Barrett Professor', ',/people/pac2j ')\n",
        "Ph.D. Harvard, 1971\n",
        "('John Casey', ',Henry Hoyns Professor', ',/people/jdc ')\n",
        "None\n",
        "('John T. Casteen, III', ',University Professor, Professor of English, President Emeritus', ',/people/jtc ')\n",
        "None\n",
        "('Mrinalini Chakravorty', ',Associate Professor', ',/people/mc5je ')\n",
        "Ph.D. University of California, Irvine, 2005\n",
        "('Claire Chantell', ',Lecturer', ',/people/cc2de ')\n",
        "Ph.D. University of Illinois at Urbana-Champaign, 2000\n",
        "('Karen Chase', ',Linden Kent Memorial Professor', ',/people/ksc3j ')\n",
        "Ph.D. Stanford University, 1979\n",
        "('Sylvia Chong', ',Associate Professor', ',/people/sc9ar ')\n",
        "Ph.D., University of California, Berkeley, 2004\n",
        "('Ralph Cohen', ',William R. Kenan, Jr. Professor Emeritus', ',/people/rc ')\n",
        "Ph.D. Columbia, 1952\n",
        "('Sarah Cole', ',Assistant Professor and Assistant Dean', ',/people/src2j ')\n",
        "None\n",
        "('Stephen Cushman', ',Robert C. Taylor Professor', ',/people/sbc9g ')\n",
        "Ph.D. Yale, 1982\n",
        "(\"Jon D'Errico\", ',Assistant Professor, Associate Director of Academic and Professional Writing', ',/people/jd5j ')\n",
        "Ph.D. University of Illinois at Urbana-Champaign, 2000\n",
        "('Elizabeth Denton', ',Lecturer', ',/people/ed3m ')\n",
        "None\n",
        "('Devin Donovan', ',Lecturer in English', ',/people/djd5b ')\n",
        "Ph.D. Lehigh University, 2013\n",
        "('Keith Driver', ',Lecturer in English', ',/people/kd2fa ')\n",
        "None\n",
        "('Hoyt Duggan', ',Emeritus', ',/people/hnd ')\n",
        "None\n",
        "('Mark Edmundson', ',University Professor', ',/people/mwe ')\n",
        "Ph.D. Yale, 1985\n",
        "('Jessica Feldman', ',Professor', ',/people/jrf2j ')\n",
        "Ph.D. U.C. Berkeley, 1976\n",
        "('Rita Felski', ',William R Kenan, Jr. Professor; Editor, New Literary History', ',/people/rf6d ')\n",
        "Ph.D. Monash University, 1987\n",
        "('Elizabeth Fowler', ',Associate Professor', ',/people/ef4n ')\n",
        "Ph.D. Harvard, 1992\n",
        "('Susan Fraiman', ',Professor', ',/people/sdf8x ')\n",
        "Ph.D. Columbia, 1988\n",
        "('Kristin Gilger', ',Lecturer', ',/people/keg7z ')\n",
        "Ph.D., University of Virginia, 2014\n",
        "('Lisa Goff', ',Lecturer', ',/people/lg6t ')\n",
        "None\n",
        "('Audrey Golden', ',Postdoctoral Preceptor', ',/people/ajg3ac ')\n",
        "Ph.D., University of Virginia, 2014\n",
        "('K. Ian Grandison', ',University Professor', ',/people/kig6n ')\n",
        "None\n",
        "('Jennifer Greeson', ',Associate Professor, Director of Undergraduate Studies', ',/people/jrg6k ')\n",
        "Ph.D. Yale (American Studies), 2001\n",
        "('Paul Guest', ',Assistant Professor', ',/people/pmg4w ')\n",
        "None\n",
        "('Madigan Haley', ',Postdoctoral Preceptor', ',/people/mkh3a ')\n",
        "Ph.D. University of Virginia, 2014\n",
        "('Njelle Hamilton', ',Assistant Professor Department of English; and Carter G. Woodson Institute for African and African-American Studies ', ',/people/nwh9f ')\n",
        "Ph.D. Brandeis University, 2012\n",
        "('Kevin Hart', ',Edwin B. Kyle Professor of Christian Studies; Professor, Department of Religious Studies; Courtesy Professor in English and French', ',/people/ ')\n",
        "None\n",
        "('Stephen Hequembourg', ',ACLS Fellow', ',/people/sbh5u ')\n",
        "\n",
        "\tPh.D. Harvard, 2011\n",
        "('E. D. Hirsch', ',Emeritus', ',/people/edh9k ')\n",
        "None\n",
        "('Bruce Holsinger', ',Professor', ',/people/bh9n ')\n",
        "Ph.D. Columbia, 1996\n",
        "('Alan Howard', ',Emeritus', ',/people/abh9h ')\n",
        "None\n",
        "('J. Paul Hunter', ',Emeritus', ',/people/jph7f ')\n",
        "None\n",
        "('Alison Hurley', ',Lecturer', ',/people/aeh6t ')\n",
        "None\n",
        "('Sarah Ingle', ',Lecturer', ',/people/sei5j ')\n",
        "Ph.D., University of Virginia, 2014\n",
        "('Walter Jost', ',Professor', ',/people/wpj ')\n",
        "Ph.D. University of Chicago, 1985\n",
        "('C. Brian Kelly', ',Lecturer', ',/people/cbk6f ')\n",
        "None\n",
        "('J. Daniel  Kinney', ',Professor, Director of Graduate Studies', ',/people/jdk3t ')\n",
        "Ph.D. Yale 1983\n",
        "('Clare Kinney', ',Associate Professor, Director of Graduate Admissions', ',/people/crk4h ')\n",
        "Ph.D. Yale, 1984\n",
        "('Arthur Kirsch', ',Emeritus', ',/people/ack ')\n",
        "None\n",
        "('Harold Kolb', ',Emeritus', ',/people/hhk6s ')\n",
        "None\n",
        "('Walter Korte', ',Associate Professor', ',/people/wfk ')\n",
        "None\n",
        "('Kate Kostelnik', ',Lecturer in English', ',/people/kpk7e ')\n",
        "Ph.D. University of Nebraska-Lincoln, 2013\n",
        "('Christopher Krentz', ',Associate Professor', ',/people/ck9m ')\n",
        "Ph.D. Virginia, 2002\n",
        "('Robert Langbaum', ',Emeritus', ',/people/rwl8v ')\n",
        "None\n",
        "('Michael Levenson', ',William B. Christian Professor', ',/people/mhc ')\n",
        "Ph.D. Stanford, 1979\n",
        "('Jacob C. Levenson', ',Emeritus', ',/people/jcl3g ')\n",
        "None\n",
        "('James (Jeb) Livingood', ',Lecturer', ',/people/jsl9z ')\n",
        "None\n",
        "('Victor Luftig', ',Professor, Director of the Center for the Liberal Arts', ',/people/vl4n ')\n",
        "Ph.D. Stanford, 1988\n",
        "('Rennie Mapp', ',Lecturer', ',/people/rcm7e ')\n",
        "PhD University of Virginia 2009\n",
        "('Pamela Marcantel', ',Undergraduate Administrator', ',/people/mpm3a ')\n",
        "None\n",
        "('Katharine Maus', ',James Branch Cabell Professor, Associate Chair', ',/people/kem6v ')\n",
        "Ph.D. Johns Hopkins, 1982\n",
        "('Ann Mazur', ',Shannon Fellow', ',/people/amm3ad ')\n",
        "Ph.D. University of Virginia 2014\n",
        "('Jerome McGann', ',University Professor, John Stewart Bryan Professor', ',/people/jjm2f ')\n",
        "Ph.D. Yale, 1966\n",
        "('David Morris', ',Emeritus', ',/people/dbm6e ')\n",
        "None\n",
        "('James Nohrnberg', ',Emeritus', ',/people/jcn ')\n",
        "None\n",
        "('Bethany Nowviskie', ',Research Associate Professor of Digital Humanities, Director of the Digital Library Federation', ',/people/bpn2f ')\n",
        "\n",
        "\tPh.D. University of Virginia, 2004\n",
        "('Debra Nystrom', ',Professor', ',/people/dln8u ')\n",
        "None\n",
        "(\"John O'Brien\", ',NEH Daniels Family Distinguished Teaching Professor', ',/people/jo6p ')\n",
        "Ph.D. University of Chicago, 1995\n",
        "('Emily Ogden', ',Assistant Professor', ',/people/eno6k ')\n",
        "Ph.D., University of Pennsylvania, 2010\n",
        "('Victoria Olwell', ',Associate Professor, Director of Graduate Placement', ',/people/vjo2f ')\n",
        "Ph.D. University of Chicago, 2003\n",
        "('Gregory Orr', ',Professor', ',/people/gso ')\n",
        "None\n",
        "('J. Frank Papovich', ',Lecturer and Assistant Dean', ',/people/jp ')\n",
        "Ph.D. University of Virginia, 1984\n",
        "('John Parker', ',Associate Professor', ',/people/jlp4ca ')\n",
        "None\n",
        "('Brad Pasanek', ',Assistant Professor', ',/people/bmp7e ')\n",
        "Ph.D. Stanford University, 2006\n",
        "('Stephen Railton', ',Professor', ',/people/sfr ')\n",
        "Ph.D. Columbia, 1975\n",
        "('Jahan Ramazani', ',Edgar F. Shannon Professor', ',/people/rr5m ')\n",
        "Ph.D. Yale, 1988\n",
        "('Eric Rettberg', ',Shannon Fellow', ',/people/ejr2f ')\n",
        "Ph.D. University of Virginia 2012\n",
        "('Hallie Smith Richmond', ',Lecturer', ',/people/hes7x ')\n",
        "Ph.D. (English language and literature) University of Virginia, 2009\n",
        "('Caroline Rody', ',Professor, Director of Distinguished Majors Program', ',/people/cmr8v ')\n",
        "Ph.D. University of Virginia, 1995\n",
        "('Marlon Ross', ',Professor', ',/people/mr9zf ')\n",
        "Ph.D. University of Chicago, 1983\n",
        "('James Salter', ',Kapnick Family Distinguished Writer in Residence', ',/people/js6gn ')\n",
        "None\n",
        "('James Seitz', ',Associate Professor and Director, Academic and Professional Writing Program', ',/people/jes4bd ')\n",
        "Ph.D. New York University 1990\n",
        "('Sandhya Shukla', ',Associate Professor, Director of American Studies', ',/people/ss9fp ')\n",
        "Ph.D. Yale, 1998\n",
        "('Lisa Russ Spaar', ',Professor', ',/people/lrs9e ')\n",
        "None\n",
        "('Patricia Meyer Spacks', ',Edgar F. Shannon Professor Emerita', ',/people/pms2b ')\n",
        "None\n",
        "('A.C. Spearing', ',William R. Kenan, Jr. Professor', ',/people/acs4j ')\n",
        "\n",
        "\tPh.D., h.c., Lund, Sweden, 2011\n",
        "('Elizabeth Spearing', ',Lecturer', ',/people/es5y ')\n",
        "None\n",
        "('Michael Eric Spiegel', ',Postdoctoral Preceptor', ',/people/mes2ee ')\n",
        "Ph.D., University of Virginia, 2013\n",
        "('Andrew Stauffer', ',Associate Professor, Director of NINES', ',/people/ams4k ')\n",
        "Ph.D. University of Virginia, 1998\n",
        "('Michael Suarez', ',University Professor; Director, Rare Book School', ',/people/mfs3x ')\n",
        "None\n",
        "('John Sullivan', ',Associate Professor Emeritus', ',/people/js3f ')\n",
        "None\n",
        "('Patricia Sullivan', ',Lecturer, Director of Writing Center', ',/people/pss8m ')\n",
        "None\n",
        "('Christopher Tilghman', ',Professor', ',/people/ct2a ')\n",
        "None\n",
        "('Jeremy Townley', ',Lecturer', ',/people/jtt8g ')\n",
        "None\n",
        "('Herbert Tucker', ',John C. Coleman Professor', ',/people/ht2t ')\n",
        "Ph.D. Yale, 1977\n",
        "('David Vander Meulen', ',Professor', ',/people/dlv8g ')\n",
        "Ph.D. Wisconsin, 1981\n",
        "('Cynthia Wall', ',Professor and Chair', ',/people/cw5p ')\n",
        "Ph.D. Chicago, 1992\n",
        "('Maurice Wallace', ',Associate Professor', ',/people/mow5p ')\n",
        "Ph.D. Duke University, 1995\n",
        "('Lisa Woolfork', ',Associate Professor', ',/people/lw5y ')\n",
        "Ph.D. Wisconsin-Madison, 2000\n",
        "('Charles Wright', ',Emeritus', ',/people/ ')\n",
        "None\n",
        "('Abdelmalek Abdesselam', ',Associate Professor', ',/people/aa4cr ')\n",
        "\n",
        "\t\tDoctor of Philosophy (PhD), Ecole Polytechnique\n",
        "('Peter Abramenko', ',Professor', ',/people/pa8e ')\n",
        "\n",
        "\t\tDoctor of Philosophy (PhD), Johann Wolfgang Goethe-Universitat\n",
        "('Greg Arone', ',Professor', ',/people/zga2m ')\n",
        "\n",
        "\t\tDoctor of Philosophy (PhD), Brown University\n",
        "('Yen Do', ',Assistant Professor', ',/people/yqd3p ')\n",
        "None\n",
        "('Mikhail Ershov', ',Associate Professor', ',/people/mve2x ')\n",
        "\n",
        "\t\tDoctor of Philosophy (PhD), Yale University\n",
        "('Christian Gromoll', ',Associate Professor', ',/people/hcg3m ')\n",
        "\n",
        "\t\tDoctor of Philosophy (PhD), University of California, San Diego\n",
        "('Ira Herbst', ',Professor', ',/people/iwh ')\n",
        "\n",
        "\t\tDoctor of Philosophy (PhD), University of California, Berkeley\n",
        "('Michael Hill', ',Associate Professor', ',/people/mah7cd ')\n",
        "\n",
        "\t\tDoctor of Philosophy (PhD), Massachusetts Institute of Technology\n",
        "('Jeffrey Holt', ',Professor', ',/people/jjh2b ')\n",
        "\n",
        "\t\tDoctor of Philosophy (PhD), University of Texas\n",
        "('Craig Huneke', ',Marvin Rosenblum Professor & Chair', ',/people/clh4xd ')\n",
        "None\n",
        "('John Imbrie', ',Professor & Associate Chair', ',/people/ji2k ')\n",
        "\n",
        "\t\tDoctor of Philosophy (PhD), Harvard University\n",
        "('Slava Krushkal', ',Professor', ',/people/vk6e ')\n",
        "\n",
        "\t\tDoctor of Philosophy (PhD), University of California, San Diego\n",
        "('Nicholas Kuhn', ',Professor', ',/people/njk4x ')\n",
        "\n",
        "\t\tDoctor of Philosophy (PhD), University of Chicago\n",
        "('Thomas Mark', ',Associate Professor', ',/people/tmark ')\n",
        "\n",
        "\t\tDoctor of Philosophy (PhD), Michigan State University\n",
        "('Tai Melcher', ',Associate Professor', ',/people/tam7b ')\n",
        "\n",
        "\t\tDoctor of Philosophy (PhD), University of California, San Diego\n",
        "('Andrew Obus', ',Assistant Professor', ',/people/aso9t ')\n",
        "None\n",
        "('Karen Parshall', ',Professor', ',/people/khp3k ')\n",
        "\n",
        "\t\tDoctor of Philosophy (PhD), University of Chicago\n",
        "('Brian Parshall', ',G. T. Whyburn Professor', ',/people/bjp8w ')\n",
        "\n",
        "\t\tDoctor of Philosophy (PhD), Yale University\n",
        "('Leonid Petrov', ',Assistant Professor', ',/people/lap5r ')\n",
        "None\n",
        "('Donald Ramirez', ',Professor', ',/people/der ')\n",
        "\n",
        "\t\tDoctor of Philosophy (PhD), Tulane University\n",
        "('Andrei Rapinchuk', ',McConnell-Bernard Professor of Mathematics', ',/people/asr3x ')\n",
        "\n",
        "\t\tDoctor of Philosophy (PhD), National Academy of Sciences\n",
        "('David Sherman', ',Associate Professor', ',/people/des5e ')\n",
        "\n",
        "\t\tDoctor of Philosophy (PhD), University of California, Los Angeles\n",
        "('Weiqiang Wang', ',Professor', ',/people/ww9c ')\n",
        "None\n",
        "('Benjamin Webster', ',Assistant Professor', ',/people/btw4e ')\n",
        "None\n",
        "('David Hill', ',Instructor', ',/people/deh4n ')\n",
        "None\n",
        "('Rajinder Mavi', ',Whyburn Instructor', ',/people/rsm8y ')\n",
        "None\n",
        "('Lennart Meier', ',Whyburn Instructor', ',/people/flm5z ')\n",
        "None\n",
        "('Luis Nunez-Betancourt', ',Whyburn Instructor', ',/people/lcn8m ')\n",
        "None\n",
        "('Luis  Pereira', ',Mary Ann Pitts Post-Doctoral Fellow in Mathematics', ',/people/lp2h ')\n",
        "Mary Ann Pitts Post-Doctoral Fellow in Mathematics\n",
        "('Christopher Ramsey', ',Postdoctoral Fellow', ',/people/cir6d ')\n",
        "None\n",
        "('Bulent  Tosun', ',Whyburn Instructor', ',/people/bt5t ')\n",
        "None\n",
        "('Zezhou Zhang', ',Whyburn Instructor', ',/people/zz2d ')\n",
        "None\n",
        "('Ala Abdelbaki', ',Lecturer', ',/people/aha3e ')\n",
        "None\n",
        "('Paul Bourdon', ',Lecturer', ',/people/psb7p ')\n",
        "None\n",
        "('Marja Kankaanrinta', ',Lecturer', ',/people/mk5aq ')\n",
        "None\n",
        "('Eduardo Socolovsky', ',Lecturer', ',/people/eas2cs ')\n",
        "None\n",
        "('Doug Thomasey', ',Lecturer', ',/people/dht3r@virginia.edu ')\n",
        "None\n",
        "('Charles Dunkl', ',Professor Emeritus', ',/people/cfd5z ')\n",
        "None\n",
        "('John Faulkner', ',Professor Emeritus', ',/people/jrf ')\n",
        "None\n",
        "('James Howland', ',Professor Emeritus', ',/people/jsh2a ')\n",
        "None\n",
        "('Thomas Kriete', ',Professor Emeritus', ',/people/tlk8q ')\n",
        "\n",
        "\t\tDoctor of Philosophy (PhD), University of Virginia\n",
        "('Irena Lasiecka', ',Professor Emeritus, Virginia;  Univ. Distinguished Professor, University of Memphis', ',/people/il2v ')\n",
        "\n",
        "\t\tDoctor of Philosophy (PhD), Warsaw University\n",
        "('Barbara MacCluer', ',Professor Emeritus', ',/people/bdm3f ')\n",
        "\n",
        "\t\tDoctor of Philosophy (PhD), Michigan State University\n",
        "('Nathaniel Martin', ',Professor Emeritus', ',/people/nfm ')\n",
        "None\n",
        "('Kevin McCrimmon', ',Professor Emeritus', ',/people/kmm4m ')\n",
        "None\n",
        "('Eugene  Paige', ',Professor Emeritus', ',/people/ecp ')\n",
        "None\n",
        "('Loren Pitt', ',Professor Emeritus', ',/people/ldp ')\n",
        "None\n",
        "('James Rovnyak', ',Professor Emeritus', ',/people/jlr5m ')\n",
        "None\n",
        "('Leonard Scott', ',Professor Emeritus', ',/people/lls2l ')\n",
        "None\n",
        "('Lawrence Thomas', ',Professor Emeritus', ',/people/let ')\n",
        "\n",
        "\t\tDoctor of Philosophy (PhD), Yale University\n",
        "('Harold Ward', ',Professor Emeritus', ',/people/hnw ')\n",
        "None\n",
        "('al-Rahim, Ahmed H. ', ',Assistant Professor', ',/faculty/profile/aa3wn ')\n",
        "Doctor of Philosophy (PhD), Yale University\n",
        "('Alexander, Elizabeth  ', ',Associate Professor , Director of Undergraduate Program', ',/faculty/profile/esa3p ')\n",
        "\n",
        "\t\t\tDoctor of Philosophy (PhD), Yale University\n",
        "('Biemann, Asher ', ',Associate Professor', ',/faculty/profile/ab5j ')\n",
        "\n",
        "\t\t\tDoctor of Philosophy (PhD), Karl-Franzens Universitat Graz\n",
        "('Bouchard, Larry ', ',Professor', ',/faculty/profile/ldb4k ')\n",
        "\n",
        "\t\t\tDoctor of Philosophy (PhD), University of Chicago\n",
        "('Campbell, John ', ',Assistant Professor', ',/faculty/profile/jrc4aa ')\n",
        "Ph.D. Degree Requirements\n",
        "('Childress, James ', ',University Professor & John Allen Hollingsworth Prof, Ethics', ',/faculty/profile/jfc7c ')\n",
        "\n",
        "\t\tDoctor of Philosophy (PhD), Yale University\n",
        "('Flake, Kathleen ', ',Richard Lyman Bushman Professor of Mormon Studies', ',/faculty/profile/kf7dy ')\n",
        "Ph.D. Degree Requirements\n",
        "('Fogarty, Gerald ', ',William R Kenan, Jr. Professor of the History of Christianity ', ',/faculty/profile/gpf ')\n",
        "\n",
        "\t\t\tDoctor of Philosophy (PhD), Yale University\n",
        "('Geddes, Jennifer L. ', ', Assistant Professor', ',/faculty/profile/jlg2u ')\n",
        "\n",
        "\t\t\tDoctor of Philosophy (PhD), University of Virginia\n",
        "('Germano, David ', ',Professor', ',/faculty/profile/dfg9w ')\n",
        "\n",
        "\t\t\tDoctor of Philosophy (PhD), University of Wisconsin\n",
        "('Goering, Greg Schmidt ', ',Associate Professor', ',/faculty/profile/goering ')\n",
        "Ph.D. Degree Requirements\n",
        "('Guroian, Vigen ', ',Professor', ',/faculty/profile/vg3xu ')\n",
        "\n",
        "\t\t\tDoctor of Philosophy (PhD), Drew University\n",
        "('Hadley, Mark ', ',Associate Professor', ',/faculty/profile/mah2ar ')\n",
        "\n",
        "\t\t\tDoctor of Philosophy (PhD), Brown University\n",
        "('Halvorson-Taylor, Martien ', ',Associate Professor & Associate Chair', ',/faculty/profile/maht ')\n",
        "\n",
        "\t\t\tDoctor of Philosophy (PhD), Harvard University\n",
        "('Hart, Kevin ', ',Edwin B Kyle Professor of Christian Studies', ',/faculty/profile/kjh9u ')\n",
        "\n",
        "\t\t\tDoctor of Philosophy (PhD), University of Melbourne\n",
        "('Hedstrom, Matthew ', ',Assistant Professor', ',/faculty/profile/hedstrom ')\n",
        "\n",
        "\t\t\tDoctor of Philosophy (PhD), University of Texas System : Austin\n",
        "('Hoehler-Fatton, Cynthia H. ', ',Associate Professor', ',/faculty/profile/chh3a ')\n",
        "\n",
        "\t\t\tDoctor of Philosophy (PhD), University of Virginia\n",
        "('Hudson, Clarke ', ',Assistant Professor', ',/faculty/profile/wch4b ')\n",
        "\n",
        "\t\t\tDoctor of Philosophy (PhD), Indiana University System : Indiana University-Bloomington\n",
        "('Jenkins, Willis ', ',Associate Professor of Religion, Ethics, and Environment,  and Director of Graduate Program', ',/faculty/profile/wjj2c ')\n",
        "Ph.D. Degree Requirements\n",
        "('Jones, Paul Dafydd ', ',Associate Professor and Co-director of the Virginia Center for the Study of Religion', ',/faculty/profile/pdj5c ')\n",
        "\n",
        "\t\t\t\tDoctor of Philosophy (PhD), Harvard University\n",
        "('Lang, Karen ', ',Professor', ',/faculty/profile/kcl ')\n",
        "\n",
        "\t\t\tDoctor of Philosophy (PhD), University of Washington\n",
        "('Marsh, Charles ', ',Commonwealth Professor of Religious Studies', ',/faculty/profile/crm3p ')\n",
        "\n",
        "\t\t\tDoctor of Philosophy (PhD), University of Virginia, 1989\n",
        "('Mathewes, Charles ', ',Carolyn M. Barbour Professor of Religious Studies', ',/faculty/profile/ctm9d ')\n",
        "\n",
        "\t\t\tUniversity of Chicago: PhD (1997)\n",
        "('Mohrmann, Margaret E. ', ',Professor', ',/faculty/profile/mem7e ')\n",
        "\n",
        "\t\t\tDoctor of Philosophy (PhD), University of Virginia\n",
        "('Nair, Shankar ', ',Assistant Professor', ',/faculty/profile/san2k ')\n",
        "\n",
        "\t\tDoctor of Philosophy (PhD), Harvard University\n",
        "('Nemec, John ', ',Associate Professor ', ',/faculty/profile/jwn3y ')\n",
        "\n",
        "\t\t\tDoctor of Philosophy (PhD), University of Pennsylvania\n",
        "('Ochs, Peter ', ',Edgar M Bronfman Professor of Modern Judaic Studies', ',/faculty/profile/pwo3v ')\n",
        "\n",
        "\t\t\tDoctor of Philosophy (PhD), Yale University\n",
        "('Ochs, Vanessa ', ',Professor', ',/faculty/profile/vlo4n ')\n",
        "\n",
        "\t\t\tDoctor of Philosophy (PhD), Drew University\n",
        "('Portmann, John E. ', ',Associate Professor ', ',/faculty/profile/jep7a ')\n",
        "\n",
        "\t\t\tDoctor of Philosophy (PhD), University of Virginia\n",
        "('Ray, Benjamin ', ',Professor', ',/faculty/profile/bcr ')\n",
        "\n",
        "\t\t\tDoctor of Philosophy (PhD), University of Chicago\n",
        "('Schaeffer, Kurtis ', ',Professor and Chair', ',/faculty/profile/ks6bb ')\n",
        "\n",
        "\t\tDoctor of Philosophy (PhD), Harvard University, 2000. Department of Sanskrit and Indian Studies\n",
        "('Schmidt, Jalane ', ',Assistant Professor', ',/faculty/profile/jds7b ')\n",
        "\n",
        "\t\t\tDoctor of Philosophy (PhD), Harvard University\n",
        "('Shuve, Karl ', ',Assistant Professor', ',/faculty/profile/kes3ba ')\n",
        "\n",
        "\t\t\tDoctor of Philosophy (PhD), University of Edinburgh\n",
        "('Spittler, Janet ', ',Assistant Professor', ',/faculty/profile/jes9cu ')\n",
        "\n",
        "\t\tPhD University of Chicago\n",
        "('Warren, Heather ', ',Associate Professor ', ',/faculty/profile/haw6w ')\n",
        "\n",
        "\t\t\tDoctor of Philosophy (PhD), Johns Hopkins University\n",
        "('Connelly Barnes', ',Assistant Professor', ',', ',PhD in Computer Science, Princeton University')\n",
        "('James Cohoon 3', ',Associate Professor', ',', ',PhD in Computer Science, University of Minnesota')\n",
        "('Jack Davidson 2,3', ',Professor', ',', ',PhD in Computer Science, University of Arizona')\n",
        "('David Evans', ',Professor', ',', ',PhD in Computer Science, MIT')\n",
        "('Mark Floryan', ',Lecturer', ',', ',PhD in Computer Science, University of Massachusetts, Amherst')\n",
        "('Andrew Grimshaw ', ',Professor', ',', ',PhD, University of Illinois, Urbana-Champaign')\n",
        "('Tom Horton', ',Associate Professor', ',', ',PhD in Computer Science, University of Edinburgh')\n",
        "('Marty Humphrey', ',Associate Professor', ',', ',PhD in Computer Science, University of Massachusetts')\n",
        "('John Knight 3', ',Professor', ',', ',PhD in Computer Science, Newcastle Upon Tyne')\n",
        "('Jason Lawrence', ',Associate Professor', ',', ',PhD in Computer Science, Princeton University')\n",
        "('Mohammad Mahmoody', ',Assistant Professor', ',', ',PhD in Computer Science, Princeton University')\n",
        "('Worthy Martin', ',Associate Professor', ',', ',PhD in Computer Science, University of Texas-Austin')\n",
        "('Yanjun Qi', ',Assistant Professor', ',', ',PhD in Computer Science, Carnegie Mellon University')\n",
        "('Gabriel Robins3', ',Professor', ',', ',PhD in Computer Science, UCLA')\n",
        "('abhi shelat3', ',Associate Professor', ',', ',PhD in Computer Science, MIT')\n",
        "('Mark Sherriff', ',Associate Professor', ',', ',PhD in Computer Science, NC State University')\n",
        "('Kevin Skadron 2, 3', ',Professor and Department Chair', ',', ',PhD in Computer Science, Princeton University')\n",
        "('John Stankovic 2,3,4', ',BP America Professor', ',', ',PhD in Computer Science, Brown University')\n",
        "('Kevin Sullivan', ',Associate Professor and Endowed Faculty Fellow', ',', ',PhD in Computer Science, University of Washington')\n",
        "('Luther Tychonievich', ',Lecturer', ',', ',PhD in Computer Science, University of Virginia')\n",
        "('Hongning Wang', ',Assistant Professor', ',', ',PhD in Computer Science, University of Illinois, Champaign-Urbana')\n",
        "('Alfred Weaver 2,3', ',Professor', ',', ',PhD in Computer Science, University of Illinois')\n",
        "('Westley Weimer', ',Associate Professor', ',', ',PhD in Computer Science, University of California, Berkeley')\n",
        "('Kamin Whitehouse', ',Commonwealth Associate Professor', ',', ',PhD in Computer Science, University of California, Berkeley')\n"
       ]
      }
     ],
     "prompt_number": 260
    },
    {
     "cell_type": "code",
     "collapsed": false,
     "input": [],
     "language": "python",
     "metadata": {},
     "outputs": []
    }
   ],
   "metadata": {}
  }
 ]
}